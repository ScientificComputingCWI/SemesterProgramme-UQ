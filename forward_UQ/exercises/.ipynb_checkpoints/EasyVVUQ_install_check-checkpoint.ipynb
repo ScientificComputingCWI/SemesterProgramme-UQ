{
 "cells": [
  {
   "cell_type": "markdown",
   "id": "26fee298-18c3-4f0d-955e-68874283e32f",
   "metadata": {},
   "source": [
    "# EasyVVUQ installation check\n",
    "\n",
    "For the installation instructions, click [here](https://github.com/ScientificComputingCWI/SemesterProgramme-UQ/blob/main/INSTALL.md)\n",
    "\n",
    "**Note**: if you installed EasyVVUQ using a virtual environment, make sure that:\n",
    "\n",
    "1) you activated the virtual environment, and\n",
    "2) you started this notebook with `myenv/bin/jupyterlab`.\n",
    "\n",
    "In Linux, you can check if this notebook is running in the virtual kernel by executing:"
   ]
  },
  {
   "cell_type": "code",
   "execution_count": 6,
   "id": "afe6b40d-c682-4905-b11f-1e7afa94ba10",
   "metadata": {},
   "outputs": [],
   "source": [
    "#!which python"
   ]
  },
  {
   "cell_type": "markdown",
   "id": "def9f889-f9a2-4cef-9fbc-f35e7243c933",
   "metadata": {},
   "source": [
    "This import should give no errors:"
   ]
  },
  {
   "cell_type": "code",
   "execution_count": 7,
   "id": "58c676a4-bc41-4277-8e9a-2738caf86d76",
   "metadata": {},
   "outputs": [],
   "source": [
    "import easyvvuq\n",
    "import numpy as np"
   ]
  },
  {
   "cell_type": "markdown",
   "id": "3795ed16-e5b4-4be4-b470-044d3d97c64e",
   "metadata": {},
   "source": [
    "And the Numpy version should be < 2.0:"
   ]
  },
  {
   "cell_type": "code",
   "execution_count": 8,
   "id": "3d18d078-176f-4cb3-9a1f-17854dad88e0",
   "metadata": {},
   "outputs": [
    {
     "data": {
      "text/plain": [
       "'1.26.4'"
      ]
     },
     "execution_count": 8,
     "metadata": {},
     "output_type": "execute_result"
    }
   ],
   "source": [
    "np.__version__"
   ]
  },
  {
   "cell_type": "code",
   "execution_count": null,
   "id": "4e13549a-3e0b-4804-a771-7d49edf8b6fa",
   "metadata": {},
   "outputs": [],
   "source": []
  }
 ],
 "metadata": {
  "kernelspec": {
   "display_name": "Python 3 (ipykernel)",
   "language": "python",
   "name": "python3"
  },
  "language_info": {
   "codemirror_mode": {
    "name": "ipython",
    "version": 3
   },
   "file_extension": ".py",
   "mimetype": "text/x-python",
   "name": "python",
   "nbconvert_exporter": "python",
   "pygments_lexer": "ipython3",
   "version": "3.9.16"
  }
 },
 "nbformat": 4,
 "nbformat_minor": 5
}
