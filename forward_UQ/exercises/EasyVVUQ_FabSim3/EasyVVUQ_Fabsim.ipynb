{
 "cells": [
  {
   "cell_type": "markdown",
   "id": "4f80c75c-5618-4d24-a739-a632c3e60d27",
   "metadata": {},
   "source": [
    "# Setting up a basic EasyVVUQ-Fabsim3 campaign\n",
    "\n",
    "We will assume you have executed the basic EasyVVUQ assigment of day 2. Here, we will do the same, except we will **use FabSim3 to execute the ensembles, instead of the EasyVVUQ `ExecuteLocal` class**. As before, we will quantify the uncertainties of our simple advection-diffusion model:\n",
    "\n",
    "\\begin{align*}\n",
    "\\boxed{\n",
    "\\frac{du}{dx} - \\frac{1}{Pe}\\frac{d^2u}{dx^2} = f}\n",
    "\\end{align*}\n",
    "\n",
    "This ODE solves for the velocity $u(x)$, where the spatial domain runs from $x\\in[0,1]$. Homogeneous boundary conditions are applied: $u(0)=u(1)=0$. The solution $u$ depends upon two parameters:\n",
    "\n",
    "* $Pe$: the so-called **Peclet number**, defined as the ratio between the rate of advection and the rate of diffusion,\n",
    "* $f$: the constant forcing term.\n",
    "\n",
    "A numerical solver (finite elements) of this equation is found in from this path in `advection_diffusion_model/advection_diffusion.py`."
   ]
  },
  {
   "cell_type": "code",
   "execution_count": null,
   "id": "13fea71e-e4a8-413e-9744-b615334983d9",
   "metadata": {
    "tags": []
   },
   "outputs": [],
   "source": [
    "#!pip install easyvvuq\n",
    "#!pip install \"numpy>=1.0,<2.0\""
   ]
  },
  {
   "cell_type": "code",
   "execution_count": 2,
   "id": "84c26fdc-ba35-4c3a-9e96-a847bcae11e7",
   "metadata": {},
   "outputs": [],
   "source": [
    "import os\n",
    "import numpy as np\n",
    "import matplotlib.pyplot as plt\n",
    "\n",
    "import chaospy as cp\n",
    "import easyvvuq as uq\n",
    "from easyvvuq.actions import CreateRunDirectory, Encode, Decode, ExecuteLocal, Actions"
   ]
  },
  {
   "cell_type": "markdown",
   "id": "b3c0bd6d-e376-408e-ba85-7bd6b78d3e01",
   "metadata": {},
   "source": [
    "### Flags\n",
    "\n",
    "These are the EasyVVUQ flags we used before:\n",
    "\n",
    "* `HOME`: simply the current directory,\n",
    "* `WORK_DIR`: this is where all the EasyVVUQ ensembles runs will be stored,\n",
    "* `CAMPAIGN_NAME`: this is the name of the EasyVVUQ campaign, explained later."
   ]
  },
  {
   "cell_type": "code",
   "execution_count": 3,
   "id": "e3e8eaa5-889b-477e-9b0d-dd5d235eb1ee",
   "metadata": {
    "tags": []
   },
   "outputs": [],
   "source": [
    "# home directory\n",
    "HOME = os.getcwd()\n",
    "# Work directory, where the easyVVUQ directory will be placed\n",
    "WORK_DIR = '/tmp'\n",
    "# EasyVVUQ Campaign name\n",
    "CAMPAIGN_NAME = 'adv_diff'"
   ]
  },
  {
   "cell_type": "markdown",
   "id": "be98cf77-aea4-4b2d-ac9a-bf8e2b3aea64",
   "metadata": {},
   "source": [
    "### Define parameter space\n",
    "\n",
    "We will have to define a dictionary that minimally describes the type (typically `float` or maybe `integer`) of each input, as well as its default value. Below we create the `params` dict for the Peclet number $Pe$ and forcing term $f$."
   ]
  },
  {
   "cell_type": "code",
   "execution_count": 4,
   "id": "e00d93f3-d781-4a75-8e7c-cc8102f6bd35",
   "metadata": {
    "tags": []
   },
   "outputs": [],
   "source": [
    "# Define parameter space: type & default value\n",
    "params = {\n",
    "    \"Pe\": {\n",
    "        \"type\": \"float\",\n",
    "        \"default\": 100.0},\n",
    "    \"f\": {\n",
    "        \"type\": \"float\",\n",
    "        \"default\": 1.0}}"
   ]
  },
  {
   "cell_type": "markdown",
   "id": "43f6dba2-3811-44d1-993f-48a2c74bd801",
   "metadata": {},
   "source": [
    "### Choose input distributions\n",
    "\n",
    "Here we assign a probability density function to inputs from the `params` dict.  EasyVVUQ uses the Chaospy library for this purpose. A list of available distributions can be found [here](https://chaospy.readthedocs.io/en/master/reference/distribution/index.html).\n",
    "\n",
    "All parameters that we actually want to vary are stored in the `vary`. These must also occur in the `params` dict. The converse is not true. If we only wish to vary a subset of the inputs in the `params` dict, we simply leave out the inputs in the `vary` dict that we do not want to change. These excluded inputs will automatically be assigned their default value in all ensemble runs.\n",
    "\n",
    "**Assigment**: Assign uniform distribution to both inputs, using the `cp.Uniform` distribution, bounded to $\\pm10\\%$ of the defaults values:"
   ]
  },
  {
   "cell_type": "code",
   "execution_count": 5,
   "id": "09c476d5-c888-4d5b-a8ef-cb2ac26bf93c",
   "metadata": {
    "tags": []
   },
   "outputs": [
    {
     "data": {
      "text/plain": [
       "{'Pe': Uniform(lower=90.0, upper=110.00000000000001),\n",
       " 'f': Uniform(lower=0.9, upper=1.1)}"
      ]
     },
     "execution_count": 5,
     "metadata": {},
     "output_type": "execute_result"
    }
   ],
   "source": [
    "vary = {'Pe' : cp.Uniform(0.9 * params['Pe']['default'], 1.1 * params['Pe']['default']),\n",
    "        'f' :  cp.Uniform(0.9 * params['f']['default'], 1.1 * params['f']['default'])}\n",
    "vary"
   ]
  },
  {
   "cell_type": "markdown",
   "id": "95aca3ce-2947-44b1-a62d-94d1b52ce16f",
   "metadata": {},
   "source": [
    "### Input file encoding\n",
    "\n",
    "We require some way of feeding new parameter values to whatever simulation code we are examining. This is done by creating an **input template**. The `encoder` class cabn read this template and fill it with input samples drawn from the distributions of the `vary dict`. We will use the `GenericEncoder` for this purpose. It take 3 arguments:\n",
    "\n",
    "* `template_fname`: this is the input template created in the previous exercise\n",
    "* `delimiter`: the delimiter sought out by the encoder\n",
    "* `target_filename`: the name of the input file"
   ]
  },
  {
   "cell_type": "code",
   "execution_count": 6,
   "id": "fd5441c7-935f-47ed-bf28-4cada36f3806",
   "metadata": {
    "tags": []
   },
   "outputs": [],
   "source": [
    "encoder = uq.encoders.GenericEncoder(template_fname='advection_diffusion_model/input.template',\n",
    "                                     delimiter='$',\n",
    "                                     target_filename='input.json')"
   ]
  },
  {
   "cell_type": "markdown",
   "id": "946a58b4-5fc7-4296-86db-b81aeece05ac",
   "metadata": {},
   "source": [
    "### Output file decoding\n",
    "\n",
    "We once more use the `SimpleCSV` decoder to extract the velocity $u$ from the CSV output file:"
   ]
  },
  {
   "cell_type": "code",
   "execution_count": 7,
   "id": "f80ad618-b3cd-4bf5-9bf7-278e89af92a9",
   "metadata": {
    "tags": []
   },
   "outputs": [],
   "source": [
    "decoder = uq.decoders.SimpleCSV(target_filename='output.csv', \n",
    "                                output_columns=['u'])"
   ]
  },
  {
   "cell_type": "markdown",
   "id": "85d7c4f1-d817-4515-a82e-d167623d8ddb",
   "metadata": {},
   "source": [
    "### Actions: creating a sequence of steps\n",
    "\n",
    "Up to this point everything was the same an in the previous advection-diffusion tutorial. There we defined the following actions, stringing the whole workflow into a single `Actions` object:\n",
    "\n",
    "```python\n",
    "execute = ExecuteLocal('python {}/advection_diffusion_model/advection_diffusion.py'.format(HOME))\n",
    "actions = Actions(CreateRunDirectory(WORK_DIR, flatten=True), Encode(encoder), execute, Decode(decoder))\n",
    "```\n",
    "\n",
    "Here, we will break the Actions in three pieces:\n",
    "\n",
    "1) Create the ensemble directories and encode the input file\n",
    "\n",
    "2) Run ensemble using FabSim3\n",
    "\n",
    "3) Decode\n",
    "\n",
    "Step 1:"
   ]
  },
  {
   "cell_type": "code",
   "execution_count": 8,
   "id": "c66f5972-af7d-4c58-b90d-17016ba5e0f8",
   "metadata": {
    "tags": []
   },
   "outputs": [],
   "source": [
    "# create the run directories and encode the input file\n",
    "actions = Actions(CreateRunDirectory(WORK_DIR, flatten=True), Encode(encoder))"
   ]
  },
  {
   "cell_type": "markdown",
   "id": "f93e937a-b58a-465b-a4be-5797c097e98f",
   "metadata": {},
   "source": [
    "Create a campain:"
   ]
  },
  {
   "cell_type": "code",
   "execution_count": 9,
   "id": "36b6a418-29cc-4c9d-aadc-4c4de86792e5",
   "metadata": {
    "tags": []
   },
   "outputs": [],
   "source": [
    "campaign = uq.Campaign(work_dir=WORK_DIR, name=CAMPAIGN_NAME,\n",
    "                       params=params, actions=actions)"
   ]
  },
  {
   "cell_type": "markdown",
   "id": "25b8ba7d-d97f-49dc-91de-15f884a8b911",
   "metadata": {},
   "source": [
    "Select a sampler:"
   ]
  },
  {
   "cell_type": "code",
   "execution_count": 10,
   "id": "960e4475-386d-4b12-80aa-0a7abd184960",
   "metadata": {
    "tags": []
   },
   "outputs": [],
   "source": [
    "sampler = uq.sampling.SCSampler(vary=vary, polynomial_order=4)\n",
    "campaign.set_sampler(sampler)"
   ]
  },
  {
   "cell_type": "markdown",
   "id": "dbee112f-0fd1-444c-924b-a1aa4ff67182",
   "metadata": {},
   "source": [
    "And execute the actions. At this point you can check if `WORKDIR` contains your campaign directory with encoded input files. The code itself has not been executed yet."
   ]
  },
  {
   "cell_type": "code",
   "execution_count": 11,
   "id": "6a72fad1-ff06-40af-9ac6-3936ee35ed2e",
   "metadata": {
    "tags": []
   },
   "outputs": [],
   "source": [
    "# execute the actions\n",
    "campaign.execute().collate()"
   ]
  },
  {
   "cell_type": "markdown",
   "id": "a3682a8c-b2fb-4126-aa13-77868592b90d",
   "metadata": {},
   "source": [
    "## Linking EasyVVUQ and FabSim3\n",
    "\n",
    "We will assume you have FabSim3 installed. If not, you can find instructions [here](https://fabsim3.readthedocs.io/en/latest/). \n",
    "\n",
    "To couple EasyVVUQ and FabSim3, you will need to install the `FabUQCampaign` plugin. Simply run \n",
    "\n",
    "```\n",
    "fabsim localhost install_plugin:FabUQCampaign\n",
    "```\n",
    "\n",
    "This will install the plugin in `FabSim3/plugins/FanUQCampaign`."
   ]
  },
  {
   "cell_type": "markdown",
   "id": "a64331e2-1d1a-4953-a3b6-b776e28293b0",
   "metadata": {},
   "source": [
    "You will now need to configure the FabSim3 script, config and `machines_user.yml` file.\n",
    "\n",
    "**machines_user.yml**\n",
    "\n",
    "This file is located in `FabSim3/fabsim/deploy`. Open it. This is an important file that lets you configure your run environment for various machines, both your `localhost` as well as remote machines. We need to tell FabSim where we can find the advection-diffusion solver (the one in this repo ``advection_diffusion_model/advection_diffusion.py``). My `localhost` machine is posted below. In yours, also add the last line that says `ade_exec_school`.\n",
    "\n",
    "```python\n",
    "localhost:\n",
    "  username: wouter\n",
    "  partition_name: \"standard\"\n",
    "  qos_name: \"short\"\n",
    "  runtime: 10\n",
    "  nodes: 1\n",
    "  ranks: 1\n",
    "  cores_per_rank: 1\n",
    "  home_path_template: \"/home/wouter/FabSim3/localhost_exe\"\n",
    "  ade_exec_school: \"<your full path to advection_diffusion.py>\"\n",
    "```\n",
    "\n",
    "**Script**\n",
    "\n",
    "This is simply the file that contains the command-line instruction to run the advection diffusion equation Python script, similar to the argument passed to `ExecuteLocal` that we used before. Do the following:\n",
    "\n",
    "* Go to `FabSim3/plugins/FabUQCampaign/templates`. Create a new script `ade_school`. Our model is a simple python script, so the following instructions will suffice:\n",
    "\n",
    "```\n",
    "cd $job_results\n",
    "$run_prefix\n",
    "\n",
    "python3 $ade_exec_school\n",
    "```\n",
    "\n",
    "This will just enter the correct run directory, and execute the `$ade_exec_school` script that we defined in `machines_user.yml`. Note that the scripts are just command line instructions, so other (non-Python) models can be executed as well in the same manner.\n",
    "\n",
    "**Config**\n",
    "\n",
    "The model config files (if any) are located in `FabSim3/plugins/FabUQCampaign/config`. We will call our config `ade_school` again, make an empty directory with that name in `FabSim3/plugins/FabUQCampaign/templates`. That's all we need to do, al least in this case. If your model requires additional config files, perhaps stored in some predefined directory structure, this is where you would place that. Those will then be automatically copied to every ensemble member."
   ]
  },
  {
   "cell_type": "markdown",
   "id": "f593cfec-4cc9-432a-b6fc-c7d5938b270c",
   "metadata": {},
   "source": [
    "We will set the following FabSim3 flags, in line with what was discussed above:"
   ]
  },
  {
   "cell_type": "code",
   "execution_count": 12,
   "id": "a7d51d36-32ac-4161-8ee0-b3b77f43a3d4",
   "metadata": {
    "tags": []
   },
   "outputs": [],
   "source": [
    "# FabSim3 config name\n",
    "CONFIG = 'ade_school'\n",
    "# FabSim3 script name\n",
    "SCRIPT = 'ade_school'\n",
    "# machine to run ensemble on\n",
    "MACHINE = \"archer2\""
   ]
  },
  {
   "cell_type": "markdown",
   "id": "1bb5907a-bdad-4030-8007-5cf287f5efc1",
   "metadata": {},
   "source": [
    "### FabSim3-Python interface\n",
    "\n",
    "FabSim3 is a command line tool, but FabUQCampaign also has a Python interface that is simply a shell over the commandline tools. It is stored locally here. To import it use"
   ]
  },
  {
   "cell_type": "code",
   "execution_count": 13,
   "id": "4f31d24c-12ce-45ac-86fe-94a776ff70fd",
   "metadata": {
    "tags": []
   },
   "outputs": [],
   "source": [
    "# Import the FabSim3 commandline interface\n",
    "import fabsim3_cmd_api as fab"
   ]
  },
  {
   "cell_type": "markdown",
   "id": "4bb3fa16-1f52-4328-880f-30e37a81c64f",
   "metadata": {},
   "source": [
    "We are now ready to submit the ensemble, in this case to `localhost`. The command `fab.run_uq_ensemble` submits the ensemble to the (remote) host for execution. Under the hood it uses the FabSim3 `campaign2ensemble` subroutine to copy the run directories from the EasyVVUQ `WORK_DIR` to the FabSim3 `SWEEP` directory, located in `plugins/FabUQCampaign/config_files/ade_school/SWEEP`. From there the ensemble will be sent to the (remote) host.\n",
    "\n",
    "**Note**: if you get some type of ssh error, you might have to ssh into the (remote) machine once via the command line before executing `run_uq_ensemble`."
   ]
  },
  {
   "cell_type": "code",
   "execution_count": 14,
   "id": "34129b70-c871-4dd1-bc48-33ea47bdde83",
   "metadata": {
    "tags": []
   },
   "outputs": [
    {
     "name": "stdout",
     "output_type": "stream",
     "text": [
      "Executing fabsim archer2 run_uq_ensemble:ade_school,campaign_dir=/tmp/adv_diffbwjohw0j,script=ade_school,skip=0,PJ=False\n"
     ]
    },
    {
     "name": "stderr",
     "output_type": "stream",
     "text": [
      "/home/wouter/anaconda3/lib/python3.9/site-packages/paramiko/transport.py:219: CryptographyDeprecationWarning: Blowfish has been deprecated\n",
      "  \"class\": algorithms.Blowfish,\n"
     ]
    }
   ],
   "source": [
    "fab.run_uq_ensemble(CONFIG, campaign.campaign_dir, script=SCRIPT, machine=MACHINE, PJ=False)"
   ]
  },
  {
   "cell_type": "markdown",
   "id": "d3c44cce-a978-474e-b749-b358ce247a40",
   "metadata": {},
   "source": [
    "This will check every minute on the status of the jobs on the remote host, and sleep otherwise, halting further execution of the script. On the localhost this command doesn't do anything."
   ]
  },
  {
   "cell_type": "code",
   "execution_count": 15,
   "id": "f712a84a-2acc-4e43-af55-1231719dac40",
   "metadata": {
    "tags": []
   },
   "outputs": [
    {
     "name": "stderr",
     "output_type": "stream",
     "text": [
      "/home/wouter/anaconda3/lib/python3.9/site-packages/paramiko/transport.py:219: CryptographyDeprecationWarning: Blowfish has been deprecated\n",
      "  \"class\": algorithms.Blowfish,\n"
     ]
    },
    {
     "name": "stdout",
     "output_type": "stream",
     "text": [
      "Checking job status...\n",
      "All runs have completed\n"
     ]
    },
    {
     "data": {
      "text/plain": [
       "True"
      ]
     },
     "execution_count": 15,
     "metadata": {},
     "output_type": "execute_result"
    }
   ],
   "source": [
    "# wait for job to complete\n",
    "fab.wait(machine=MACHINE)"
   ]
  },
  {
   "cell_type": "markdown",
   "id": "a3b33249-fbd8-4749-b3db-85916567704a",
   "metadata": {},
   "source": [
    "`fab.verify` will execute the `verify_last_ensemble` subroutine to see if the output file `target_filename` (`output.csv` in our case) for each run in the `SWEEP` directory is present in the corresponding FabSim3 results directory. Returns a boolean flag. `fab.verify` will also call the FabSim `fetch_results` method, which actually retrieves the results from the (remote) host. \n",
    "\n",
    "So, if you want to just get the results without verifying the presence of output files, call `fab.fetch_results(machine=MACHINE)` instead. However, if something went wrong on the (remote) host, this will cause an error later on since not all required output files will be transfered on the EasyVVUQ `WORK_DIR`."
   ]
  },
  {
   "cell_type": "code",
   "execution_count": 16,
   "id": "a0f7db6b-841c-4997-98b7-ddecc29f58a2",
   "metadata": {
    "tags": []
   },
   "outputs": [
    {
     "name": "stderr",
     "output_type": "stream",
     "text": [
      "/home/wouter/anaconda3/lib/python3.9/site-packages/paramiko/transport.py:219: CryptographyDeprecationWarning: Blowfish has been deprecated\n",
      "  \"class\": algorithms.Blowfish,\n"
     ]
    },
    {
     "name": "stdout",
     "output_type": "stream",
     "text": [
      "Checking job status...\n",
      "All runs have completed\n",
      "Executing fabsim archer2 fetch_results\n"
     ]
    },
    {
     "name": "stderr",
     "output_type": "stream",
     "text": [
      "/home/wouter/anaconda3/lib/python3.9/site-packages/paramiko/transport.py:219: CryptographyDeprecationWarning: Blowfish has been deprecated\n",
      "  \"class\": algorithms.Blowfish,\n"
     ]
    },
    {
     "name": "stdout",
     "output_type": "stream",
     "text": [
      "Executing fabsim localhost verify_last_ensemble:ade_school,campaign_dir=/tmp/adv_diffbwjohw0j,target_filename=output.csv,machine=archer2\n"
     ]
    },
    {
     "name": "stderr",
     "output_type": "stream",
     "text": [
      "/home/wouter/anaconda3/lib/python3.9/site-packages/paramiko/transport.py:219: CryptographyDeprecationWarning: Blowfish has been deprecated\n",
      "  \"class\": algorithms.Blowfish,\n"
     ]
    }
   ],
   "source": [
    "# check if all output files are retrieved from the remote machine, returns a Boolean flag\n",
    "all_good = fab.verify(CONFIG, campaign.campaign_dir,\n",
    "                      'output.csv',\n",
    "                      machine=MACHINE)"
   ]
  },
  {
   "cell_type": "markdown",
   "id": "01570899-10cb-4d14-8dca-b86e7e04cc32",
   "metadata": {},
   "source": [
    "`fab.get_uq_samples` copies the samples from the (local) FabSim results directory to the (local) EasyVVUQ campaign directory. It will not delete the results from the FabSim results directory. If you want to save space, you can delete the results on the FabSim side (see `results` directory in your FabSim home directory). You can also call `fab.clear_results(machine, name_results_dir)` to remove a specific FabSim results directory on a given machine."
   ]
  },
  {
   "cell_type": "code",
   "execution_count": 17,
   "id": "b0f89ca1-2ba4-47dd-a318-f91b448e985a",
   "metadata": {
    "tags": []
   },
   "outputs": [
    {
     "name": "stdout",
     "output_type": "stream",
     "text": [
      "Executing fabsim archer2 get_uq_samples:ade_school,campaign_dir=/tmp/adv_diffbwjohw0j,number_of_samples=25,skip=0\n"
     ]
    },
    {
     "name": "stderr",
     "output_type": "stream",
     "text": [
      "/home/wouter/anaconda3/lib/python3.9/site-packages/paramiko/transport.py:219: CryptographyDeprecationWarning: Blowfish has been deprecated\n",
      "  \"class\": algorithms.Blowfish,\n"
     ]
    }
   ],
   "source": [
    "if all_good:\n",
    "    # copy the results from the FabSim results dir to the EasyVVUQ results dir\n",
    "    fab.get_uq_samples(CONFIG, campaign.campaign_dir, sampler.n_samples, machine=MACHINE)\n",
    "else:\n",
    "    print(\"Not all samples executed correctly\")\n",
    "    import sys\n",
    "    sys.exit()"
   ]
  },
  {
   "cell_type": "markdown",
   "id": "8b207ab3-de3a-4224-85bc-d7ddf3dcfcde",
   "metadata": {},
   "source": [
    "#### Error handling\n",
    "\n",
    "If `all_good == False` something went wrong on the (remote) host, and `sys.exit()` is called in our example, giving you the opportunity of investigating what went wrong. It can happen that a (small) number of jobs did not get executed on the remote host for some reason, whereas (most) jobs did execute succesfully. In this case simply resubmitting the failed jobs could be an option:\n",
    "\n",
    "```python\n",
    "fab.remove_succesful_runs(CONFIG, campaign.campaign_dir)\n",
    "fab.resubmit_previous_ensemble(CONFIG, 'ade_school')\n",
    "```\n",
    "\n",
    "The first command removes all succesful run directories from the `SWEEP` dir for which the output file `TARGET_FILENAME` has been found. For this to work, `fab.verify` must have been called. Then, `fab.resubmit_previous_ensemble` simply resubmits the runs that are present in the `SWEEP` directory, which by now only contains the failed runs. After the jobs have finished, call `fab.verify` again to see if now `TARGET_FILENAME` is present in the results directory, for every run in the `SWEEP` dir."
   ]
  },
  {
   "cell_type": "markdown",
   "id": "4c4911db-8a5f-4f6c-ab1d-994d09c61e45",
   "metadata": {},
   "source": [
    "Once all output files are copied to the EasyVVUQ run directories, we no longer need the (now duplicate) results in the FabSim3 directory. You can remove these via the command below, once you change the path from my FabSim3 directory to yours."
   ]
  },
  {
   "cell_type": "code",
   "execution_count": 18,
   "id": "9724b102-02b4-4fc8-b6ef-acc5070f00a2",
   "metadata": {},
   "outputs": [
    {
     "name": "stdout",
     "output_type": "stream",
     "text": [
      "Executing fabsim localhost clear_results:/home/wouter/FabSim3/results/\n"
     ]
    },
    {
     "name": "stderr",
     "output_type": "stream",
     "text": [
      "/home/wouter/anaconda3/lib/python3.9/site-packages/paramiko/transport.py:219: CryptographyDeprecationWarning: Blowfish has been deprecated\n",
      "  \"class\": algorithms.Blowfish,\n"
     ]
    }
   ],
   "source": [
    "# clear results in Fabsim directory, change path to your FabSim3 directory\n",
    "fab.clear_results(\"localhost\", '/home/wouter/FabSim3/results/')  # localhost\n",
    "# fab.clear_results(\"archer2\", '/work/e723/e723/edeling/FabSim/')  # archer2"
   ]
  },
  {
   "cell_type": "markdown",
   "id": "49f47812-49c3-4c7d-a921-7a7842f038dc",
   "metadata": {},
   "source": [
    "### Continue the EasyVVUQ workflow\n",
    "\n",
    "At this point, the ensemble has been executed, and the results are copied back to the EasyVVUQ `WORK_DIR`. Thus we can continue as before, once we decode the output files:"
   ]
  },
  {
   "cell_type": "code",
   "execution_count": 19,
   "id": "51c8b168-9d80-4a48-961f-ab2a9cb24ae4",
   "metadata": {
    "tags": []
   },
   "outputs": [],
   "source": [
    "# All output files are present, decode them #\n",
    "\n",
    "actions = uq.actions.Actions(\n",
    "    uq.actions.Decode(decoder),\n",
    ")\n",
    "campaign.replace_actions(CAMPAIGN_NAME, actions)\n",
    "\n",
    "###########################\n",
    "# Execute decoding action #\n",
    "###########################\n",
    "\n",
    "campaign.execute().collate()"
   ]
  },
  {
   "cell_type": "markdown",
   "id": "92308731-67ae-48b9-8448-8bd230c55413",
   "metadata": {},
   "source": [
    "### Retrieving the raw results\n",
    "\n",
    "This is the raw EasyVVUQ data."
   ]
  },
  {
   "cell_type": "code",
   "execution_count": 20,
   "id": "e83ea865-5d9d-4346-8420-3ab6f0b5d03a",
   "metadata": {
    "tags": []
   },
   "outputs": [
    {
     "data": {
      "text/html": [
       "<div>\n",
       "<style scoped>\n",
       "    .dataframe tbody tr th:only-of-type {\n",
       "        vertical-align: middle;\n",
       "    }\n",
       "\n",
       "    .dataframe tbody tr th {\n",
       "        vertical-align: top;\n",
       "    }\n",
       "\n",
       "    .dataframe thead tr th {\n",
       "        text-align: left;\n",
       "    }\n",
       "</style>\n",
       "<table border=\"1\" class=\"dataframe\">\n",
       "  <thead>\n",
       "    <tr>\n",
       "      <th></th>\n",
       "      <th>run_id</th>\n",
       "      <th>iteration</th>\n",
       "      <th>Pe</th>\n",
       "      <th>f</th>\n",
       "      <th colspan=\"17\" halign=\"left\">u</th>\n",
       "    </tr>\n",
       "    <tr>\n",
       "      <th></th>\n",
       "      <th>0</th>\n",
       "      <th>0</th>\n",
       "      <th>0</th>\n",
       "      <th>0</th>\n",
       "      <th>0</th>\n",
       "      <th>1</th>\n",
       "      <th>2</th>\n",
       "      <th>3</th>\n",
       "      <th>4</th>\n",
       "      <th>5</th>\n",
       "      <th>...</th>\n",
       "      <th>391</th>\n",
       "      <th>392</th>\n",
       "      <th>393</th>\n",
       "      <th>394</th>\n",
       "      <th>395</th>\n",
       "      <th>396</th>\n",
       "      <th>397</th>\n",
       "      <th>398</th>\n",
       "      <th>399</th>\n",
       "      <th>400</th>\n",
       "    </tr>\n",
       "  </thead>\n",
       "  <tbody>\n",
       "    <tr>\n",
       "      <th>0</th>\n",
       "      <td>1</td>\n",
       "      <td>0</td>\n",
       "      <td>90.938202</td>\n",
       "      <td>0.909382</td>\n",
       "      <td>-1.035343e-14</td>\n",
       "      <td>0.002273</td>\n",
       "      <td>0.004547</td>\n",
       "      <td>0.006820</td>\n",
       "      <td>0.009094</td>\n",
       "      <td>0.011367</td>\n",
       "      <td>...</td>\n",
       "      <td>0.772435</td>\n",
       "      <td>0.744829</td>\n",
       "      <td>0.709559</td>\n",
       "      <td>0.664660</td>\n",
       "      <td>0.607660</td>\n",
       "      <td>0.535457</td>\n",
       "      <td>0.444150</td>\n",
       "      <td>0.328839</td>\n",
       "      <td>0.183368</td>\n",
       "      <td>0.0</td>\n",
       "    </tr>\n",
       "    <tr>\n",
       "      <th>1</th>\n",
       "      <td>2</td>\n",
       "      <td>0</td>\n",
       "      <td>90.938202</td>\n",
       "      <td>0.946153</td>\n",
       "      <td>-5.465681e-15</td>\n",
       "      <td>0.002365</td>\n",
       "      <td>0.004731</td>\n",
       "      <td>0.007096</td>\n",
       "      <td>0.009462</td>\n",
       "      <td>0.011827</td>\n",
       "      <td>...</td>\n",
       "      <td>0.803668</td>\n",
       "      <td>0.774946</td>\n",
       "      <td>0.738250</td>\n",
       "      <td>0.691535</td>\n",
       "      <td>0.632231</td>\n",
       "      <td>0.557108</td>\n",
       "      <td>0.462109</td>\n",
       "      <td>0.342136</td>\n",
       "      <td>0.190783</td>\n",
       "      <td>0.0</td>\n",
       "    </tr>\n",
       "    <tr>\n",
       "      <th>2</th>\n",
       "      <td>3</td>\n",
       "      <td>0</td>\n",
       "      <td>90.938202</td>\n",
       "      <td>1.000000</td>\n",
       "      <td>-5.022371e-15</td>\n",
       "      <td>0.002500</td>\n",
       "      <td>0.005000</td>\n",
       "      <td>0.007500</td>\n",
       "      <td>0.010000</td>\n",
       "      <td>0.012500</td>\n",
       "      <td>...</td>\n",
       "      <td>0.849406</td>\n",
       "      <td>0.819050</td>\n",
       "      <td>0.780265</td>\n",
       "      <td>0.730892</td>\n",
       "      <td>0.668212</td>\n",
       "      <td>0.588814</td>\n",
       "      <td>0.488408</td>\n",
       "      <td>0.361607</td>\n",
       "      <td>0.201640</td>\n",
       "      <td>0.0</td>\n",
       "    </tr>\n",
       "    <tr>\n",
       "      <th>3</th>\n",
       "      <td>4</td>\n",
       "      <td>0</td>\n",
       "      <td>90.938202</td>\n",
       "      <td>1.053847</td>\n",
       "      <td>-2.159619e-14</td>\n",
       "      <td>0.002635</td>\n",
       "      <td>0.005269</td>\n",
       "      <td>0.007904</td>\n",
       "      <td>0.010538</td>\n",
       "      <td>0.013173</td>\n",
       "      <td>...</td>\n",
       "      <td>0.895144</td>\n",
       "      <td>0.863153</td>\n",
       "      <td>0.822280</td>\n",
       "      <td>0.770248</td>\n",
       "      <td>0.704193</td>\n",
       "      <td>0.620520</td>\n",
       "      <td>0.514708</td>\n",
       "      <td>0.381079</td>\n",
       "      <td>0.212498</td>\n",
       "      <td>0.0</td>\n",
       "    </tr>\n",
       "    <tr>\n",
       "      <th>4</th>\n",
       "      <td>5</td>\n",
       "      <td>0</td>\n",
       "      <td>90.938202</td>\n",
       "      <td>1.090618</td>\n",
       "      <td>9.215234e-15</td>\n",
       "      <td>0.002727</td>\n",
       "      <td>0.005453</td>\n",
       "      <td>0.008180</td>\n",
       "      <td>0.010906</td>\n",
       "      <td>0.013633</td>\n",
       "      <td>...</td>\n",
       "      <td>0.926378</td>\n",
       "      <td>0.893270</td>\n",
       "      <td>0.850971</td>\n",
       "      <td>0.797124</td>\n",
       "      <td>0.728764</td>\n",
       "      <td>0.642171</td>\n",
       "      <td>0.532667</td>\n",
       "      <td>0.394375</td>\n",
       "      <td>0.219913</td>\n",
       "      <td>0.0</td>\n",
       "    </tr>\n",
       "    <tr>\n",
       "      <th>5</th>\n",
       "      <td>6</td>\n",
       "      <td>0</td>\n",
       "      <td>94.615307</td>\n",
       "      <td>0.909382</td>\n",
       "      <td>-1.764748e-14</td>\n",
       "      <td>0.002273</td>\n",
       "      <td>0.004547</td>\n",
       "      <td>0.006820</td>\n",
       "      <td>0.009094</td>\n",
       "      <td>0.011367</td>\n",
       "      <td>...</td>\n",
       "      <td>0.781805</td>\n",
       "      <td>0.755343</td>\n",
       "      <td>0.721172</td>\n",
       "      <td>0.677225</td>\n",
       "      <td>0.620877</td>\n",
       "      <td>0.548804</td>\n",
       "      <td>0.456787</td>\n",
       "      <td>0.339474</td>\n",
       "      <td>0.190081</td>\n",
       "      <td>0.0</td>\n",
       "    </tr>\n",
       "    <tr>\n",
       "      <th>6</th>\n",
       "      <td>7</td>\n",
       "      <td>0</td>\n",
       "      <td>94.615307</td>\n",
       "      <td>0.946153</td>\n",
       "      <td>8.244634e-15</td>\n",
       "      <td>0.002365</td>\n",
       "      <td>0.004731</td>\n",
       "      <td>0.007096</td>\n",
       "      <td>0.009462</td>\n",
       "      <td>0.011827</td>\n",
       "      <td>...</td>\n",
       "      <td>0.813418</td>\n",
       "      <td>0.785885</td>\n",
       "      <td>0.750333</td>\n",
       "      <td>0.704608</td>\n",
       "      <td>0.645983</td>\n",
       "      <td>0.570996</td>\n",
       "      <td>0.475257</td>\n",
       "      <td>0.353201</td>\n",
       "      <td>0.197767</td>\n",
       "      <td>0.0</td>\n",
       "    </tr>\n",
       "    <tr>\n",
       "      <th>7</th>\n",
       "      <td>8</td>\n",
       "      <td>0</td>\n",
       "      <td>94.615307</td>\n",
       "      <td>1.000000</td>\n",
       "      <td>-1.062775e-14</td>\n",
       "      <td>0.002500</td>\n",
       "      <td>0.005000</td>\n",
       "      <td>0.007500</td>\n",
       "      <td>0.010000</td>\n",
       "      <td>0.012500</td>\n",
       "      <td>...</td>\n",
       "      <td>0.859710</td>\n",
       "      <td>0.830611</td>\n",
       "      <td>0.793035</td>\n",
       "      <td>0.744709</td>\n",
       "      <td>0.682747</td>\n",
       "      <td>0.603492</td>\n",
       "      <td>0.502305</td>\n",
       "      <td>0.373302</td>\n",
       "      <td>0.209022</td>\n",
       "      <td>0.0</td>\n",
       "    </tr>\n",
       "    <tr>\n",
       "      <th>8</th>\n",
       "      <td>9</td>\n",
       "      <td>0</td>\n",
       "      <td>94.615307</td>\n",
       "      <td>1.053847</td>\n",
       "      <td>-1.554617e-14</td>\n",
       "      <td>0.002635</td>\n",
       "      <td>0.005269</td>\n",
       "      <td>0.007904</td>\n",
       "      <td>0.010538</td>\n",
       "      <td>0.013173</td>\n",
       "      <td>...</td>\n",
       "      <td>0.906003</td>\n",
       "      <td>0.875337</td>\n",
       "      <td>0.835738</td>\n",
       "      <td>0.784809</td>\n",
       "      <td>0.719510</td>\n",
       "      <td>0.635988</td>\n",
       "      <td>0.529352</td>\n",
       "      <td>0.393403</td>\n",
       "      <td>0.220277</td>\n",
       "      <td>0.0</td>\n",
       "    </tr>\n",
       "    <tr>\n",
       "      <th>9</th>\n",
       "      <td>10</td>\n",
       "      <td>0</td>\n",
       "      <td>94.615307</td>\n",
       "      <td>1.090618</td>\n",
       "      <td>7.334409e-15</td>\n",
       "      <td>0.002727</td>\n",
       "      <td>0.005453</td>\n",
       "      <td>0.008180</td>\n",
       "      <td>0.010906</td>\n",
       "      <td>0.013633</td>\n",
       "      <td>...</td>\n",
       "      <td>0.937616</td>\n",
       "      <td>0.905880</td>\n",
       "      <td>0.864899</td>\n",
       "      <td>0.812193</td>\n",
       "      <td>0.744616</td>\n",
       "      <td>0.658179</td>\n",
       "      <td>0.547823</td>\n",
       "      <td>0.407130</td>\n",
       "      <td>0.227963</td>\n",
       "      <td>0.0</td>\n",
       "    </tr>\n",
       "    <tr>\n",
       "      <th>10</th>\n",
       "      <td>11</td>\n",
       "      <td>0</td>\n",
       "      <td>100.000000</td>\n",
       "      <td>0.909382</td>\n",
       "      <td>-8.427826e-16</td>\n",
       "      <td>0.002273</td>\n",
       "      <td>0.004547</td>\n",
       "      <td>0.006820</td>\n",
       "      <td>0.009094</td>\n",
       "      <td>0.011367</td>\n",
       "      <td>...</td>\n",
       "      <td>0.794200</td>\n",
       "      <td>0.769410</td>\n",
       "      <td>0.736888</td>\n",
       "      <td>0.694425</td>\n",
       "      <td>0.639179</td>\n",
       "      <td>0.567500</td>\n",
       "      <td>0.474691</td>\n",
       "      <td>0.354715</td>\n",
       "      <td>0.199811</td>\n",
       "      <td>0.0</td>\n",
       "    </tr>\n",
       "    <tr>\n",
       "      <th>11</th>\n",
       "      <td>12</td>\n",
       "      <td>0</td>\n",
       "      <td>100.000000</td>\n",
       "      <td>0.946153</td>\n",
       "      <td>-3.180666e-15</td>\n",
       "      <td>0.002365</td>\n",
       "      <td>0.004731</td>\n",
       "      <td>0.007096</td>\n",
       "      <td>0.009462</td>\n",
       "      <td>0.011827</td>\n",
       "      <td>...</td>\n",
       "      <td>0.826314</td>\n",
       "      <td>0.800522</td>\n",
       "      <td>0.766685</td>\n",
       "      <td>0.722504</td>\n",
       "      <td>0.665024</td>\n",
       "      <td>0.590447</td>\n",
       "      <td>0.493885</td>\n",
       "      <td>0.369058</td>\n",
       "      <td>0.207891</td>\n",
       "      <td>0.0</td>\n",
       "    </tr>\n",
       "    <tr>\n",
       "      <th>12</th>\n",
       "      <td>13</td>\n",
       "      <td>0</td>\n",
       "      <td>100.000000</td>\n",
       "      <td>1.000000</td>\n",
       "      <td>4.624449e-15</td>\n",
       "      <td>0.002500</td>\n",
       "      <td>0.005000</td>\n",
       "      <td>0.007500</td>\n",
       "      <td>0.010000</td>\n",
       "      <td>0.012500</td>\n",
       "      <td>...</td>\n",
       "      <td>0.873340</td>\n",
       "      <td>0.846080</td>\n",
       "      <td>0.810318</td>\n",
       "      <td>0.763623</td>\n",
       "      <td>0.702872</td>\n",
       "      <td>0.624050</td>\n",
       "      <td>0.521992</td>\n",
       "      <td>0.390062</td>\n",
       "      <td>0.219722</td>\n",
       "      <td>0.0</td>\n",
       "    </tr>\n",
       "    <tr>\n",
       "      <th>13</th>\n",
       "      <td>14</td>\n",
       "      <td>0</td>\n",
       "      <td>100.000000</td>\n",
       "      <td>1.053847</td>\n",
       "      <td>-1.917182e-14</td>\n",
       "      <td>0.002635</td>\n",
       "      <td>0.005269</td>\n",
       "      <td>0.007904</td>\n",
       "      <td>0.010538</td>\n",
       "      <td>0.013173</td>\n",
       "      <td>...</td>\n",
       "      <td>0.920367</td>\n",
       "      <td>0.891639</td>\n",
       "      <td>0.853951</td>\n",
       "      <td>0.804741</td>\n",
       "      <td>0.740719</td>\n",
       "      <td>0.657653</td>\n",
       "      <td>0.550100</td>\n",
       "      <td>0.411065</td>\n",
       "      <td>0.231554</td>\n",
       "      <td>0.0</td>\n",
       "    </tr>\n",
       "    <tr>\n",
       "      <th>14</th>\n",
       "      <td>15</td>\n",
       "      <td>0</td>\n",
       "      <td>100.000000</td>\n",
       "      <td>1.090618</td>\n",
       "      <td>2.910265e-15</td>\n",
       "      <td>0.002727</td>\n",
       "      <td>0.005453</td>\n",
       "      <td>0.008180</td>\n",
       "      <td>0.010906</td>\n",
       "      <td>0.013633</td>\n",
       "      <td>...</td>\n",
       "      <td>0.952481</td>\n",
       "      <td>0.922750</td>\n",
       "      <td>0.883747</td>\n",
       "      <td>0.832821</td>\n",
       "      <td>0.766565</td>\n",
       "      <td>0.680600</td>\n",
       "      <td>0.569294</td>\n",
       "      <td>0.425408</td>\n",
       "      <td>0.239633</td>\n",
       "      <td>0.0</td>\n",
       "    </tr>\n",
       "    <tr>\n",
       "      <th>15</th>\n",
       "      <td>16</td>\n",
       "      <td>0</td>\n",
       "      <td>105.384693</td>\n",
       "      <td>0.909382</td>\n",
       "      <td>-1.353786e-15</td>\n",
       "      <td>0.002273</td>\n",
       "      <td>0.004547</td>\n",
       "      <td>0.006820</td>\n",
       "      <td>0.009094</td>\n",
       "      <td>0.011367</td>\n",
       "      <td>...</td>\n",
       "      <td>0.805178</td>\n",
       "      <td>0.782041</td>\n",
       "      <td>0.751194</td>\n",
       "      <td>0.710297</td>\n",
       "      <td>0.656300</td>\n",
       "      <td>0.585230</td>\n",
       "      <td>0.491904</td>\n",
       "      <td>0.369570</td>\n",
       "      <td>0.209426</td>\n",
       "      <td>0.0</td>\n",
       "    </tr>\n",
       "    <tr>\n",
       "      <th>16</th>\n",
       "      <td>17</td>\n",
       "      <td>0</td>\n",
       "      <td>105.384693</td>\n",
       "      <td>0.946153</td>\n",
       "      <td>-4.085654e-15</td>\n",
       "      <td>0.002365</td>\n",
       "      <td>0.004731</td>\n",
       "      <td>0.007096</td>\n",
       "      <td>0.009462</td>\n",
       "      <td>0.011827</td>\n",
       "      <td>...</td>\n",
       "      <td>0.837736</td>\n",
       "      <td>0.813663</td>\n",
       "      <td>0.781569</td>\n",
       "      <td>0.739018</td>\n",
       "      <td>0.682838</td>\n",
       "      <td>0.608894</td>\n",
       "      <td>0.511794</td>\n",
       "      <td>0.384514</td>\n",
       "      <td>0.217895</td>\n",
       "      <td>0.0</td>\n",
       "    </tr>\n",
       "    <tr>\n",
       "      <th>17</th>\n",
       "      <td>18</td>\n",
       "      <td>0</td>\n",
       "      <td>105.384693</td>\n",
       "      <td>1.000000</td>\n",
       "      <td>5.663779e-15</td>\n",
       "      <td>0.002500</td>\n",
       "      <td>0.005000</td>\n",
       "      <td>0.007500</td>\n",
       "      <td>0.010000</td>\n",
       "      <td>0.012500</td>\n",
       "      <td>...</td>\n",
       "      <td>0.885412</td>\n",
       "      <td>0.859970</td>\n",
       "      <td>0.826049</td>\n",
       "      <td>0.781077</td>\n",
       "      <td>0.721699</td>\n",
       "      <td>0.643547</td>\n",
       "      <td>0.540921</td>\n",
       "      <td>0.406397</td>\n",
       "      <td>0.230295</td>\n",
       "      <td>0.0</td>\n",
       "    </tr>\n",
       "    <tr>\n",
       "      <th>18</th>\n",
       "      <td>19</td>\n",
       "      <td>0</td>\n",
       "      <td>105.384693</td>\n",
       "      <td>1.053847</td>\n",
       "      <td>-1.085097e-14</td>\n",
       "      <td>0.002635</td>\n",
       "      <td>0.005269</td>\n",
       "      <td>0.007904</td>\n",
       "      <td>0.010538</td>\n",
       "      <td>0.013173</td>\n",
       "      <td>...</td>\n",
       "      <td>0.933089</td>\n",
       "      <td>0.906277</td>\n",
       "      <td>0.870529</td>\n",
       "      <td>0.823135</td>\n",
       "      <td>0.760561</td>\n",
       "      <td>0.678200</td>\n",
       "      <td>0.570048</td>\n",
       "      <td>0.428280</td>\n",
       "      <td>0.242696</td>\n",
       "      <td>0.0</td>\n",
       "    </tr>\n",
       "    <tr>\n",
       "      <th>19</th>\n",
       "      <td>20</td>\n",
       "      <td>0</td>\n",
       "      <td>105.384693</td>\n",
       "      <td>1.090618</td>\n",
       "      <td>7.960408e-16</td>\n",
       "      <td>0.002727</td>\n",
       "      <td>0.005453</td>\n",
       "      <td>0.008180</td>\n",
       "      <td>0.010906</td>\n",
       "      <td>0.013633</td>\n",
       "      <td>...</td>\n",
       "      <td>0.965647</td>\n",
       "      <td>0.937899</td>\n",
       "      <td>0.900904</td>\n",
       "      <td>0.851856</td>\n",
       "      <td>0.787098</td>\n",
       "      <td>0.701864</td>\n",
       "      <td>0.589938</td>\n",
       "      <td>0.443224</td>\n",
       "      <td>0.251164</td>\n",
       "      <td>0.0</td>\n",
       "    </tr>\n",
       "    <tr>\n",
       "      <th>20</th>\n",
       "      <td>21</td>\n",
       "      <td>0</td>\n",
       "      <td>109.061798</td>\n",
       "      <td>0.909382</td>\n",
       "      <td>1.844011e-14</td>\n",
       "      <td>0.002273</td>\n",
       "      <td>0.004547</td>\n",
       "      <td>0.006820</td>\n",
       "      <td>0.009094</td>\n",
       "      <td>0.011367</td>\n",
       "      <td>...</td>\n",
       "      <td>0.811944</td>\n",
       "      <td>0.789917</td>\n",
       "      <td>0.760218</td>\n",
       "      <td>0.720425</td>\n",
       "      <td>0.667353</td>\n",
       "      <td>0.596809</td>\n",
       "      <td>0.503276</td>\n",
       "      <td>0.379498</td>\n",
       "      <td>0.215927</td>\n",
       "      <td>0.0</td>\n",
       "    </tr>\n",
       "    <tr>\n",
       "      <th>21</th>\n",
       "      <td>22</td>\n",
       "      <td>0</td>\n",
       "      <td>109.061798</td>\n",
       "      <td>0.946153</td>\n",
       "      <td>1.638784e-14</td>\n",
       "      <td>0.002365</td>\n",
       "      <td>0.004731</td>\n",
       "      <td>0.007096</td>\n",
       "      <td>0.009462</td>\n",
       "      <td>0.011827</td>\n",
       "      <td>...</td>\n",
       "      <td>0.844775</td>\n",
       "      <td>0.821857</td>\n",
       "      <td>0.790957</td>\n",
       "      <td>0.749556</td>\n",
       "      <td>0.694338</td>\n",
       "      <td>0.620941</td>\n",
       "      <td>0.523626</td>\n",
       "      <td>0.394843</td>\n",
       "      <td>0.224658</td>\n",
       "      <td>0.0</td>\n",
       "    </tr>\n",
       "    <tr>\n",
       "      <th>22</th>\n",
       "      <td>23</td>\n",
       "      <td>0</td>\n",
       "      <td>109.061798</td>\n",
       "      <td>1.000000</td>\n",
       "      <td>1.999317e-14</td>\n",
       "      <td>0.002500</td>\n",
       "      <td>0.005000</td>\n",
       "      <td>0.007500</td>\n",
       "      <td>0.010000</td>\n",
       "      <td>0.012500</td>\n",
       "      <td>...</td>\n",
       "      <td>0.892853</td>\n",
       "      <td>0.868630</td>\n",
       "      <td>0.835972</td>\n",
       "      <td>0.792214</td>\n",
       "      <td>0.733853</td>\n",
       "      <td>0.656279</td>\n",
       "      <td>0.553426</td>\n",
       "      <td>0.417314</td>\n",
       "      <td>0.237444</td>\n",
       "      <td>0.0</td>\n",
       "    </tr>\n",
       "    <tr>\n",
       "      <th>23</th>\n",
       "      <td>24</td>\n",
       "      <td>0</td>\n",
       "      <td>109.061798</td>\n",
       "      <td>1.053847</td>\n",
       "      <td>1.193005e-14</td>\n",
       "      <td>0.002635</td>\n",
       "      <td>0.005269</td>\n",
       "      <td>0.007904</td>\n",
       "      <td>0.010538</td>\n",
       "      <td>0.013173</td>\n",
       "      <td>...</td>\n",
       "      <td>0.940930</td>\n",
       "      <td>0.915404</td>\n",
       "      <td>0.880987</td>\n",
       "      <td>0.834873</td>\n",
       "      <td>0.773369</td>\n",
       "      <td>0.691618</td>\n",
       "      <td>0.583227</td>\n",
       "      <td>0.439785</td>\n",
       "      <td>0.250229</td>\n",
       "      <td>0.0</td>\n",
       "    </tr>\n",
       "    <tr>\n",
       "      <th>24</th>\n",
       "      <td>25</td>\n",
       "      <td>0</td>\n",
       "      <td>109.061798</td>\n",
       "      <td>1.090618</td>\n",
       "      <td>2.512813e-14</td>\n",
       "      <td>0.002727</td>\n",
       "      <td>0.005453</td>\n",
       "      <td>0.008180</td>\n",
       "      <td>0.010906</td>\n",
       "      <td>0.013633</td>\n",
       "      <td>...</td>\n",
       "      <td>0.973761</td>\n",
       "      <td>0.947344</td>\n",
       "      <td>0.911726</td>\n",
       "      <td>0.864003</td>\n",
       "      <td>0.800354</td>\n",
       "      <td>0.715750</td>\n",
       "      <td>0.603577</td>\n",
       "      <td>0.455131</td>\n",
       "      <td>0.258960</td>\n",
       "      <td>0.0</td>\n",
       "    </tr>\n",
       "  </tbody>\n",
       "</table>\n",
       "<p>25 rows × 405 columns</p>\n",
       "</div>"
      ],
      "text/plain": [
       "   run_id iteration          Pe         f             u                      \\\n",
       "      0         0           0         0             0         1         2     \n",
       "0       1         0   90.938202  0.909382 -1.035343e-14  0.002273  0.004547   \n",
       "1       2         0   90.938202  0.946153 -5.465681e-15  0.002365  0.004731   \n",
       "2       3         0   90.938202  1.000000 -5.022371e-15  0.002500  0.005000   \n",
       "3       4         0   90.938202  1.053847 -2.159619e-14  0.002635  0.005269   \n",
       "4       5         0   90.938202  1.090618  9.215234e-15  0.002727  0.005453   \n",
       "5       6         0   94.615307  0.909382 -1.764748e-14  0.002273  0.004547   \n",
       "6       7         0   94.615307  0.946153  8.244634e-15  0.002365  0.004731   \n",
       "7       8         0   94.615307  1.000000 -1.062775e-14  0.002500  0.005000   \n",
       "8       9         0   94.615307  1.053847 -1.554617e-14  0.002635  0.005269   \n",
       "9      10         0   94.615307  1.090618  7.334409e-15  0.002727  0.005453   \n",
       "10     11         0  100.000000  0.909382 -8.427826e-16  0.002273  0.004547   \n",
       "11     12         0  100.000000  0.946153 -3.180666e-15  0.002365  0.004731   \n",
       "12     13         0  100.000000  1.000000  4.624449e-15  0.002500  0.005000   \n",
       "13     14         0  100.000000  1.053847 -1.917182e-14  0.002635  0.005269   \n",
       "14     15         0  100.000000  1.090618  2.910265e-15  0.002727  0.005453   \n",
       "15     16         0  105.384693  0.909382 -1.353786e-15  0.002273  0.004547   \n",
       "16     17         0  105.384693  0.946153 -4.085654e-15  0.002365  0.004731   \n",
       "17     18         0  105.384693  1.000000  5.663779e-15  0.002500  0.005000   \n",
       "18     19         0  105.384693  1.053847 -1.085097e-14  0.002635  0.005269   \n",
       "19     20         0  105.384693  1.090618  7.960408e-16  0.002727  0.005453   \n",
       "20     21         0  109.061798  0.909382  1.844011e-14  0.002273  0.004547   \n",
       "21     22         0  109.061798  0.946153  1.638784e-14  0.002365  0.004731   \n",
       "22     23         0  109.061798  1.000000  1.999317e-14  0.002500  0.005000   \n",
       "23     24         0  109.061798  1.053847  1.193005e-14  0.002635  0.005269   \n",
       "24     25         0  109.061798  1.090618  2.512813e-14  0.002727  0.005453   \n",
       "\n",
       "                                  ...                                          \\\n",
       "         3         4         5    ...       391       392       393       394   \n",
       "0   0.006820  0.009094  0.011367  ...  0.772435  0.744829  0.709559  0.664660   \n",
       "1   0.007096  0.009462  0.011827  ...  0.803668  0.774946  0.738250  0.691535   \n",
       "2   0.007500  0.010000  0.012500  ...  0.849406  0.819050  0.780265  0.730892   \n",
       "3   0.007904  0.010538  0.013173  ...  0.895144  0.863153  0.822280  0.770248   \n",
       "4   0.008180  0.010906  0.013633  ...  0.926378  0.893270  0.850971  0.797124   \n",
       "5   0.006820  0.009094  0.011367  ...  0.781805  0.755343  0.721172  0.677225   \n",
       "6   0.007096  0.009462  0.011827  ...  0.813418  0.785885  0.750333  0.704608   \n",
       "7   0.007500  0.010000  0.012500  ...  0.859710  0.830611  0.793035  0.744709   \n",
       "8   0.007904  0.010538  0.013173  ...  0.906003  0.875337  0.835738  0.784809   \n",
       "9   0.008180  0.010906  0.013633  ...  0.937616  0.905880  0.864899  0.812193   \n",
       "10  0.006820  0.009094  0.011367  ...  0.794200  0.769410  0.736888  0.694425   \n",
       "11  0.007096  0.009462  0.011827  ...  0.826314  0.800522  0.766685  0.722504   \n",
       "12  0.007500  0.010000  0.012500  ...  0.873340  0.846080  0.810318  0.763623   \n",
       "13  0.007904  0.010538  0.013173  ...  0.920367  0.891639  0.853951  0.804741   \n",
       "14  0.008180  0.010906  0.013633  ...  0.952481  0.922750  0.883747  0.832821   \n",
       "15  0.006820  0.009094  0.011367  ...  0.805178  0.782041  0.751194  0.710297   \n",
       "16  0.007096  0.009462  0.011827  ...  0.837736  0.813663  0.781569  0.739018   \n",
       "17  0.007500  0.010000  0.012500  ...  0.885412  0.859970  0.826049  0.781077   \n",
       "18  0.007904  0.010538  0.013173  ...  0.933089  0.906277  0.870529  0.823135   \n",
       "19  0.008180  0.010906  0.013633  ...  0.965647  0.937899  0.900904  0.851856   \n",
       "20  0.006820  0.009094  0.011367  ...  0.811944  0.789917  0.760218  0.720425   \n",
       "21  0.007096  0.009462  0.011827  ...  0.844775  0.821857  0.790957  0.749556   \n",
       "22  0.007500  0.010000  0.012500  ...  0.892853  0.868630  0.835972  0.792214   \n",
       "23  0.007904  0.010538  0.013173  ...  0.940930  0.915404  0.880987  0.834873   \n",
       "24  0.008180  0.010906  0.013633  ...  0.973761  0.947344  0.911726  0.864003   \n",
       "\n",
       "                                                           \n",
       "         395       396       397       398       399  400  \n",
       "0   0.607660  0.535457  0.444150  0.328839  0.183368  0.0  \n",
       "1   0.632231  0.557108  0.462109  0.342136  0.190783  0.0  \n",
       "2   0.668212  0.588814  0.488408  0.361607  0.201640  0.0  \n",
       "3   0.704193  0.620520  0.514708  0.381079  0.212498  0.0  \n",
       "4   0.728764  0.642171  0.532667  0.394375  0.219913  0.0  \n",
       "5   0.620877  0.548804  0.456787  0.339474  0.190081  0.0  \n",
       "6   0.645983  0.570996  0.475257  0.353201  0.197767  0.0  \n",
       "7   0.682747  0.603492  0.502305  0.373302  0.209022  0.0  \n",
       "8   0.719510  0.635988  0.529352  0.393403  0.220277  0.0  \n",
       "9   0.744616  0.658179  0.547823  0.407130  0.227963  0.0  \n",
       "10  0.639179  0.567500  0.474691  0.354715  0.199811  0.0  \n",
       "11  0.665024  0.590447  0.493885  0.369058  0.207891  0.0  \n",
       "12  0.702872  0.624050  0.521992  0.390062  0.219722  0.0  \n",
       "13  0.740719  0.657653  0.550100  0.411065  0.231554  0.0  \n",
       "14  0.766565  0.680600  0.569294  0.425408  0.239633  0.0  \n",
       "15  0.656300  0.585230  0.491904  0.369570  0.209426  0.0  \n",
       "16  0.682838  0.608894  0.511794  0.384514  0.217895  0.0  \n",
       "17  0.721699  0.643547  0.540921  0.406397  0.230295  0.0  \n",
       "18  0.760561  0.678200  0.570048  0.428280  0.242696  0.0  \n",
       "19  0.787098  0.701864  0.589938  0.443224  0.251164  0.0  \n",
       "20  0.667353  0.596809  0.503276  0.379498  0.215927  0.0  \n",
       "21  0.694338  0.620941  0.523626  0.394843  0.224658  0.0  \n",
       "22  0.733853  0.656279  0.553426  0.417314  0.237444  0.0  \n",
       "23  0.773369  0.691618  0.583227  0.439785  0.250229  0.0  \n",
       "24  0.800354  0.715750  0.603577  0.455131  0.258960  0.0  \n",
       "\n",
       "[25 rows x 405 columns]"
      ]
     },
     "execution_count": 20,
     "metadata": {},
     "output_type": "execute_result"
    }
   ],
   "source": [
    "df = campaign.get_collation_result()\n",
    "df"
   ]
  },
  {
   "cell_type": "markdown",
   "id": "8f66fdbe-8b7c-4d35-85ca-eb45315be818",
   "metadata": {},
   "source": [
    "### Analysis: postprocessing the results"
   ]
  },
  {
   "cell_type": "code",
   "execution_count": 21,
   "id": "c7c41531-1cb5-4ee1-a360-c0a8de605ce7",
   "metadata": {
    "tags": []
   },
   "outputs": [
    {
     "name": "stderr",
     "output_type": "stream",
     "text": [
      "/home/wouter/.local/lib/python3.9/site-packages/easyvvuq-1.2.1+59.g0d27a638.dirty-py3.9.egg/easyvvuq/analysis/sc_analysis.py:1279: RuntimeWarning: invalid value encountered in divide\n",
      "  sobol[u] = D_u[u] / D\n"
     ]
    },
    {
     "data": {
      "text/plain": [
       "['mean', 'var', 'std']"
      ]
     },
     "execution_count": 21,
     "metadata": {},
     "output_type": "execute_result"
    }
   ],
   "source": [
    "results = campaign.analyse(qoi_cols=['u'])\n",
    "results.supported_stats()"
   ]
  },
  {
   "cell_type": "markdown",
   "id": "7ce11640-15f7-4e9e-b53a-dccf47b122ac",
   "metadata": {},
   "source": [
    "### Plotting moments\n",
    "\n",
    "Here we once again plot the mean and standard deviation."
   ]
  },
  {
   "cell_type": "code",
   "execution_count": 22,
   "id": "ad81523e-6b43-4eb0-b3d1-ec25461fb709",
   "metadata": {
    "tags": []
   },
   "outputs": [],
   "source": [
    "code_samples = results.samples['u'].values\n",
    "xx = np.linspace(0, 1, code_samples.shape[1])"
   ]
  },
  {
   "cell_type": "code",
   "execution_count": 23,
   "id": "69e75886-4899-4476-88d6-1c64f944ed1f",
   "metadata": {
    "tags": []
   },
   "outputs": [
    {
     "name": "stderr",
     "output_type": "stream",
     "text": [
      "/tmp/ipykernel_46747/3819871877.py:11: UserWarning: The figure layout has changed to tight\n",
      "  plt.tight_layout()\n"
     ]
    },
    {
     "data": {
      "image/png": "[encoded data removed]",
      "text/plain": [
       "<Figure size 640x480 with 1 Axes>"
      ]
     },
     "metadata": {},
     "output_type": "display_data"
    }
   ],
   "source": [
    "mean = results.describe(qoi = 'u', statistic = 'mean')\n",
    "std = results.describe(qoi = 'u', statistic = 'std')\n",
    "\n",
    "fig = plt.figure()\n",
    "ax = fig.add_subplot(111, xlabel='x', ylabel = 'u')\n",
    "ax.plot(xx, mean, color='dodgerblue', label='mean')\n",
    "ax.plot(xx, mean + std, '--', color='dodgerblue', label='mean +/ std')\n",
    "ax.plot(xx, mean - std, '--', color='dodgerblue')\n",
    "plt.legend(frameon = False)\n",
    "plt.tight_layout()\n",
    "plt.tight_layout()"
   ]
  },
  {
   "cell_type": "markdown",
   "id": "3c7da59c-a990-434e-a572-b3cec1ab8e26",
   "metadata": {},
   "source": [
    "### Fast sampling using the surrogate\n",
    "\n",
    "We again run the SC or PCE surrogate"
   ]
  },
  {
   "cell_type": "code",
   "execution_count": 24,
   "id": "c7535ec5-77a6-4794-ad6a-25d06701d773",
   "metadata": {
    "tags": []
   },
   "outputs": [
    {
     "data": {
      "image/png": "[encoded data removed]",
      "text/plain": [
       "<Figure size 640x480 with 1 Axes>"
      ]
     },
     "metadata": {},
     "output_type": "display_data"
    }
   ],
   "source": [
    "surrogate = results.surrogate()\n",
    "\n",
    "random_inputs = {}\n",
    "n_samples = 1000\n",
    "for param in vary.keys():\n",
    "    random_inputs[param] = vary[param].sample(n_samples)\n",
    "\n",
    "u_surrogate = surrogate(random_inputs)\n",
    "\n",
    "fig = plt.figure()\n",
    "ax = fig.add_subplot(111, xlabel='x', ylabel = 'u')\n",
    "ax.plot(xx, np.array(u_surrogate['u']).T, color='dodgerblue', alpha=0.8, label='surrogate')\n",
    "ax.plot(xx, code_samples.T, color='salmon', label='code')\n",
    "\n",
    "# legend, but remove duplicate labels\n",
    "handles, labels = plt.gca().get_legend_handles_labels()\n",
    "by_label = dict(zip(labels, handles))\n",
    "plt.legend(by_label.values(), by_label.keys())\n",
    "\n",
    "plt.tight_layout()"
   ]
  },
  {
   "cell_type": "markdown",
   "id": "1c1bf274-dc44-485c-86be-a229684a4089",
   "metadata": {},
   "source": [
    "### Plotting the Sobol indices\n",
    "\n",
    "And we plot the Sobol indices."
   ]
  },
  {
   "cell_type": "code",
   "execution_count": 25,
   "id": "b1da581d-e543-412c-95fc-b3d505ffc7e5",
   "metadata": {
    "tags": []
   },
   "outputs": [
    {
     "data": {
      "image/png": "[encoded data removed]",
      "text/plain": [
       "<Figure size 640x480 with 1 Axes>"
      ]
     },
     "metadata": {},
     "output_type": "display_data"
    }
   ],
   "source": [
    "sobols_first = results.sobols_first()\n",
    "\n",
    "fig = plt.figure()\n",
    "ax = fig.add_subplot(111, xlabel='x', ylabel = 'u')\n",
    "\n",
    "for param in vary:\n",
    "    ax.plot(xx, sobols_first['u'][param], label=param)\n",
    "\n",
    "plt.legend(frameon = False)\n",
    "plt.tight_layout()"
   ]
  },
  {
   "cell_type": "markdown",
   "id": "54dffb38-5638-4815-960a-d85a2e359af9",
   "metadata": {},
   "source": [
    "## Assigment: repeat on Archer2\n",
    "\n",
    "If you have aquired access to Archer2, you can redo this exercise, except run the ensemble on Archer2 instead on your laptop. To do so you you will need to:\n",
    "\n",
    "* Copy the advection-diffusion model to a location in Archer2. From within this path, you can do so via `scp -r advection_diffusion_model/ <username>@login.archer2.ac.uk:~/`, replacing `<username>` with your archer2 user name. This will copy `advection_diffusion_model/*` to your Archer2 home directory.\n",
    "* Configure Archer2 in your `machines_user.yml` file. My file is posted below. Copy it, replace the archer2 entry in your `machine_user.yml`, and modify where needed, replacing my username with yours, and my project (`e723`) with yours (`ta171`). Note that for larger models, this is also where you can request more than 1 compute node.\n",
    "\n",
    "```python\n",
    "archer2:\n",
    "  username: \"edeling\"\n",
    "  project: \"e723\"\n",
    "  budget: \"e723-edeling\"\n",
    "  manual_ssh: true\n",
    "  remote: \"login.archer2.ac.uk\"\n",
    "  job_wall_time: '0-00:10:00'\n",
    "  partition_name: \"standard\"\n",
    "  ade_exec_school : \"/home/e723/e723/edeling/advection_diffusion_model/advection_diffusion.py\"\n",
    "  qos_name: \"short\"\n",
    "  runtime: 10\n",
    "  nodes: 1\n",
    "  ranks: 1\n",
    "  cores_per_rank: 1\n",
    "  run_prefix_commands: [\"export PYTHONUSERBASE=/work/$project/$project/$username/.local\", \"export PATH=$PYTHONUSERBASE/bin:$PATH\", \"export PYTHONPATH=$PYTHONUSERBASE/lib/python3.9/site-packages:$PYTHONPATH\"]\n",
    "  modules:\n",
    "        loaded: [\"cray-python/3.9.13.1\"]\n",
    "        unloaded: [\"cray-python\"]\n",
    "```\n",
    "\n",
    "* Once Archer2 if configured properly, switching from local ensemble execution to execution on Archer2 is done by simply changing the `MACHINE` flag in this notebook from `\"localhost\"` to `\"archer2\"`."
   ]
  },
  {
   "cell_type": "code",
   "execution_count": null,
   "id": "37364a06-a528-470f-9a91-66e453175df8",
   "metadata": {},
   "outputs": [],
   "source": []
  }
 ],
 "metadata": {
  "kernelspec": {
   "display_name": "Python 3 (ipykernel)",
   "language": "python",
   "name": "python3"
  },
  "language_info": {
   "codemirror_mode": {
    "name": "ipython",
    "version": 3
   },
   "file_extension": ".py",
   "mimetype": "text/x-python",
   "name": "python",
   "nbconvert_exporter": "python",
   "pygments_lexer": "ipython3",
   "version": "3.9.16"
  }
 },
 "nbformat": 4,
 "nbformat_minor": 5
}
