{
 "cells": [
  {
   "cell_type": "markdown",
   "id": "4f80c75c-5618-4d24-a739-a632c3e60d27",
   "metadata": {},
   "source": [
    "# Setting up a basic EasyVVUQ-Fabsim3 campaign\n",
    "\n",
    "We will assume you have executed the basic EasyVVUQ assigment of day 2. Here, we will do the same, except we will **use FabSim3 to execute the ensembles, instead of the EasyVVUQ `ExecuteLocal` class**. As before, we will quantify the uncertainties of our simple advection-diffusion model:\n",
    "\n",
    "\\begin{align*}\n",
    "\\boxed{\n",
    "\\frac{du}{dx} - \\frac{1}{Pe}\\frac{d^2u}{dx^2} = f}\n",
    "\\end{align*}\n",
    "\n",
    "This ODE solves for the velocity $u(x)$, where the spatial domain runs from $x\\in[0,1]$. Homogeneous boundary conditions are applied: $u(0)=u(1)=0$. The solution $u$ depends upon two parameters:\n",
    "\n",
    "* $Pe$: the so-called **Peclet number**, defined as the ratio between the rate of advection and the rate of diffusion,\n",
    "* $f$: the constant forcing term.\n",
    "\n",
    "A numerical solver (finite elements) of this equation is found in from this path in `advection_diffusion_model/advection_diffusion.py`."
   ]
  },
  {
   "cell_type": "code",
   "execution_count": 1,
   "id": "13fea71e-e4a8-413e-9744-b615334983d9",
   "metadata": {
    "tags": []
   },
   "outputs": [],
   "source": [
    "#!pip install easyvvuq\n",
    "#!pip install \"numpy>=1.0,<2.0\""
   ]
  },
  {
   "cell_type": "code",
   "execution_count": 2,
   "id": "84c26fdc-ba35-4c3a-9e96-a847bcae11e7",
   "metadata": {},
   "outputs": [],
   "source": [
    "import os\n",
    "import numpy as np\n",
    "import matplotlib.pyplot as plt\n",
    "\n",
    "import chaospy as cp\n",
    "import easyvvuq as uq\n",
    "from easyvvuq.actions import CreateRunDirectory, Encode, Decode, ExecuteLocal, Actions"
   ]
  },
  {
   "cell_type": "markdown",
   "id": "b3c0bd6d-e376-408e-ba85-7bd6b78d3e01",
   "metadata": {},
   "source": [
    "### Flags\n",
    "\n",
    "These are the EasyVVUQ flags we used before:\n",
    "\n",
    "* `HOME`: simply the current directory,\n",
    "* `WORK_DIR`: this is where all the EasyVVUQ ensembles runs will be stored,\n",
    "* `CAMPAIGN_NAME`: this is the name of the EasyVVUQ campaign, explained later."
   ]
  },
  {
   "cell_type": "code",
   "execution_count": 3,
   "id": "e3e8eaa5-889b-477e-9b0d-dd5d235eb1ee",
   "metadata": {
    "tags": []
   },
   "outputs": [],
   "source": [
    "# home directory\n",
    "HOME = os.getcwd()\n",
    "# Work directory, where the easyVVUQ directory will be placed\n",
    "WORK_DIR = '/tmp'\n",
    "# EasyVVUQ Campaign name\n",
    "CAMPAIGN_NAME = 'adv_diff'"
   ]
  },
  {
   "cell_type": "markdown",
   "id": "be98cf77-aea4-4b2d-ac9a-bf8e2b3aea64",
   "metadata": {},
   "source": [
    "### Define parameter space\n",
    "\n",
    "We will have to define a dictionary that minimally describes the type (typically `float` or maybe `integer`) of each input, as well as its default value. Below we create the `params` dict for the Peclet number $Pe$ and forcing term $f$."
   ]
  },
  {
   "cell_type": "code",
   "execution_count": 4,
   "id": "e00d93f3-d781-4a75-8e7c-cc8102f6bd35",
   "metadata": {
    "tags": []
   },
   "outputs": [],
   "source": [
    "# Define parameter space: type & default value\n",
    "params = {\n",
    "    \"Pe\": {\n",
    "        \"type\": \"float\",\n",
    "        \"default\": 100.0},\n",
    "    \"f\": {\n",
    "        \"type\": \"float\",\n",
    "        \"default\": 1.0}}"
   ]
  },
  {
   "cell_type": "markdown",
   "id": "43f6dba2-3811-44d1-993f-48a2c74bd801",
   "metadata": {},
   "source": [
    "### Choose input distributions\n",
    "\n",
    "Here we assign a probability density function to inputs from the `params` dict.  EasyVVUQ uses the Chaospy library for this purpose. A list of available distributions can be found [here](https://chaospy.readthedocs.io/en/master/reference/distribution/index.html).\n",
    "\n",
    "All parameters that we actually want to vary are stored in the `vary`. These must also occur in the `params` dict. The converse is not true. If we only wish to vary a subset of the inputs in the `params` dict, we simply leave out the inputs in the `vary` dict that we do not want to change. These excluded inputs will automatically be assigned their default value in all ensemble runs.\n",
    "\n",
    "**Assigment**: Assign uniform distribution to both inputs, using the `cp.Uniform` distribution, bounded to $\\pm10\\%$ of the defaults values:"
   ]
  },
  {
   "cell_type": "code",
   "execution_count": 5,
   "id": "09c476d5-c888-4d5b-a8ef-cb2ac26bf93c",
   "metadata": {
    "tags": []
   },
   "outputs": [
    {
     "data": {
      "text/plain": [
       "{'Pe': Uniform(lower=90.0, upper=110.00000000000001),\n",
       " 'f': Uniform(lower=0.9, upper=1.1)}"
      ]
     },
     "execution_count": 5,
     "metadata": {},
     "output_type": "execute_result"
    }
   ],
   "source": [
    "vary = {'Pe' : cp.Uniform(0.9 * params['Pe']['default'], 1.1 * params['Pe']['default']),\n",
    "        'f' :  cp.Uniform(0.9 * params['f']['default'], 1.1 * params['f']['default'])}\n",
    "vary"
   ]
  },
  {
   "cell_type": "markdown",
   "id": "95aca3ce-2947-44b1-a62d-94d1b52ce16f",
   "metadata": {},
   "source": [
    "### Input file encoding\n",
    "\n",
    "We require some way of feeding new parameter values to whatever simulation code we are examining. This is done by creating an **input template**. The `encoder` class cabn read this template and fill it with input samples drawn from the distributions of the `vary dict`. We will use the `GenericEncoder` for this purpose. It take 3 arguments:\n",
    "\n",
    "* `template_fname`: this is the input template created in the previous exercise\n",
    "* `delimiter`: the delimiter sought out by the encoder\n",
    "* `target_filename`: the name of the input file"
   ]
  },
  {
   "cell_type": "code",
   "execution_count": 6,
   "id": "fd5441c7-935f-47ed-bf28-4cada36f3806",
   "metadata": {
    "tags": []
   },
   "outputs": [],
   "source": [
    "encoder = uq.encoders.GenericEncoder(template_fname='advection_diffusion_model/input.template',\n",
    "                                     delimiter='$',\n",
    "                                     target_filename='input.json')"
   ]
  },
  {
   "cell_type": "markdown",
   "id": "946a58b4-5fc7-4296-86db-b81aeece05ac",
   "metadata": {},
   "source": [
    "### Output file decoding\n",
    "\n",
    "We once more use the `SimpleCSV` decoder to extract the velocity $u$ from the CSV output file:"
   ]
  },
  {
   "cell_type": "code",
   "execution_count": 7,
   "id": "f80ad618-b3cd-4bf5-9bf7-278e89af92a9",
   "metadata": {
    "tags": []
   },
   "outputs": [],
   "source": [
    "decoder = uq.decoders.SimpleCSV(target_filename='output.csv', \n",
    "                                output_columns=['u'])"
   ]
  },
  {
   "cell_type": "markdown",
   "id": "85d7c4f1-d817-4515-a82e-d167623d8ddb",
   "metadata": {},
   "source": [
    "### Actions: creating a sequence of steps\n",
    "\n",
    "Up to this point everything was the same an in the previous advection-diffusion tutorial. There we defined the following actions, stringing the whole workflow into a single `Actions` object:\n",
    "\n",
    "```python\n",
    "execute = ExecuteLocal('python {}/advection_diffusion_model/advection_diffusion.py'.format(HOME))\n",
    "actions = Actions(CreateRunDirectory(WORK_DIR, flatten=True), Encode(encoder), execute, Decode(decoder))\n",
    "```\n",
    "\n",
    "Here, we will break the Actions in three pieces:\n",
    "\n",
    "1) Create the ensemble directories and encode the input file\n",
    "\n",
    "2) Run ensemble using FabSim3\n",
    "\n",
    "3) Decode\n",
    "\n",
    "Step 1:"
   ]
  },
  {
   "cell_type": "code",
   "execution_count": 8,
   "id": "c66f5972-af7d-4c58-b90d-17016ba5e0f8",
   "metadata": {
    "tags": []
   },
   "outputs": [],
   "source": [
    "# create the run directories and encode the input file\n",
    "actions = Actions(CreateRunDirectory(WORK_DIR, flatten=True), Encode(encoder))"
   ]
  },
  {
   "cell_type": "markdown",
   "id": "f93e937a-b58a-465b-a4be-5797c097e98f",
   "metadata": {},
   "source": [
    "Create a campain:"
   ]
  },
  {
   "cell_type": "code",
   "execution_count": 9,
   "id": "36b6a418-29cc-4c9d-aadc-4c4de86792e5",
   "metadata": {
    "tags": []
   },
   "outputs": [],
   "source": [
    "campaign = uq.Campaign(work_dir=WORK_DIR, name=CAMPAIGN_NAME,\n",
    "                       params=params, actions=actions)"
   ]
  },
  {
   "cell_type": "markdown",
   "id": "25b8ba7d-d97f-49dc-91de-15f884a8b911",
   "metadata": {},
   "source": [
    "Select a sampler:"
   ]
  },
  {
   "cell_type": "code",
   "execution_count": 10,
   "id": "960e4475-386d-4b12-80aa-0a7abd184960",
   "metadata": {
    "tags": []
   },
   "outputs": [],
   "source": [
    "sampler = uq.sampling.SCSampler(vary=vary, polynomial_order=4)\n",
    "campaign.set_sampler(sampler)"
   ]
  },
  {
   "cell_type": "markdown",
   "id": "dbee112f-0fd1-444c-924b-a1aa4ff67182",
   "metadata": {},
   "source": [
    "And execute the actions. At this point you can check if `WORKDIR` contains your campaign directory with encoded input files. The code itself has not been executed yet."
   ]
  },
  {
   "cell_type": "code",
   "execution_count": 11,
   "id": "6a72fad1-ff06-40af-9ac6-3936ee35ed2e",
   "metadata": {
    "tags": []
   },
   "outputs": [],
   "source": [
    "# execute the actions\n",
    "campaign.execute().collate()"
   ]
  },
  {
   "cell_type": "markdown",
   "id": "a3682a8c-b2fb-4126-aa13-77868592b90d",
   "metadata": {},
   "source": [
    "## Linking EasyVVUQ and FabSim3\n",
    "\n",
    "We will assume you have FabSim3 installed. If not, you can find instructions [here](https://fabsim3.readthedocs.io/en/latest/). \n",
    "\n",
    "To couple EasyVVUQ and FabSim3, you will need to install the `FabUQCampaign` plugin. Simply run \n",
    "\n",
    "```\n",
    "fabsim localhost install_plugin:FabUQCampaign\n",
    "```\n",
    "\n",
    "This will install the plugin in `FabSim3/plugins/FanUQCampaign`."
   ]
  },
  {
   "cell_type": "markdown",
   "id": "a64331e2-1d1a-4953-a3b6-b776e28293b0",
   "metadata": {},
   "source": [
    "You will now need to configure the FabSim3 script, config and `machines_user.yml` file.\n",
    "\n",
    "**machines_user.yml**\n",
    "\n",
    "This file is located in `FabSim3/fabsim/deploy`. Open it. This is an important file that lets you configure your run environment for various machines, both your `localhost` as well as remote machines. We need to tell FabSim where we can find the advection-diffusion solver (the one in this repo ``advection_diffusion_model/advection_diffusion.py``). My `localhost` machine is posted below. In yours, also add the last line that says `ade_exec_school`.\n",
    "\n",
    "```python\n",
    "localhost:\n",
    "  username: wouter\n",
    "  partition_name: \"standard\"\n",
    "  qos_name: \"short\"\n",
    "  runtime: 10\n",
    "  nodes: 1\n",
    "  ranks: 1\n",
    "  cores_per_rank: 1\n",
    "  home_path_template: \"/home/wouter/FabSim3/localhost_exe\"\n",
    "  ade_exec_school: \"<your full path to advection_diffusion.py>\"\n",
    "```\n",
    "\n",
    "**Script**\n",
    "\n",
    "This is simply the file that contains the command-line instruction to run the advection diffusion equation Python script, similar to the argument passed to `ExecuteLocal` that we used before. Do the following:\n",
    "\n",
    "* Go to `FabSim3/plugins/FabUQCampaign/templates`. Create a new script `ade_school`. Our model is a simple python script, so the following instructions will suffice:\n",
    "\n",
    "```\n",
    "cd $job_results\n",
    "$run_prefix\n",
    "\n",
    "python3 $ade_exec_school\n",
    "```\n",
    "\n",
    "This will just enter the correct run directory, and execute the `$ade_exec_school` script that we defined in `machines_user.yml`. Note that the scripts are just command line instructions, so other (non-Python) models can be executed as well in the same manner.\n",
    "\n",
    "**Config**\n",
    "\n",
    "The model config files (if any) are located in `FabSim3/plugins/FabUQCampaign/config`. We will call our config `ade_school` again, make an empty directory with that name in `FabSim3/plugins/FabUQCampaign/templates`. That's all we need to do, al least in this case. If your model requires additional config files, perhaps stored in some predefined directory structure, this is where you would place that. Those will then be automatically copied to every ensemble member."
   ]
  },
  {
   "cell_type": "markdown",
   "id": "f593cfec-4cc9-432a-b6fc-c7d5938b270c",
   "metadata": {},
   "source": [
    "We will set the following FabSim3 flags, in line with what was discussed above:"
   ]
  },
  {
   "cell_type": "code",
   "execution_count": 12,
   "id": "a7d51d36-32ac-4161-8ee0-b3b77f43a3d4",
   "metadata": {
    "tags": []
   },
   "outputs": [],
   "source": [
    "# FabSim3 config name\n",
    "CONFIG = 'ade_school'\n",
    "# FabSim3 script name\n",
    "SCRIPT = 'ade_school'\n",
    "# machine to run ensemble on\n",
    "MACHINE = \"localhost\""
   ]
  },
  {
   "cell_type": "markdown",
   "id": "1bb5907a-bdad-4030-8007-5cf287f5efc1",
   "metadata": {},
   "source": [
    "### FabSim3-Python interface\n",
    "\n",
    "FabSim3 is a command line tool, but FabUQCampaign also has a Python interface that is simply a shell over the commandline tools. It is stored locally here. To import it use"
   ]
  },
  {
   "cell_type": "code",
   "execution_count": 13,
   "id": "4f31d24c-12ce-45ac-86fe-94a776ff70fd",
   "metadata": {
    "tags": []
   },
   "outputs": [],
   "source": [
    "# Import the FabSim3 commandline interface\n",
    "import fabsim3_cmd_api as fab"
   ]
  },
  {
   "cell_type": "markdown",
   "id": "4bb3fa16-1f52-4328-880f-30e37a81c64f",
   "metadata": {},
   "source": [
    "We are now ready to submit the ensemble, in this case to `localhost`. The command `fab.run_uq_ensemble` submits the ensemble to the (remote) host for execution. Under the hood it uses the FabSim3 `campaign2ensemble` subroutine to copy the run directories from the EasyVVUQ `WORK_DIR` to the FabSim3 `SWEEP` directory, located in `plugins/FabUQCampaign/config_files/ade_school/SWEEP`. From there the ensemble will be sent to the (remote) host.\n",
    "\n",
    "**Note**: if you get some type of ssh error, you might have to ssh into the (remote) machine once via the command line before executing `run_uq_ensemble`."
   ]
  },
  {
   "cell_type": "code",
   "execution_count": 17,
   "id": "34129b70-c871-4dd1-bc48-33ea47bdde83",
   "metadata": {
    "tags": []
   },
   "outputs": [
    {
     "name": "stdout",
     "output_type": "stream",
     "text": [
      "Executing fabsim archer2 run_uq_ensemble:ade_school,campaign_dir=/tmp/adv_diffwngn515o,script=ade_school,skip=0,PJ=False\n"
     ]
    },
    {
     "name": "stderr",
     "output_type": "stream",
     "text": [
      "/home/wouter/anaconda3/lib/python3.9/site-packages/paramiko/transport.py:219: CryptographyDeprecationWarning: Blowfish has been deprecated\n",
      "  \"class\": algorithms.Blowfish,\n"
     ]
    }
   ],
   "source": [
    "fab.run_uq_ensemble(CONFIG, campaign.campaign_dir, script=SCRIPT, machine=MACHINE, PJ=False)"
   ]
  },
  {
   "cell_type": "markdown",
   "id": "d3c44cce-a978-474e-b749-b358ce247a40",
   "metadata": {},
   "source": [
    "This will check every minute on the status of the jobs on the remote host, and sleep otherwise, halting further execution of the script. On the localhost this command doesn't do anything."
   ]
  },
  {
   "cell_type": "code",
   "execution_count": 18,
   "id": "f712a84a-2acc-4e43-af55-1231719dac40",
   "metadata": {
    "tags": []
   },
   "outputs": [
    {
     "name": "stderr",
     "output_type": "stream",
     "text": [
      "/home/wouter/anaconda3/lib/python3.9/site-packages/paramiko/transport.py:219: CryptographyDeprecationWarning: Blowfish has been deprecated\n",
      "  \"class\": algorithms.Blowfish,\n"
     ]
    },
    {
     "name": "stdout",
     "output_type": "stream",
     "text": [
      "Checking job status...\n",
      "All runs have completed\n"
     ]
    },
    {
     "data": {
      "text/plain": [
       "True"
      ]
     },
     "execution_count": 18,
     "metadata": {},
     "output_type": "execute_result"
    }
   ],
   "source": [
    "# wait for job to complete\n",
    "fab.wait(machine=MACHINE)"
   ]
  },
  {
   "cell_type": "markdown",
   "id": "a3b33249-fbd8-4749-b3db-85916567704a",
   "metadata": {},
   "source": [
    "`fab.verify` will execute the `verify_last_ensemble` subroutine to see if the output file `target_filename` (`output.csv` in our case) for each run in the `SWEEP` directory is present in the corresponding FabSim3 results directory. Returns a boolean flag. `fab.verify` will also call the FabSim `fetch_results` method, which actually retrieves the results from the (remote) host. \n",
    "\n",
    "So, if you want to just get the results without verifying the presence of output files, call `fab.fetch_results(machine=MACHINE)` instead. However, if something went wrong on the (remote) host, this will cause an error later on since not all required output files will be transfered on the EasyVVUQ `WORK_DIR`."
   ]
  },
  {
   "cell_type": "code",
   "execution_count": 19,
   "id": "a0f7db6b-841c-4997-98b7-ddecc29f58a2",
   "metadata": {
    "tags": []
   },
   "outputs": [
    {
     "name": "stderr",
     "output_type": "stream",
     "text": [
      "/home/wouter/anaconda3/lib/python3.9/site-packages/paramiko/transport.py:219: CryptographyDeprecationWarning: Blowfish has been deprecated\n",
      "  \"class\": algorithms.Blowfish,\n"
     ]
    },
    {
     "name": "stdout",
     "output_type": "stream",
     "text": [
      "Checking job status...\n",
      "All runs have completed\n",
      "Executing fabsim archer2 fetch_results\n"
     ]
    },
    {
     "name": "stderr",
     "output_type": "stream",
     "text": [
      "/home/wouter/anaconda3/lib/python3.9/site-packages/paramiko/transport.py:219: CryptographyDeprecationWarning: Blowfish has been deprecated\n",
      "  \"class\": algorithms.Blowfish,\n"
     ]
    },
    {
     "name": "stdout",
     "output_type": "stream",
     "text": [
      "Executing fabsim localhost verify_last_ensemble:ade_school,campaign_dir=/tmp/adv_diffwngn515o,target_filename=output.csv,machine=archer2\n"
     ]
    },
    {
     "name": "stderr",
     "output_type": "stream",
     "text": [
      "/home/wouter/anaconda3/lib/python3.9/site-packages/paramiko/transport.py:219: CryptographyDeprecationWarning: Blowfish has been deprecated\n",
      "  \"class\": algorithms.Blowfish,\n"
     ]
    }
   ],
   "source": [
    "# check if all output files are retrieved from the remote machine, returns a Boolean flag\n",
    "all_good = fab.verify(CONFIG, campaign.campaign_dir,\n",
    "                      'output.csv',\n",
    "                      machine=MACHINE)"
   ]
  },
  {
   "cell_type": "markdown",
   "id": "01570899-10cb-4d14-8dca-b86e7e04cc32",
   "metadata": {},
   "source": [
    "`fab.get_uq_samples` copies the samples from the (local) FabSim results directory to the (local) EasyVVUQ campaign directory. It will not delete the results from the FabSim results directory. If you want to save space, you can delete the results on the FabSim side (see `results` directory in your FabSim home directory). You can also call `fab.clear_results(machine, name_results_dir)` to remove a specific FabSim results directory on a given machine."
   ]
  },
  {
   "cell_type": "code",
   "execution_count": 20,
   "id": "b0f89ca1-2ba4-47dd-a318-f91b448e985a",
   "metadata": {
    "tags": []
   },
   "outputs": [
    {
     "name": "stdout",
     "output_type": "stream",
     "text": [
      "Executing fabsim archer2 get_uq_samples:ade_school,campaign_dir=/tmp/adv_diffwngn515o,number_of_samples=100,skip=0\n"
     ]
    },
    {
     "name": "stderr",
     "output_type": "stream",
     "text": [
      "/home/wouter/anaconda3/lib/python3.9/site-packages/paramiko/transport.py:219: CryptographyDeprecationWarning: Blowfish has been deprecated\n",
      "  \"class\": algorithms.Blowfish,\n"
     ]
    }
   ],
   "source": [
    "if all_good:\n",
    "    # copy the results from the FabSim results dir to the EasyVVUQ results dir\n",
    "    fab.get_uq_samples(CONFIG, campaign.campaign_dir, sampler.n_samples, machine=MACHINE)\n",
    "else:\n",
    "    print(\"Not all samples executed correctly\")\n",
    "    import sys\n",
    "    sys.exit()"
   ]
  },
  {
   "cell_type": "markdown",
   "id": "8b207ab3-de3a-4224-85bc-d7ddf3dcfcde",
   "metadata": {},
   "source": [
    "#### Error handling\n",
    "\n",
    "If `all_good == False` something went wrong on the (remote) host, and `sys.exit()` is called in our example, giving you the opportunity of investigating what went wrong. It can happen that a (small) number of jobs did not get executed on the remote host for some reason, whereas (most) jobs did execute succesfully. In this case simply resubmitting the failed jobs could be an option:\n",
    "\n",
    "```python\n",
    "fab.remove_succesful_runs(CONFIG, campaign.campaign_dir)\n",
    "fab.resubmit_previous_ensemble(CONFIG, 'ade_school')\n",
    "```\n",
    "\n",
    "The first command removes all succesful run directories from the `SWEEP` dir for which the output file `TARGET_FILENAME` has been found. For this to work, `fab.verify` must have been called. Then, `fab.resubmit_previous_ensemble` simply resubmits the runs that are present in the `SWEEP` directory, which by now only contains the failed runs. After the jobs have finished, call `fab.verify` again to see if now `TARGET_FILENAME` is present in the results directory, for every run in the `SWEEP` dir."
   ]
  },
  {
   "cell_type": "markdown",
   "id": "4c4911db-8a5f-4f6c-ab1d-994d09c61e45",
   "metadata": {},
   "source": [
    "Once all output files are copied to the EasyVVUQ run directories, we no longer need the (now duplicate) results in the FabSim3 directory. You can remove these via the command below, once you change the path from my FabSim3 directory to yours."
   ]
  },
  {
   "cell_type": "code",
   "execution_count": 29,
   "id": "9724b102-02b4-4fc8-b6ef-acc5070f00a2",
   "metadata": {},
   "outputs": [
    {
     "name": "stdout",
     "output_type": "stream",
     "text": [
      "Executing fabsim archer2 clear_results:/work/e723/e723/edeling/FabSim/\n"
     ]
    },
    {
     "name": "stderr",
     "output_type": "stream",
     "text": [
      "/home/wouter/anaconda3/lib/python3.9/site-packages/paramiko/transport.py:219: CryptographyDeprecationWarning: Blowfish has been deprecated\n",
      "  \"class\": algorithms.Blowfish,\n"
     ]
    }
   ],
   "source": [
    "# clear results in Fabsim directory, change path to your FabSim3 directory\n",
    "fab.clear_results(\"localhost\", '/home/wouter/FabSim3/results/')  # localhost\n",
    "# fab.clear_results(\"archer2\", '/work/e723/e723/edeling/FabSim/')  # archer2"
   ]
  },
  {
   "cell_type": "markdown",
   "id": "49f47812-49c3-4c7d-a921-7a7842f038dc",
   "metadata": {},
   "source": [
    "### Continue the EasyVVUQ workflow\n",
    "\n",
    "At this point, the ensemble has been executed, and the results are copied back to the EasyVVUQ `WORK_DIR`. Thus we can continue as before, once we decode the output files:"
   ]
  },
  {
   "cell_type": "code",
   "execution_count": 22,
   "id": "51c8b168-9d80-4a48-961f-ab2a9cb24ae4",
   "metadata": {
    "tags": []
   },
   "outputs": [],
   "source": [
    "# All output files are present, decode them #\n",
    "\n",
    "actions = uq.actions.Actions(\n",
    "    uq.actions.Decode(decoder),\n",
    ")\n",
    "campaign.replace_actions(CAMPAIGN_NAME, actions)\n",
    "\n",
    "###########################\n",
    "# Execute decoding action #\n",
    "###########################\n",
    "\n",
    "campaign.execute().collate()"
   ]
  },
  {
   "cell_type": "markdown",
   "id": "92308731-67ae-48b9-8448-8bd230c55413",
   "metadata": {},
   "source": [
    "### Retrieving the raw results\n",
    "\n",
    "This is the raw EasyVVUQ data."
   ]
  },
  {
   "cell_type": "code",
   "execution_count": 23,
   "id": "e83ea865-5d9d-4346-8420-3ab6f0b5d03a",
   "metadata": {
    "tags": []
   },
   "outputs": [
    {
     "data": {
      "text/html": [
       "<div>\n",
       "<style scoped>\n",
       "    .dataframe tbody tr th:only-of-type {\n",
       "        vertical-align: middle;\n",
       "    }\n",
       "\n",
       "    .dataframe tbody tr th {\n",
       "        vertical-align: top;\n",
       "    }\n",
       "\n",
       "    .dataframe thead tr th {\n",
       "        text-align: left;\n",
       "    }\n",
       "</style>\n",
       "<table border=\"1\" class=\"dataframe\">\n",
       "  <thead>\n",
       "    <tr>\n",
       "      <th></th>\n",
       "      <th>run_id</th>\n",
       "      <th>iteration</th>\n",
       "      <th>Pe</th>\n",
       "      <th>f</th>\n",
       "      <th colspan=\"17\" halign=\"left\">u</th>\n",
       "    </tr>\n",
       "    <tr>\n",
       "      <th></th>\n",
       "      <th>0</th>\n",
       "      <th>0</th>\n",
       "      <th>0</th>\n",
       "      <th>0</th>\n",
       "      <th>0</th>\n",
       "      <th>1</th>\n",
       "      <th>2</th>\n",
       "      <th>3</th>\n",
       "      <th>4</th>\n",
       "      <th>5</th>\n",
       "      <th>...</th>\n",
       "      <th>391</th>\n",
       "      <th>392</th>\n",
       "      <th>393</th>\n",
       "      <th>394</th>\n",
       "      <th>395</th>\n",
       "      <th>396</th>\n",
       "      <th>397</th>\n",
       "      <th>398</th>\n",
       "      <th>399</th>\n",
       "      <th>400</th>\n",
       "    </tr>\n",
       "  </thead>\n",
       "  <tbody>\n",
       "    <tr>\n",
       "      <th>0</th>\n",
       "      <td>1</td>\n",
       "      <td>0</td>\n",
       "      <td>90.260935</td>\n",
       "      <td>0.902609</td>\n",
       "      <td>9.697462e-15</td>\n",
       "      <td>0.002257</td>\n",
       "      <td>0.004513</td>\n",
       "      <td>0.006770</td>\n",
       "      <td>0.009026</td>\n",
       "      <td>0.011283</td>\n",
       "      <td>...</td>\n",
       "      <td>0.764883</td>\n",
       "      <td>0.737275</td>\n",
       "      <td>0.702070</td>\n",
       "      <td>0.657337</td>\n",
       "      <td>0.600652</td>\n",
       "      <td>0.528976</td>\n",
       "      <td>0.438495</td>\n",
       "      <td>0.324426</td>\n",
       "      <td>0.180769</td>\n",
       "      <td>0.0</td>\n",
       "    </tr>\n",
       "    <tr>\n",
       "      <th>1</th>\n",
       "      <td>2</td>\n",
       "      <td>0</td>\n",
       "      <td>90.260935</td>\n",
       "      <td>0.913494</td>\n",
       "      <td>-1.088702e-14</td>\n",
       "      <td>0.002284</td>\n",
       "      <td>0.004567</td>\n",
       "      <td>0.006851</td>\n",
       "      <td>0.009135</td>\n",
       "      <td>0.011419</td>\n",
       "      <td>...</td>\n",
       "      <td>0.774107</td>\n",
       "      <td>0.746165</td>\n",
       "      <td>0.710536</td>\n",
       "      <td>0.665264</td>\n",
       "      <td>0.607895</td>\n",
       "      <td>0.535355</td>\n",
       "      <td>0.443782</td>\n",
       "      <td>0.328338</td>\n",
       "      <td>0.182949</td>\n",
       "      <td>0.0</td>\n",
       "    </tr>\n",
       "    <tr>\n",
       "      <th>2</th>\n",
       "      <td>3</td>\n",
       "      <td>0</td>\n",
       "      <td>90.260935</td>\n",
       "      <td>0.932059</td>\n",
       "      <td>1.443318e-14</td>\n",
       "      <td>0.002330</td>\n",
       "      <td>0.004660</td>\n",
       "      <td>0.006990</td>\n",
       "      <td>0.009321</td>\n",
       "      <td>0.011651</td>\n",
       "      <td>...</td>\n",
       "      <td>0.789839</td>\n",
       "      <td>0.761330</td>\n",
       "      <td>0.724977</td>\n",
       "      <td>0.678784</td>\n",
       "      <td>0.620250</td>\n",
       "      <td>0.546235</td>\n",
       "      <td>0.452802</td>\n",
       "      <td>0.335011</td>\n",
       "      <td>0.186667</td>\n",
       "      <td>0.0</td>\n",
       "    </tr>\n",
       "    <tr>\n",
       "      <th>3</th>\n",
       "      <td>4</td>\n",
       "      <td>0</td>\n",
       "      <td>90.260935</td>\n",
       "      <td>0.956660</td>\n",
       "      <td>6.564630e-16</td>\n",
       "      <td>0.002392</td>\n",
       "      <td>0.004783</td>\n",
       "      <td>0.007175</td>\n",
       "      <td>0.009567</td>\n",
       "      <td>0.011958</td>\n",
       "      <td>...</td>\n",
       "      <td>0.810687</td>\n",
       "      <td>0.781425</td>\n",
       "      <td>0.744112</td>\n",
       "      <td>0.696700</td>\n",
       "      <td>0.636621</td>\n",
       "      <td>0.560653</td>\n",
       "      <td>0.464753</td>\n",
       "      <td>0.343853</td>\n",
       "      <td>0.191594</td>\n",
       "      <td>0.0</td>\n",
       "    </tr>\n",
       "    <tr>\n",
       "      <th>4</th>\n",
       "      <td>5</td>\n",
       "      <td>0</td>\n",
       "      <td>90.260935</td>\n",
       "      <td>0.985113</td>\n",
       "      <td>-1.461868e-14</td>\n",
       "      <td>0.002463</td>\n",
       "      <td>0.004926</td>\n",
       "      <td>0.007388</td>\n",
       "      <td>0.009851</td>\n",
       "      <td>0.012314</td>\n",
       "      <td>...</td>\n",
       "      <td>0.834798</td>\n",
       "      <td>0.804665</td>\n",
       "      <td>0.766243</td>\n",
       "      <td>0.717421</td>\n",
       "      <td>0.655555</td>\n",
       "      <td>0.577327</td>\n",
       "      <td>0.478575</td>\n",
       "      <td>0.354080</td>\n",
       "      <td>0.197293</td>\n",
       "      <td>0.0</td>\n",
       "    </tr>\n",
       "    <tr>\n",
       "      <th>...</th>\n",
       "      <td>...</td>\n",
       "      <td>...</td>\n",
       "      <td>...</td>\n",
       "      <td>...</td>\n",
       "      <td>...</td>\n",
       "      <td>...</td>\n",
       "      <td>...</td>\n",
       "      <td>...</td>\n",
       "      <td>...</td>\n",
       "      <td>...</td>\n",
       "      <td>...</td>\n",
       "      <td>...</td>\n",
       "      <td>...</td>\n",
       "      <td>...</td>\n",
       "      <td>...</td>\n",
       "      <td>...</td>\n",
       "      <td>...</td>\n",
       "      <td>...</td>\n",
       "      <td>...</td>\n",
       "      <td>...</td>\n",
       "      <td>...</td>\n",
       "    </tr>\n",
       "    <tr>\n",
       "      <th>95</th>\n",
       "      <td>96</td>\n",
       "      <td>0</td>\n",
       "      <td>109.739065</td>\n",
       "      <td>1.014887</td>\n",
       "      <td>9.940289e-15</td>\n",
       "      <td>0.002537</td>\n",
       "      <td>0.005074</td>\n",
       "      <td>0.007612</td>\n",
       "      <td>0.010149</td>\n",
       "      <td>0.012686</td>\n",
       "      <td>...</td>\n",
       "      <td>0.907469</td>\n",
       "      <td>0.883112</td>\n",
       "      <td>0.850203</td>\n",
       "      <td>0.806023</td>\n",
       "      <td>0.746990</td>\n",
       "      <td>0.668379</td>\n",
       "      <td>0.563966</td>\n",
       "      <td>0.425547</td>\n",
       "      <td>0.242308</td>\n",
       "      <td>0.0</td>\n",
       "    </tr>\n",
       "    <tr>\n",
       "      <th>96</th>\n",
       "      <td>97</td>\n",
       "      <td>0</td>\n",
       "      <td>109.739065</td>\n",
       "      <td>1.043340</td>\n",
       "      <td>-1.922061e-15</td>\n",
       "      <td>0.002608</td>\n",
       "      <td>0.005217</td>\n",
       "      <td>0.007825</td>\n",
       "      <td>0.010433</td>\n",
       "      <td>0.013042</td>\n",
       "      <td>...</td>\n",
       "      <td>0.932910</td>\n",
       "      <td>0.907869</td>\n",
       "      <td>0.874038</td>\n",
       "      <td>0.828620</td>\n",
       "      <td>0.767932</td>\n",
       "      <td>0.687117</td>\n",
       "      <td>0.579777</td>\n",
       "      <td>0.437477</td>\n",
       "      <td>0.249101</td>\n",
       "      <td>0.0</td>\n",
       "    </tr>\n",
       "    <tr>\n",
       "      <th>97</th>\n",
       "      <td>98</td>\n",
       "      <td>0</td>\n",
       "      <td>109.739065</td>\n",
       "      <td>1.067941</td>\n",
       "      <td>-1.303176e-14</td>\n",
       "      <td>0.002670</td>\n",
       "      <td>0.005340</td>\n",
       "      <td>0.008010</td>\n",
       "      <td>0.010679</td>\n",
       "      <td>0.013349</td>\n",
       "      <td>...</td>\n",
       "      <td>0.954907</td>\n",
       "      <td>0.929277</td>\n",
       "      <td>0.894647</td>\n",
       "      <td>0.848159</td>\n",
       "      <td>0.786039</td>\n",
       "      <td>0.703319</td>\n",
       "      <td>0.593448</td>\n",
       "      <td>0.447792</td>\n",
       "      <td>0.254975</td>\n",
       "      <td>0.0</td>\n",
       "    </tr>\n",
       "    <tr>\n",
       "      <th>98</th>\n",
       "      <td>99</td>\n",
       "      <td>0</td>\n",
       "      <td>109.739065</td>\n",
       "      <td>1.086506</td>\n",
       "      <td>1.024135e-14</td>\n",
       "      <td>0.002716</td>\n",
       "      <td>0.005433</td>\n",
       "      <td>0.008149</td>\n",
       "      <td>0.010865</td>\n",
       "      <td>0.013581</td>\n",
       "      <td>...</td>\n",
       "      <td>0.971507</td>\n",
       "      <td>0.945431</td>\n",
       "      <td>0.910200</td>\n",
       "      <td>0.862903</td>\n",
       "      <td>0.799704</td>\n",
       "      <td>0.715545</td>\n",
       "      <td>0.603764</td>\n",
       "      <td>0.455577</td>\n",
       "      <td>0.259408</td>\n",
       "      <td>0.0</td>\n",
       "    </tr>\n",
       "    <tr>\n",
       "      <th>99</th>\n",
       "      <td>100</td>\n",
       "      <td>0</td>\n",
       "      <td>109.739065</td>\n",
       "      <td>1.097391</td>\n",
       "      <td>-1.012885e-14</td>\n",
       "      <td>0.002743</td>\n",
       "      <td>0.005487</td>\n",
       "      <td>0.008230</td>\n",
       "      <td>0.010974</td>\n",
       "      <td>0.013717</td>\n",
       "      <td>...</td>\n",
       "      <td>0.981240</td>\n",
       "      <td>0.954902</td>\n",
       "      <td>0.919318</td>\n",
       "      <td>0.871547</td>\n",
       "      <td>0.807715</td>\n",
       "      <td>0.722714</td>\n",
       "      <td>0.609813</td>\n",
       "      <td>0.460141</td>\n",
       "      <td>0.262006</td>\n",
       "      <td>0.0</td>\n",
       "    </tr>\n",
       "  </tbody>\n",
       "</table>\n",
       "<p>100 rows × 405 columns</p>\n",
       "</div>"
      ],
      "text/plain": [
       "   run_id iteration          Pe         f             u                      \\\n",
       "      0         0           0         0             0         1         2     \n",
       "0       1         0   90.260935  0.902609  9.697462e-15  0.002257  0.004513   \n",
       "1       2         0   90.260935  0.913494 -1.088702e-14  0.002284  0.004567   \n",
       "2       3         0   90.260935  0.932059  1.443318e-14  0.002330  0.004660   \n",
       "3       4         0   90.260935  0.956660  6.564630e-16  0.002392  0.004783   \n",
       "4       5         0   90.260935  0.985113 -1.461868e-14  0.002463  0.004926   \n",
       "..    ...       ...         ...       ...           ...       ...       ...   \n",
       "95     96         0  109.739065  1.014887  9.940289e-15  0.002537  0.005074   \n",
       "96     97         0  109.739065  1.043340 -1.922061e-15  0.002608  0.005217   \n",
       "97     98         0  109.739065  1.067941 -1.303176e-14  0.002670  0.005340   \n",
       "98     99         0  109.739065  1.086506  1.024135e-14  0.002716  0.005433   \n",
       "99    100         0  109.739065  1.097391 -1.012885e-14  0.002743  0.005487   \n",
       "\n",
       "                                  ...                                          \\\n",
       "         3         4         5    ...       391       392       393       394   \n",
       "0   0.006770  0.009026  0.011283  ...  0.764883  0.737275  0.702070  0.657337   \n",
       "1   0.006851  0.009135  0.011419  ...  0.774107  0.746165  0.710536  0.665264   \n",
       "2   0.006990  0.009321  0.011651  ...  0.789839  0.761330  0.724977  0.678784   \n",
       "3   0.007175  0.009567  0.011958  ...  0.810687  0.781425  0.744112  0.696700   \n",
       "4   0.007388  0.009851  0.012314  ...  0.834798  0.804665  0.766243  0.717421   \n",
       "..       ...       ...       ...  ...       ...       ...       ...       ...   \n",
       "95  0.007612  0.010149  0.012686  ...  0.907469  0.883112  0.850203  0.806023   \n",
       "96  0.007825  0.010433  0.013042  ...  0.932910  0.907869  0.874038  0.828620   \n",
       "97  0.008010  0.010679  0.013349  ...  0.954907  0.929277  0.894647  0.848159   \n",
       "98  0.008149  0.010865  0.013581  ...  0.971507  0.945431  0.910200  0.862903   \n",
       "99  0.008230  0.010974  0.013717  ...  0.981240  0.954902  0.919318  0.871547   \n",
       "\n",
       "                                                           \n",
       "         395       396       397       398       399  400  \n",
       "0   0.600652  0.528976  0.438495  0.324426  0.180769  0.0  \n",
       "1   0.607895  0.535355  0.443782  0.328338  0.182949  0.0  \n",
       "2   0.620250  0.546235  0.452802  0.335011  0.186667  0.0  \n",
       "3   0.636621  0.560653  0.464753  0.343853  0.191594  0.0  \n",
       "4   0.655555  0.577327  0.478575  0.354080  0.197293  0.0  \n",
       "..       ...       ...       ...       ...       ...  ...  \n",
       "95  0.746990  0.668379  0.563966  0.425547  0.242308  0.0  \n",
       "96  0.767932  0.687117  0.579777  0.437477  0.249101  0.0  \n",
       "97  0.786039  0.703319  0.593448  0.447792  0.254975  0.0  \n",
       "98  0.799704  0.715545  0.603764  0.455577  0.259408  0.0  \n",
       "99  0.807715  0.722714  0.609813  0.460141  0.262006  0.0  \n",
       "\n",
       "[100 rows x 405 columns]"
      ]
     },
     "execution_count": 23,
     "metadata": {},
     "output_type": "execute_result"
    }
   ],
   "source": [
    "df = campaign.get_collation_result()\n",
    "df"
   ]
  },
  {
   "cell_type": "markdown",
   "id": "8f66fdbe-8b7c-4d35-85ca-eb45315be818",
   "metadata": {},
   "source": [
    "### Analysis: postprocessing the results"
   ]
  },
  {
   "cell_type": "code",
   "execution_count": 24,
   "id": "c7c41531-1cb5-4ee1-a360-c0a8de605ce7",
   "metadata": {
    "tags": []
   },
   "outputs": [
    {
     "name": "stderr",
     "output_type": "stream",
     "text": [
      "/home/wouter/py-env/lib/python3.9/site-packages/easyvvuq/analysis/sc_analysis.py:1279: RuntimeWarning: invalid value encountered in divide\n",
      "  sobol[u] = D_u[u] / D\n"
     ]
    },
    {
     "data": {
      "text/plain": [
       "['mean', 'var', 'std']"
      ]
     },
     "execution_count": 24,
     "metadata": {},
     "output_type": "execute_result"
    }
   ],
   "source": [
    "results = campaign.analyse(qoi_cols=['u'])\n",
    "results.supported_stats()"
   ]
  },
  {
   "cell_type": "markdown",
   "id": "7ce11640-15f7-4e9e-b53a-dccf47b122ac",
   "metadata": {},
   "source": [
    "### Plotting moments\n",
    "\n",
    "Here we once again plot the mean and standard deviation."
   ]
  },
  {
   "cell_type": "code",
   "execution_count": 25,
   "id": "ad81523e-6b43-4eb0-b3d1-ec25461fb709",
   "metadata": {
    "tags": []
   },
   "outputs": [],
   "source": [
    "code_samples = results.samples['u'].values\n",
    "xx = np.linspace(0, 1, code_samples.shape[1])"
   ]
  },
  {
   "cell_type": "code",
   "execution_count": 26,
   "id": "69e75886-4899-4476-88d6-1c64f944ed1f",
   "metadata": {
    "tags": []
   },
   "outputs": [
    {
     "data": {
      "image/png": "[encoded data removed]",
      "text/plain": [
       "<Figure size 640x480 with 1 Axes>"
      ]
     },
     "metadata": {},
     "output_type": "display_data"
    }
   ],
   "source": [
    "mean = results.describe(qoi = 'u', statistic = 'mean')\n",
    "std = results.describe(qoi = 'u', statistic = 'std')\n",
    "\n",
    "fig = plt.figure()\n",
    "ax = fig.add_subplot(111, xlabel='x', ylabel = 'u')\n",
    "ax.plot(xx, mean, color='dodgerblue', label='mean')\n",
    "ax.plot(xx, mean + std, '--', color='dodgerblue', label='mean +/ std')\n",
    "ax.plot(xx, mean - std, '--', color='dodgerblue')\n",
    "plt.legend(frameon = False)\n",
    "plt.tight_layout()\n",
    "plt.tight_layout()"
   ]
  },
  {
   "cell_type": "markdown",
   "id": "3c7da59c-a990-434e-a572-b3cec1ab8e26",
   "metadata": {},
   "source": [
    "### Fast sampling using the surrogate\n",
    "\n",
    "We again run the SC or PCE surrogate"
   ]
  },
  {
   "cell_type": "code",
   "execution_count": 27,
   "id": "c7535ec5-77a6-4794-ad6a-25d06701d773",
   "metadata": {
    "tags": []
   },
   "outputs": [
    {
     "data": {
      "image/png": "[encoded data removed]",
      "text/plain": [
       "<Figure size 640x480 with 1 Axes>"
      ]
     },
     "metadata": {},
     "output_type": "display_data"
    }
   ],
   "source": [
    "surrogate = results.surrogate()\n",
    "\n",
    "random_inputs = {}\n",
    "n_samples = 1000\n",
    "for param in vary.keys():\n",
    "    random_inputs[param] = vary[param].sample(n_samples)\n",
    "\n",
    "u_surrogate = surrogate(random_inputs)\n",
    "\n",
    "fig = plt.figure()\n",
    "ax = fig.add_subplot(111, xlabel='x', ylabel = 'u')\n",
    "ax.plot(xx, np.array(u_surrogate['u']).T, color='dodgerblue', alpha=0.8, label='surrogate')\n",
    "ax.plot(xx, code_samples.T, color='salmon', label='code')\n",
    "\n",
    "# legend, but remove duplicate labels\n",
    "handles, labels = plt.gca().get_legend_handles_labels()\n",
    "by_label = dict(zip(labels, handles))\n",
    "plt.legend(by_label.values(), by_label.keys())\n",
    "\n",
    "plt.tight_layout()"
   ]
  },
  {
   "cell_type": "markdown",
   "id": "1c1bf274-dc44-485c-86be-a229684a4089",
   "metadata": {},
   "source": [
    "### Plotting the Sobol indices\n",
    "\n",
    "And we plot the Sobol indices."
   ]
  },
  {
   "cell_type": "code",
   "execution_count": 28,
   "id": "b1da581d-e543-412c-95fc-b3d505ffc7e5",
   "metadata": {
    "tags": []
   },
   "outputs": [
    {
     "data": {
      "image/png": "[encoded data removed]",
      "text/plain": [
       "<Figure size 640x480 with 1 Axes>"
      ]
     },
     "metadata": {},
     "output_type": "display_data"
    }
   ],
   "source": [
    "sobols_first = results.sobols_first()\n",
    "\n",
    "fig = plt.figure()\n",
    "ax = fig.add_subplot(111, xlabel='x', ylabel = 'u')\n",
    "\n",
    "for param in vary:\n",
    "    ax.plot(xx, sobols_first['u'][param], label=param)\n",
    "\n",
    "plt.legend(frameon = False)\n",
    "plt.tight_layout()"
   ]
  },
  {
   "cell_type": "markdown",
   "id": "54dffb38-5638-4815-960a-d85a2e359af9",
   "metadata": {},
   "source": [
    "## Assigment: repeat on Archer2\n",
    "\n",
    "If you have aquired access to Archer2, you can redo this exercise, except run the ensemble on Archer2 instead on your laptop. To do so you you will need to:\n",
    "\n",
    "* Copy the advection-diffusion model to a location in Archer2. From within this path, you can do so via `scp -r advection_diffusion_model/ <username>@login.archer2.ac.uk:~/`, replacing `<username>` with your archer2 user name. This will copy `advection_diffusion_model/*` to your Archer2 home directory.\n",
    "* Configure Archer2 in your `machines_user.yml` file. My file is posted below. Copy it, replace the archer2 entry in your `machine_user.yml`, and modify where needed, replacing my username with yours, and my project (`e723`) with yours (`ta171`). Note that for larger models, this is also where you can request more than 1 compute node.\n",
    "\n",
    "```python\n",
    "archer2:\n",
    "  username: \"edeling\"\n",
    "  project: \"e723\"\n",
    "  budget: \"e723-edeling\"\n",
    "  manual_ssh: true\n",
    "  remote: \"archer2\"\n",
    "  job_wall_time: '0-00:10:00'\n",
    "  partition_name: \"standard\"\n",
    "  ade_exec_school : \"/home/e723/e723/edeling/advection_diffusion_model/advection_diffusion.py\"\n",
    "  qos_name: \"short\"\n",
    "  runtime: 10\n",
    "  nodes: 1\n",
    "  ranks: 1\n",
    "  cores_per_rank: 1\n",
    "  run_prefix_commands: [\"export PYTHONUSERBASE=/work/$project/$project/$username/.local\", \"export PATH=$PYTHONUSERBASE/bin:$PATH\", \"export PYTHONPATH=$PYTHONUSERBASE/lib/python3.9/site-packages:$PYTHONPATH\"]\n",
    "  modules:\n",
    "        loaded: [\"cray-python/3.9.13.1\"]\n",
    "        unloaded: [\"cray-python\"]\n",
    "```\n",
    "\n",
    "* Once Archer2 if configured properly, switching from local ensemble execution to execution on Archer2 is done by simply changing the `MACHINE` flag in this notebook from `\"localhost\"` to `\"archer2\"`."
   ]
  },
  {
   "cell_type": "code",
   "execution_count": null,
   "id": "37364a06-a528-470f-9a91-66e453175df8",
   "metadata": {},
   "outputs": [],
   "source": []
  }
 ],
 "metadata": {
  "kernelspec": {
   "display_name": "Python 3 (ipykernel)",
   "language": "python",
   "name": "python3"
  },
  "language_info": {
   "codemirror_mode": {
    "name": "ipython",
    "version": 3
   },
   "file_extension": ".py",
   "mimetype": "text/x-python",
   "name": "python",
   "nbconvert_exporter": "python",
   "pygments_lexer": "ipython3",
   "version": "3.9.16"
  }
 },
 "nbformat": 4,
 "nbformat_minor": 5
}
