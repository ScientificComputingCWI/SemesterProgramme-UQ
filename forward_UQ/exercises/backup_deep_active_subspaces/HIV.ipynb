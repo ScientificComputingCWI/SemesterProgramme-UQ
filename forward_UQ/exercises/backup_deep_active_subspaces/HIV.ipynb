{
 "cells": [
  {
   "cell_type": "markdown",
   "id": "905ed8f7",
   "metadata": {},
   "source": [
    "# Deep active subspaces for the HIV model \n",
    "\n",
    "This is a notebook tutorial based on the results of Section 8 of\n",
    "\n",
    "Edeling, W. (2023). [On the deep active-subspace method](https://doi.org/10.1137/21M1463240). SIAM/ASA Journal on Uncertainty Quantification, 11(1), 62-90.\n",
    "\n",
    "Here we will apply the deep active subspace method [1] to an HIV model consisting of 7 coupled ordinary differential equations [2], with 27 uncertain input parameters. The equations are:\n",
    "\n",
    "\\begin{align}\n",
    "\\frac{dT}{dt} &= s_1 + \\frac{p_1}{C_1+V}TV - \\delta_1T - (K_1V + K_2M_I)T,\\nonumber\\\\\n",
    "\\frac{dT_I}{dt} &= \\psi(K_1V + K_2M_I)T + \\alpha_1T_L-\\delta_2T_I-K_3T_ICTL,\\nonumber\\\\\n",
    "\\frac{dT_L}{dt} &= (1-\\psi)(K_1V+K_2M_I)T-\\alpha_1T_L-\\delta_3T_L,\\nonumber\\\\\n",
    "\\frac{dM}{dt} &= s_2+K_4MV-K_5MV-\\delta_4M,\\nonumber\\\\\n",
    "\\frac{dM_I}{dt} &= K_5MV-\\delta_5M_I-K_6M_ICTL,\\nonumber\\\\\n",
    "\\frac{dCTL}{dt} &= s_3 + (K_7T_I+K_8M_I)CTL-\\delta_6CTL,\\nonumber\\\\\n",
    "\\frac{dV}{dt} &= K_9T_I+K_{10}M_I-K_{11}TV-(K_{12}+K_{13})MV-\\delta_7V,\n",
    "\\end{align}\n",
    "\n",
    "The 27 input parameters are **prescribed uniform distributions with boundaries set at $\\pm$ 2.5\\% of their nominal values** (see the Supplementary Materials of the article above for specific values, and for a description of the ODE variables). We just note that our (scalar) quantity of interest is the T-cell count $T(t)$ at a given time, and we refer to [2] for further information on the model.\n",
    "\n",
    "[1] Tripathy, R., & Bilionis, I. (2019, August). Deep active subspaces: A scalable method for high-dimensional uncertainty propagation. In International Design Engineering Technical Conferences and Computers and Information in Engineering Conference (Vol. 59179, p. V001T02A074). American Society of Mechanical Engineers.\n",
    "\n",
    "[2] Loudon, T., & Pankavich, S. (2017). Mathematical analysis and dynamic active subspaces for a long term model of HIV. Mathematical Biosciences and Engineering, 14(3), 709-733.\n",
    "\n",
    "### Requirements\n",
    "\n",
    "We will use a standard ANN to find the active subspace, using [EasySurrogate](https://github.com/wedeling/EasySurrogate). To install, simply uncomment the `!pip install` line below. Furthermore, `scipy` and `matplotlib` are also required."
   ]
  },
  {
   "cell_type": "code",
   "execution_count": null,
   "id": "21d79ecb",
   "metadata": {},
   "outputs": [],
   "source": [
    "# !pip install easysurrogate\n",
    "# !pip install scipy\n",
    "# !pip install matplotlib"
   ]
  },
  {
   "cell_type": "code",
   "execution_count": null,
   "id": "2defd753",
   "metadata": {},
   "outputs": [],
   "source": [
    "import numpy as np\n",
    "import matplotlib.pyplot as plt\n",
    "import easysurrogate as es\n",
    "from scipy import linalg"
   ]
  },
  {
   "cell_type": "code",
   "execution_count": null,
   "id": "e947a0de",
   "metadata": {},
   "outputs": [],
   "source": [
    "# select the seismic color scheme\n",
    "plt.rcParams['image.cmap'] = 'seismic'"
   ]
  },
  {
   "cell_type": "markdown",
   "id": "f63d3574-5e85-48a9-a302-f56bf3ecac01",
   "metadata": {},
   "source": [
    "### Choose initial dimension active subspace\n",
    "\n",
    "We must begin by simply guessing a value for the dimension of the active subspace: $d > 1$:"
   ]
  },
  {
   "cell_type": "code",
   "execution_count": null,
   "id": "bd53717c",
   "metadata": {},
   "outputs": [],
   "source": [
    "########################################\n",
    "# choose the active subspace dimension #\n",
    "########################################\n",
    "d = 5"
   ]
  },
  {
   "cell_type": "markdown",
   "id": "b37f5503",
   "metadata": {},
   "source": [
    "### Compute the active subspace\n",
    "\n",
    "Our goal is to look for eigenvalue decay in \n",
    "\n",
    "\\begin{align}\n",
    " C_{ref} = \\mathbb{E}\\left[\\left(\\nabla f\\left({\\bf x}\\right)\\right)\\left(\\nabla f\\left({\\bf x}\\right)\\right)^T\\right] = \\int \\left(\\nabla f\\left({\\bf x}\\right)\\right)\\left(\\nabla f\\left({\\bf x}\\right)\\right)^T p(\\bf x)d{\\bf x}.\n",
    "\\end{align}\n",
    "\n",
    "Here $p(\\bf x)$ is the joint input probability density function. $C_{ref}$ requires access to the code gradient, which we'll assume we do not have. Instead we will approximate $C_{ref}$ using machine learning."
   ]
  },
  {
   "cell_type": "markdown",
   "id": "cbecb3d9-5216-4048-99bf-bde4a7a5739a",
   "metadata": {},
   "source": [
    "### EasySurrogate campaign\n",
    "\n",
    "EasySurrogate's basic object is called a `campaign', which handles the data. "
   ]
  },
  {
   "cell_type": "code",
   "execution_count": null,
   "id": "2e641a67-b12f-46ab-8a04-cc3a9712401a",
   "metadata": {},
   "outputs": [],
   "source": [
    "# Create EasySurrogate campaign\n",
    "campaign = es.Campaign()"
   ]
  },
  {
   "cell_type": "markdown",
   "id": "f27240c5-1e9b-4f53-8bc1-1c2fdc0729ac",
   "metadata": {},
   "source": [
    "### Load training data\n",
    "\n",
    "Here we use the campaign to load the training data, which is precomputed and stored in the `my_samples.hdf5` file. "
   ]
  },
  {
   "cell_type": "code",
   "execution_count": null,
   "id": "890c76a6-18f2-4671-bd90-eaeb18900fab",
   "metadata": {},
   "outputs": [],
   "source": [
    "##########################\n",
    "# Generate training data #\n",
    "##########################\n",
    "\n",
    "# number of inputs\n",
    "D = 27\n",
    "\n",
    "# the times (in days) at which the HIV model was sampled\n",
    "times = np.array([5, 15, 24, 38, 40, 45, 50, 55, 65, 90, 140, 500, 750,\n",
    "                  1000, 1600, 1800, 2000, 2200, 2400, 2800, 3400])\n",
    "T = times.size\n",
    "\n",
    "# Load HDF5 training data using the Campaign\n",
    "data = campaign.load_hdf5_data(file_path='my_samples.hdf5')\n",
    "# input parameters in [-1, 1]\n",
    "params = data['inputs']\n",
    "# output (T-cell counts at times)\n",
    "samples = data['outputs']\n",
    "\n",
    "# time index at which to construct an active subspace\n",
    "I = -1\n",
    "samples = samples[:, I].reshape([-1, 1])"
   ]
  },
  {
   "cell_type": "markdown",
   "id": "4da730e5",
   "metadata": {},
   "source": [
    "### Train a deep active subspace network\n",
    "\n",
    "Below we train a our neural network. Here:\n",
    "\n",
    "* `params`: are the uniformly distributed input variables\n",
    "* `samples`: are the corresponding HIV code outputs\n",
    "* `n_iter`: the number of mini batch iterations\n",
    "* `n_layers`: number of layers, not counting the input layer.\n",
    "* `activation = ['linear', 'tanh', 'tanh']`: are the activations of the hidden layers. The DAS layer, is a linear encoder, such that the first activation is linear. The output layer is automatically assigned a linear activation.\n",
    "* `batch_size`: the size of a single mini batch\n",
    "* `standardize_X=False`: do not standardize the inputs, as they are already scaled to [-1,1]\n",
    "*  `standardize_y=True`: do standardize the outputs."
   ]
  },
  {
   "cell_type": "code",
   "execution_count": null,
   "id": "3a82b6f7",
   "metadata": {},
   "outputs": [],
   "source": [
    "#####################\n",
    "# train DAS network #\n",
    "#####################\n",
    "\n",
    "das_surrogate = es.methods.ANN_Surrogate()\n",
    "das_surrogate.train(params, samples, n_iter=10000, \n",
    "                    n_layers=4,\n",
    "                    activation = ['linear', 'tanh', 'tanh'],\n",
    "                    n_neurons=[d, 50, 50],\n",
    "                    batch_size = 64, \n",
    "                    standardize_X=False, standardize_y=True)"
   ]
  },
  {
   "cell_type": "markdown",
   "id": "d6156606",
   "metadata": {},
   "source": [
    "### Compute the original active subspace of the DAS network\n",
    "\n",
    "**Assignment**: compute the DAS equivalent of the reference gradient matrix `C_ref`, i.e. approximate compute:\n",
    "\n",
    "\\begin{align}\n",
    " C_{DAS} = \\int \\left(\\nabla\\tilde{f}(\\bf x)\\right)\\left(\\nabla\\tilde{f}(\\bf x)\\right)^T p({\\bf x})d{\\bf x}\n",
    "\\end{align}\n",
    "\n",
    "using Monte Carlo sampling. Here $\\nabla\\tilde{f}(\\bf x)$ is the derivative of the neural network, computed via `das_surrogate.derivative`."
   ]
  },
  {
   "cell_type": "code",
   "execution_count": null,
   "id": "f3e1d33f-3279-42c8-bce5-b37f7478bef3",
   "metadata": {
    "scrolled": true
   },
   "outputs": [],
   "source": [
    "# the gradient matrix computed of the DAS network, computed using the classical AS method\n",
    "C_das = 0.0\n",
    "\n",
    "# Compute C1 and C_das\n",
    "n_mc = params.shape[0]\n",
    "das_samples = np.zeros(n_mc)\n",
    "for i, param in enumerate(params):\n",
    "    # compute the derivative of f at the input layer (needed for C_das)\n",
    "    df_dx = das_surrogate.derivative(param, norm=False)\n",
    "    # store predictions for later\n",
    "    das_samples[i] = das_surrogate.predict(param)\n",
    "    # update C_das below\n",
    "    ...."
   ]
  },
  {
   "cell_type": "markdown",
   "id": "e6712826-4bd3-4d76-ba77-2adf75b06212",
   "metadata": {},
   "source": [
    "**Assigment**: compute the eigenvalues and eigenvectors of `C_das` using `linalg.eigh` and sort them according to eigenvalue magnitude:"
   ]
  },
  {
   "cell_type": "code",
   "execution_count": null,
   "id": "0bcdf2d3-9f09-4f08-9353-8e8caf8aa9ab",
   "metadata": {
    "scrolled": true
   },
   "outputs": [],
   "source": [
    "# solve eigenvalue problem for C_das\n",
    "eigvals_C_das, eigvecs_C_das = ..."
   ]
  },
  {
   "cell_type": "markdown",
   "id": "f67e591a-c9dc-44be-ac0a-8528c92f54bc",
   "metadata": {},
   "source": [
    "**Assigment**: extract the $d$ dominant eigenvectors, and compute the active variable $y = W_1^T{\\bf x}$ for all ${\\bf x}$ values from the training data (`params`):"
   ]
  },
  {
   "cell_type": "code",
   "execution_count": null,
   "id": "d560dea4-5023-47ab-a9b6-f6f22541219f",
   "metadata": {
    "scrolled": true
   },
   "outputs": [],
   "source": [
    "# the d dominant eigenvectors\n",
    "W_1 = "
   ]
  },
  {
   "cell_type": "markdown",
   "id": "ccd2d2b0",
   "metadata": {},
   "source": [
    "### Recreate the eigenvalue plots\n",
    "\n",
    "Compare the eigenvalue decay of `C_DAS`. Is there an active subspace, and if yes what is its dimension?"
   ]
  },
  {
   "cell_type": "code",
   "execution_count": null,
   "id": "e1a94d13",
   "metadata": {},
   "outputs": [],
   "source": [
    "####################\n",
    "# plot eigenvalues #\n",
    "####################\n",
    "\n"
   ]
  },
  {
   "cell_type": "markdown",
   "id": "b582eaaa",
   "metadata": {},
   "source": [
    "### Create the active subspace plot\n",
    "\n",
    "**Assignment**: Plot the HIV output (`das_samples`) in the active subspace, and also plot some validation data by running `HIV_model.py` at some random paramater values."
   ]
  },
  {
   "cell_type": "code",
   "execution_count": null,
   "id": "59bb0cba",
   "metadata": {},
   "outputs": [],
   "source": [
    "# Generate new code validation samples\n",
    "from HIV_model import *\n",
    "n_val = 100\n",
    "x_val = np.random.rand(n_val, D) * 2 - 1\n",
    "val_samples = Tcells(x_val, np.linspace(1, times[I], times[I]))[:, -1]"
   ]
  },
  {
   "cell_type": "code",
   "execution_count": null,
   "id": "d11854c3",
   "metadata": {},
   "outputs": [],
   "source": [
    "# active subspace coordinates of validation data\n",
    "y_val = np.dot(W_1.T, x_val.T).T\n",
    "\n",
    "# plot DAS surrogate predicion and validation data in y coordinate\n",
    "\n"
   ]
  },
  {
   "cell_type": "markdown",
   "id": "e5880548",
   "metadata": {},
   "source": [
    "### Global-derivative based sensitivity plots\n",
    "\n",
    "To estimate the contribution of individual paramater values, we compute the global derivative-based sensitivity indices:\n",
    "\n",
    "\\begin{align}\n",
    "\\nu_i :=\\int\\left(\\frac{\\partial \\tilde{f}}{\\partial x_i}\\right)^2p\\left({\\bf x}\\right)\\mathrm{d}{\\bf x}.\n",
    "\\end{align}\n",
    "\n",
    "Just run the cells below to compute this."
   ]
  },
  {
   "cell_type": "code",
   "execution_count": null,
   "id": "8b75f166",
   "metadata": {},
   "outputs": [],
   "source": [
    "def sensitivity(idx, V_i, **kwargs):\n",
    "    \"\"\"\n",
    "    Plot the sensitivity indices.\n",
    "    \n",
    "    idx : array\n",
    "        Indices of the sensitivity indices, ranking them from most inportant to least important.\n",
    "    \n",
    "    V_i : array\n",
    "        The sensitivity indices.\n",
    "\n",
    "    \"\"\"\n",
    "    \n",
    "    # Parameter names\n",
    "    param_names = np.array([r'$s_1$', r'$s_2$', r'$s_3$', r'$p_1$', r'$C_1$', r'$K_1$', r'$K_2$', r'$K_3$',\n",
    "                   r'$K_4$', r'$K_5$', r'$K_6$', r'$K_7$', r'$K_8$', r'$K_9$', r'$K_{10}$',\n",
    "                   r'$K_{11}$', r'$K_{12}$', r'$K_{13}$', r'$\\delta_1$', r'$\\delta_2$',\n",
    "                   r'$\\delta_3$', r'$\\delta_4$', r'$\\delta_5$', r'$\\delta_6$', r'$\\delta_7$', r'$\\alpha_1$',\n",
    "                   r'$\\psi$'])\n",
    "    \n",
    "    fig = plt.figure(figsize=[4, 8])\n",
    "    ax = fig.add_subplot(111, title=kwargs.get('title', ''))\n",
    "    # ax.set_ylabel(r'$\\int\\left(\\frac{\\partial f}{\\partial x_i}\\right)^2 p({\\bf x})d{\\bf x}$', fontsize=14)\n",
    "    ax.set_xlabel(r'$\\nu_i$', fontsize=14)    \n",
    "    ax.barh(range(V_i.size), width = V_i[idx].flatten(), color = 'dodgerblue')\n",
    "    ax.set_yticks(range(V_i.size))\n",
    "    ax.set_yticklabels(param_names[idx[0]], fontsize=14)\n",
    "    # plt.xticks(rotation=90)\n",
    "    ax.invert_yaxis()\n",
    "    sns.despine(top=True)\n",
    "    plt.tight_layout()"
   ]
  },
  {
   "cell_type": "code",
   "execution_count": null,
   "id": "60bff6d5",
   "metadata": {},
   "outputs": [],
   "source": [
    "#####################################\n",
    "# global gradient-based sensitivity #\n",
    "#####################################\n",
    "\n",
    "das_analysis = es.analysis.DAS_analysis(das_surrogate)\n",
    "\n",
    "idx, V_i = das_analysis.sensitivity_measures(params, norm=False)\n",
    "sensitivity(idx, V_i, title = 'DAS')"
   ]
  },
  {
   "cell_type": "code",
   "execution_count": null,
   "id": "a069501c",
   "metadata": {},
   "outputs": [],
   "source": []
  }
 ],
 "metadata": {
  "kernelspec": {
   "display_name": "Python 3 (ipykernel)",
   "language": "python",
   "name": "python3"
  },
  "language_info": {
   "codemirror_mode": {
    "name": "ipython",
    "version": 3
   },
   "file_extension": ".py",
   "mimetype": "text/x-python",
   "name": "python",
   "nbconvert_exporter": "python",
   "pygments_lexer": "ipython3",
   "version": "3.9.16"
  }
 },
 "nbformat": 4,
 "nbformat_minor": 5
}
