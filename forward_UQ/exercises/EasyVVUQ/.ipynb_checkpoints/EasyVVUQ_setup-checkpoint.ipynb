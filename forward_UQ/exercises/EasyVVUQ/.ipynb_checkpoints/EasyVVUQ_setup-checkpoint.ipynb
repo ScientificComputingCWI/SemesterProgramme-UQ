{
 "cells": [
  {
   "cell_type": "markdown",
   "id": "4f80c75c-5618-4d24-a739-a632c3e60d27",
   "metadata": {},
   "source": [
    "# Setting up a basic EasyVVUQ campaign\n",
    "\n",
    "If this is your first Jupyter Notebook - you can execute code cells by selecting them and pressing ```Shift+Enter```. Just have in mind that the order of execution might matter (if later cells depend on things done in earlier ones).\n",
    "\n",
    "**Note**: if you installed EasyVVUQ using a virtual environment, make sure that:\n",
    "\n",
    "1) you activated the virtual environment, and\n",
    "2) you started this notebook with `myenv/bin/jupyterlab`.\n",
    "\n",
    "EasyVVUQ is a Python library designed to facilitate verification, validation and uncertainty quantification (VVUQ) for a wide variety of simulations. It was first conceived and developed within the EU funded [VECMA](https://www.vecma.eu/) (Verified Exascale Computing for Multiscale Applications) project, and further developed in the UK-funded [SEAVEA project](https://www.seavea-project.org/).\n",
    "\n",
    "The aim of EasyVVUQ is to facilitate verification, validation and uncertainty quantification (VVUQ) for a wide variety of simulations. While very convenient for simple cases, EasyVVUQ is particularly well suited in situations where the simulations are computationally expensive, heterogeneous computing resources are necessary, the sampling space is very large or book-keeping is prohibitively complex. It coordinates execution using an efficient database, it is fault tolerant and all progress can be saved.\n",
    "\n",
    "Here are some examples of questions EasyVVUQ can answer about your code:\n",
    "\n",
    "* Given the uncertainties in input parameters, what is the distribution of the output?\n",
    "* What percentage of the output variance each input parameter contributes?\n",
    "* It also lets you construct surrogate models that are cheaper to evaluate than the complete simulation.\n",
    "\n",
    "The functionality we will be focusing on in this tutorial are the Polynomials Chaos and Stochastic collocation samplers. We will test it out on the following advection diffusion equation:\n",
    "\n",
    "\\begin{align*}\n",
    "\\boxed{\n",
    "\\frac{du}{dx} - \\frac{1}{Pe}\\frac{d^2u}{dx^2} = f}\n",
    "\\end{align*}\n",
    "\n",
    "This ODE solves for the velocity $u(x)$, where the spatial domain runs from $x\\in[0,1]$. Homogeneous boundary conditions are applied: $u(0)=u(1)=0$. The solution $u$ depends upon two parameters:\n",
    "\n",
    "* $Pe$: the so-called **Peclet number**, defined as the ratio between the rate of advection and the rate of diffusion,\n",
    "* $f$: the constant forcing term.\n",
    "\n",
    "A numerical solver (finite elements) of this equation is found in `advection_diffusion_model/advection_diffusion.py`.\n",
    "\n",
    "**Note**: While we are using a Python UQ library on a Python ODE model, this does not need to be the case. Models written in other programming languages are supported as well. The only requirements of EasyVVUQ are:\n",
    "\n",
    "* The model can be executed from the command line.\n",
    "* The model reads its input values from a file.\n",
    "* The model stores its output values to a (CSV / HDF5 / JSON) file.\n",
    "\n",
    "The input file of our advection-diffusion model is a simple JSON file, but the particular format is not important. It is located in `advection_diffusion_model/input.json`. The input file looks like this:"
   ]
  },
  {
   "cell_type": "code",
   "execution_count": null,
   "id": "4ec139fd-efc2-4867-bf53-221ca06ebc21",
   "metadata": {
    "tags": []
   },
   "outputs": [],
   "source": [
    "with open('./advection_diffusion_model/input.json', 'r') as f:\n",
    "    print(f.read())"
   ]
  },
  {
   "cell_type": "markdown",
   "id": "c5277e10-79fe-4ec8-a4ee-f41ddd561ebb",
   "metadata": {},
   "source": [
    "We can see that the default values of $Pe$ and $f$ are 100 and 1 respectively. Our goal now is:\n",
    "\n",
    "**Study the effect of uncertainties in $Pe$ and $f$ on the velocity profile $u(x)$**\n",
    "\n",
    "We require the following imports to do so:"
   ]
  },
  {
   "cell_type": "code",
   "execution_count": null,
   "id": "84c26fdc-ba35-4c3a-9e96-a847bcae11e7",
   "metadata": {},
   "outputs": [],
   "source": [
    "import os\n",
    "import numpy as np\n",
    "import matplotlib.pyplot as plt\n",
    "\n",
    "import chaospy as cp\n",
    "import easyvvuq as uq\n",
    "from easyvvuq.actions import CreateRunDirectory, Encode, Decode, ExecuteLocal, Actions"
   ]
  },
  {
   "cell_type": "markdown",
   "id": "b3c0bd6d-e376-408e-ba85-7bd6b78d3e01",
   "metadata": {},
   "source": [
    "### Flags\n",
    "\n",
    "Here are some flags that we'll use\n",
    "\n",
    "* `HOME`: simply the current directory,\n",
    "* `WORK_DIR`: this is where all the EasyVVUQ ensembles runs will be stored,\n",
    "* `CAMPAIGN_NAME`: this is the name of the EasyVVUQ campaign, explained later."
   ]
  },
  {
   "cell_type": "code",
   "execution_count": null,
   "id": "e3e8eaa5-889b-477e-9b0d-dd5d235eb1ee",
   "metadata": {
    "tags": []
   },
   "outputs": [],
   "source": [
    "# home directory\n",
    "HOME = os.getcwd()\n",
    "# Work directory, where the easyVVUQ directory will be placed\n",
    "WORK_DIR = '/tmp'\n",
    "# EasyVVUQ Campaign name\n",
    "CAMPAIGN_NAME = 'adv_diff'"
   ]
  },
  {
   "cell_type": "markdown",
   "id": "be98cf77-aea4-4b2d-ac9a-bf8e2b3aea64",
   "metadata": {},
   "source": [
    "### Define parameter space\n",
    "\n",
    "We will have to define a dictionary that minimally describes the type (typically `float` or maybe `integer`) of each input, as well as its default value. Below we create the `params` dict for the Peclet number $Pe$ and forcing term $f$."
   ]
  },
  {
   "cell_type": "code",
   "execution_count": null,
   "id": "e00d93f3-d781-4a75-8e7c-cc8102f6bd35",
   "metadata": {
    "tags": []
   },
   "outputs": [],
   "source": [
    "# Define parameter space\n",
    "params = {\n",
    "    \"Pe\": {\n",
    "        \"type\": \"float\",\n",
    "        \"default\": 100.0},\n",
    "    \"f\": {\n",
    "        \"type\": \"float\",\n",
    "        \"default\": 1.0}}"
   ]
  },
  {
   "cell_type": "markdown",
   "id": "43f6dba2-3811-44d1-993f-48a2c74bd801",
   "metadata": {},
   "source": [
    "### Choose input distributions\n",
    "\n",
    "Here we assign a probability density function to inputs from the `params` dict.  EasyVVUQ uses the [Chaospy](https://chaospy.readthedocs.io/en/master/) library for this purpose. A list of available distributions can be found [here](https://chaospy.readthedocs.io/en/master/reference/distribution/index.html).\n",
    "\n",
    "All parameters that we actually want to vary are stored in the `vary`. These must also occur in the `params` dict. The converse is not true. If we only wish to vary a subset of the inputs in the `params` dict, we simply leave out the inputs in the `vary` dict that we do not want to change. These excluded inputs will automatically be assigned their default value in all ensemble runs.\n",
    "\n",
    "**Assignment**: Assign uniform distribution to both inputs, using the `cp.Uniform` distribution, bounded to $\\pm10\\%$ of the defaults values:"
   ]
  },
  {
   "cell_type": "code",
   "execution_count": null,
   "id": "09c476d5-c888-4d5b-a8ef-cb2ac26bf93c",
   "metadata": {
    "tags": []
   },
   "outputs": [],
   "source": [
    "vary = "
   ]
  },
  {
   "cell_type": "markdown",
   "id": "95aca3ce-2947-44b1-a62d-94d1b52ce16f",
   "metadata": {},
   "source": [
    "### Input file encoding\n",
    "\n",
    "We require some way of feeding new parameter values to whatever simulation code we are examining. This is done by creating an **input template**. The `GenericEncoder` class can read this template and fill it with input samples drawn from the distributions of the `vary` dict. It takes 3 arguments:\n",
    "\n",
    "* `template_fname` (string): the name of the input template\n",
    "* `delimiter` (string): a flag sought out by the encoder\n",
    "* `target_filename` (string): the name of the input file, in our case `input.json`\n",
    "\n",
    "In the input template, every delimiter should be followed by a parameter name (the keys of `vary`), such that the encoder can replace each flag with a input value.\n",
    "\n",
    "**Assignment**: \n",
    "\n",
    "* Set the delimiter to `\"$\"`\n",
    "* Copy the input file `advection_diffusion_model/input.json` to `advection_diffusion_model/input.template`\n",
    "* Change the default parameters in the template into flags that the encoder can read.\n",
    "* Create an encoder object using the class below. Again, the arguments are written above, and you can also use shift+tab to view the docstring of the class.\n",
    "  "
   ]
  },
  {
   "cell_type": "code",
   "execution_count": null,
   "id": "fd5441c7-935f-47ed-bf28-4cada36f3806",
   "metadata": {
    "tags": []
   },
   "outputs": [],
   "source": [
    "encoder = uq.encoders.GenericEncoder(...)"
   ]
  },
  {
   "cell_type": "markdown",
   "id": "b0f71c0b-bd57-4d34-a678-41f3a29849ec",
   "metadata": {},
   "source": [
    "### Local ensemble execution\n",
    "\n",
    "Our advection-diffusion model is just a toy model that can be executed locally. For this purpose we can use the EasyVVUQ `ExecuteLocal` class. It simply takes as an argument the commandline execution as a string.\n",
    "\n",
    "**Assigment**: write the proper commandline instruction, making sure you use an absolute path to the advection-diffusion model"
   ]
  },
  {
   "cell_type": "code",
   "execution_count": null,
   "id": "c8a7541f-8b88-451c-ae3b-275cba525d7f",
   "metadata": {
    "tags": []
   },
   "outputs": [],
   "source": [
    "cmd = \n",
    "execute = ExecuteLocal(cmd)"
   ]
  },
  {
   "cell_type": "markdown",
   "id": "946a58b4-5fc7-4296-86db-b81aeece05ac",
   "metadata": {},
   "source": [
    "### Output file decoding\n",
    "\n",
    "The model write the solution $u(x)$ to a CSV output file `output.csv`, with a single column with header `u`:"
   ]
  },
  {
   "cell_type": "code",
   "execution_count": null,
   "id": "92ff2b54-a37b-4711-a9ed-79f1f88d4a68",
   "metadata": {},
   "outputs": [],
   "source": [
    "# print output file\n",
    "with open('./advection_diffusion_model/output.csv', 'r') as f:\n",
    "    print(f.read())"
   ]
  },
  {
   "cell_type": "markdown",
   "id": "72733714-38e1-49bf-b5e4-5799bebf9a3e",
   "metadata": {},
   "source": [
    "To read the output, we will use the `SimpleCSV` decoder. It takes 2 arguments:\n",
    "\n",
    "* `target_filename` (string): the name of the output file\n",
    "* `output_columns` (list of strings): the column names of the CSV file that we wish to load\n",
    "\n",
    "**Assignment**: Fill out the decoder arguments:"
   ]
  },
  {
   "cell_type": "code",
   "execution_count": null,
   "id": "f80ad618-b3cd-4bf5-9bf7-278e89af92a9",
   "metadata": {
    "tags": []
   },
   "outputs": [],
   "source": [
    "decoder = uq.decoders.SimpleCSV(...)"
   ]
  },
  {
   "cell_type": "markdown",
   "id": "aeb870c5-dd3d-4f96-9922-be7daad28f37",
   "metadata": {},
   "source": [
    "**Note**: the encoder and decoder we have used will often suffice, yet are fairly basic. More elaborate encoders/decoders are available, see [here](https://github.com/UCL-CCS/EasyVVUQ/blob/dev/tutorials/encoder_decoder_tutorial.ipynb) for a tutorial. If you want to work with outputs of various sizes, you can use the `uq.decoder.HDF5` decoder, which takes the same arguments as the CSV decoder above."
   ]
  },
  {
   "cell_type": "markdown",
   "id": "85d7c4f1-d817-4515-a82e-d167623d8ddb",
   "metadata": {},
   "source": [
    "### Actions: creating a sequence of steps\n",
    "\n",
    "A typical forward UQ work flow consist of the following steps:\n",
    "\n",
    "1) Create directories for the different runs in the ensemble\n",
    "2) Encode the input files\n",
    "3) Execute the ensemble\n",
    "4) Decode the output\n",
    "5) Perform postprocessing on the results\n",
    "\n",
    "Steps 1-4 are strung together in an `Actions` objects as follows:"
   ]
  },
  {
   "cell_type": "code",
   "execution_count": null,
   "id": "9563535e-f2d0-4bcb-8668-73a9c7276770",
   "metadata": {
    "tags": []
   },
   "outputs": [],
   "source": [
    "actions = Actions(CreateRunDirectory(WORK_DIR, flatten=True),\n",
    "                  Encode(encoder), \n",
    "                  execute,\n",
    "                  Decode(decoder))"
   ]
  },
  {
   "cell_type": "markdown",
   "id": "26c87996-c356-4800-83aa-9ae68578ece3",
   "metadata": {},
   "source": [
    "These actions will be executed in a UQ Campaign"
   ]
  },
  {
   "cell_type": "markdown",
   "id": "17cfa852-2da9-4037-9922-09091d45def0",
   "metadata": {},
   "source": [
    "### Campaign: putting everything \n",
    "\n",
    "A campaign is the central EasyVVUQ object which combines all elements. It requires the working directory, a name, the `params` definition and the defined `actions`."
   ]
  },
  {
   "cell_type": "code",
   "execution_count": null,
   "id": "aeb74a02-23b9-40f7-b0b4-b17c4c51f1ef",
   "metadata": {
    "tags": []
   },
   "outputs": [],
   "source": [
    "campaign = uq.Campaign(work_dir=WORK_DIR, name=CAMPAIGN_NAME,\n",
    "                       params=params, actions=actions)"
   ]
  },
  {
   "cell_type": "markdown",
   "id": "ed067e62-89b1-4f09-9cd8-e1f029f03dd9",
   "metadata": {},
   "source": [
    "### Selecting a sampling method\n",
    "\n",
    "The sampling method is added seperately to the campaign. It this case we use a Polynomial Chaos sampler.\n",
    "\n",
    "**Question**: the polynomial order is set to 3. How many times will we sample the advection-diffusion model?"
   ]
  },
  {
   "cell_type": "code",
   "execution_count": null,
   "id": "17ca30fa-0538-4d07-8a94-af4362511485",
   "metadata": {
    "tags": []
   },
   "outputs": [],
   "source": [
    "sampler = uq.sampling.PCESampler(vary=vary, polynomial_order=3)\n",
    "campaign.set_sampler(sampler)"
   ]
  },
  {
   "cell_type": "markdown",
   "id": "385f12e3-3281-422e-8214-3e94885e9d33",
   "metadata": {},
   "source": [
    "### Executing the actions\n",
    "\n",
    "Finally, to executed everything that we defined in `actions`, run the following command:"
   ]
  },
  {
   "cell_type": "code",
   "execution_count": null,
   "id": "f2526396-3384-4e6a-b321-47f0e36ba56c",
   "metadata": {
    "tags": []
   },
   "outputs": [],
   "source": [
    "campaign.execute().collate()"
   ]
  },
  {
   "cell_type": "markdown",
   "id": "92308731-67ae-48b9-8448-8bd230c55413",
   "metadata": {},
   "source": [
    "### Retrieving the raw results\n",
    "\n",
    "The raw results are stored in a Pandas dataframe. We can retrieve this via:"
   ]
  },
  {
   "cell_type": "code",
   "execution_count": null,
   "id": "e83ea865-5d9d-4346-8420-3ab6f0b5d03a",
   "metadata": {
    "tags": []
   },
   "outputs": [],
   "source": [
    "df = campaign.get_collation_result()\n",
    "df"
   ]
  },
  {
   "cell_type": "markdown",
   "id": "8f66fdbe-8b7c-4d35-85ca-eb45315be818",
   "metadata": {},
   "source": [
    "### Analysis: postprocessing the results\n",
    "\n",
    "The following command runs the prost-processing subroutines"
   ]
  },
  {
   "cell_type": "code",
   "execution_count": null,
   "id": "c7c41531-1cb5-4ee1-a360-c0a8de605ce7",
   "metadata": {
    "tags": []
   },
   "outputs": [],
   "source": [
    "results = campaign.analyse(qoi_cols=['u'])"
   ]
  },
  {
   "cell_type": "markdown",
   "id": "7ce11640-15f7-4e9e-b53a-dccf47b122ac",
   "metadata": {},
   "source": [
    "Getting code samples:"
   ]
  },
  {
   "cell_type": "code",
   "execution_count": null,
   "id": "ad81523e-6b43-4eb0-b3d1-ec25461fb709",
   "metadata": {
    "tags": []
   },
   "outputs": [],
   "source": [
    "# advection diffusion runs\n",
    "code_samples = results.samples['u'].values\n",
    "# spatial domain of 1 run\n",
    "xx = np.linspace(0, 1, code_samples.shape[1])"
   ]
  },
  {
   "cell_type": "markdown",
   "id": "19d110f1-1a8a-4a44-a5ff-09fb56deb6fa",
   "metadata": {},
   "source": [
    "### Plotting moments\n",
    "\n",
    "The following command show a list of suppported statistics:"
   ]
  },
  {
   "cell_type": "code",
   "execution_count": null,
   "id": "7dac1da2-5de3-4cb7-b6d3-eebac3291a52",
   "metadata": {},
   "outputs": [],
   "source": [
    "results.supported_stats()"
   ]
  },
  {
   "cell_type": "markdown",
   "id": "3fe8c0fd-b750-473e-94c7-29826eae248a",
   "metadata": {},
   "source": [
    "**Assignment**: using `results.describe(qoi = <output name>, statistic = <stat name>)` extract the mean and standard deviation. Use this to make a plot of the uncertainty around the mean, as a function of the spatial domain `xx`.\n",
    "\n",
    "**Question**: This is a common way of visualizing the uncertainty. Is it always a good idea?"
   ]
  },
  {
   "cell_type": "code",
   "execution_count": null,
   "id": "69e75886-4899-4476-88d6-1c64f944ed1f",
   "metadata": {
    "tags": []
   },
   "outputs": [],
   "source": [
    "mean = "
   ]
  },
  {
   "cell_type": "markdown",
   "id": "3c7da59c-a990-434e-a572-b3cec1ab8e26",
   "metadata": {},
   "source": [
    "### Fast sampling using the surrogate\n",
    "\n",
    "The command below extracts the (PCE) expansion, which can be used as a surrogate model for the real code.\n",
    "\n",
    "**Assignment**: create a `random_inputs` dictionary `{'Pe': 1000 random Pe samples, 'f': 1000 random f samples}`. You can sample the inputs by `vary['Pe'].sample(1000)`.\n",
    "\n",
    "Feed these random inputs to the surrogate and plot the surrogate samples alongside the real code samples, which were extracted above. Does the surrogate provide decent looking samples?"
   ]
  },
  {
   "cell_type": "code",
   "execution_count": null,
   "id": "c7535ec5-77a6-4794-ad6a-25d06701d773",
   "metadata": {
    "tags": []
   },
   "outputs": [],
   "source": [
    "surrogate = results.surrogate()\n",
    "\n"
   ]
  },
  {
   "cell_type": "markdown",
   "id": "1c1bf274-dc44-485c-86be-a229684a4089",
   "metadata": {},
   "source": [
    "### Plotting the Sobol indices\n",
    "\n",
    "The command below will extract the first-order Sobol indices.\n",
    "\n",
    "**Assigment**: Plot these in the spatial domain. What can you conclude about the importance of `Pe`?"
   ]
  },
  {
   "cell_type": "code",
   "execution_count": null,
   "id": "b1da581d-e543-412c-95fc-b3d505ffc7e5",
   "metadata": {
    "tags": []
   },
   "outputs": [],
   "source": [
    "sobols_first = results.sobols_first()\n"
   ]
  },
  {
   "cell_type": "markdown",
   "id": "be4fa7fe-2911-44df-a8b2-2bf624449113",
   "metadata": {},
   "source": [
    "### Switching samplers\n",
    "\n",
    "**Assignment**: Repeat the analysis, except this time with the Stochastic Collocation sampler. Hint: don't overcomplicate, you could complete this assignment in 30 seconds or less."
   ]
  },
  {
   "cell_type": "code",
   "execution_count": null,
   "id": "72279025-1c62-4bd8-aae2-0b6d3c024fd4",
   "metadata": {},
   "outputs": [],
   "source": []
  }
 ],
 "metadata": {
  "kernelspec": {
   "display_name": "Python 3 (ipykernel)",
   "language": "python",
   "name": "python3"
  },
  "language_info": {
   "codemirror_mode": {
    "name": "ipython",
    "version": 3
   },
   "file_extension": ".py",
   "mimetype": "text/x-python",
   "name": "python",
   "nbconvert_exporter": "python",
   "pygments_lexer": "ipython3",
   "version": "3.9.16"
  }
 },
 "nbformat": 4,
 "nbformat_minor": 5
}
