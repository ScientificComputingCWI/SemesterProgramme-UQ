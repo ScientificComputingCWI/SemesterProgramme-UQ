{
 "cells": [
  {
   "cell_type": "markdown",
   "id": "4f80c75c-5618-4d24-a739-a632c3e60d27",
   "metadata": {},
   "source": [
    "# Setting up a basic EasyVVUQ-Fabsim3 campaign\n",
    "\n",
    "We will assume you have executed the basic EasyVVUQ assigment of day 2. Here, we will do the same, except we will **use FabSim3 to execute the ensembles, instead of the EasyVVUQ `ExecuteLocal` class**. As before, we will quantify the uncertainties of our simple advection-diffusion model:\n",
    "\n",
    "\\begin{align*}\n",
    "\\boxed{\n",
    "\\frac{du}{dx} - \\frac{1}{Pe}\\frac{d^2u}{dx^2} = f}\n",
    "\\end{align*}\n",
    "\n",
    "This ODE solves for the velocity $u(x)$, where the spatial domain runs from $x\\in[0,1]$. Homogeneous boundary conditions are applied: $u(0)=u(1)=0$. The solution $u$ depends upon two parameters:\n",
    "\n",
    "* $Pe$: the so-called **Peclet number**, defined as the ratio between the rate of advection and the rate of diffusion,\n",
    "* $f$: the constant forcing term.\n",
    "\n",
    "A numerical solver (finite elements) of this equation is found in `advection_diffusion_model/advection_diffusion.py`."
   ]
  },
  {
   "cell_type": "code",
   "execution_count": 1,
   "id": "13fea71e-e4a8-413e-9744-b615334983d9",
   "metadata": {
    "tags": []
   },
   "outputs": [],
   "source": [
    "#!pip install easyvvuq\n",
    "#!pip install matplotlib"
   ]
  },
  {
   "cell_type": "code",
   "execution_count": 24,
   "id": "84c26fdc-ba35-4c3a-9e96-a847bcae11e7",
   "metadata": {},
   "outputs": [],
   "source": [
    "import os\n",
    "import numpy as np\n",
    "import matplotlib.pyplot as plt\n",
    "\n",
    "import chaospy as cp\n",
    "import easyvvuq as uq\n",
    "from easyvvuq.actions import CreateRunDirectory, Encode, Decode, ExecuteLocal, Actions"
   ]
  },
  {
   "cell_type": "markdown",
   "id": "b3c0bd6d-e376-408e-ba85-7bd6b78d3e01",
   "metadata": {},
   "source": [
    "### Flags"
   ]
  },
  {
   "cell_type": "code",
   "execution_count": 4,
   "id": "e3e8eaa5-889b-477e-9b0d-dd5d235eb1ee",
   "metadata": {
    "tags": []
   },
   "outputs": [],
   "source": [
    "# home directory\n",
    "HOME = os.getcwd()\n",
    "# Work directory, where the easyVVUQ directory will be placed\n",
    "WORK_DIR = '/tmp'\n",
    "# EasyVVUQ Campaign name\n",
    "CAMPAIGN_NAME = 'adv_diff'"
   ]
  },
  {
   "cell_type": "markdown",
   "id": "be98cf77-aea4-4b2d-ac9a-bf8e2b3aea64",
   "metadata": {},
   "source": [
    "### Define paramater space"
   ]
  },
  {
   "cell_type": "code",
   "execution_count": 6,
   "id": "e00d93f3-d781-4a75-8e7c-cc8102f6bd35",
   "metadata": {
    "tags": []
   },
   "outputs": [],
   "source": [
    "# Define parameter space\n",
    "params = {\n",
    "    \"Pe\": {\n",
    "        \"type\": \"float\",\n",
    "        \"default\": 100.0},\n",
    "    \"f\": {\n",
    "        \"type\": \"float\",\n",
    "        \"default\": 1.0}}"
   ]
  },
  {
   "cell_type": "markdown",
   "id": "43f6dba2-3811-44d1-993f-48a2c74bd801",
   "metadata": {},
   "source": [
    "### Choose input distributions"
   ]
  },
  {
   "cell_type": "code",
   "execution_count": 8,
   "id": "09c476d5-c888-4d5b-a8ef-cb2ac26bf93c",
   "metadata": {
    "tags": []
   },
   "outputs": [],
   "source": [
    "vary = {'Pe' : cp.Uniform(90, 110),\n",
    "        'f' : cp.Uniform(0.9, 1.1)}"
   ]
  },
  {
   "cell_type": "markdown",
   "id": "95aca3ce-2947-44b1-a62d-94d1b52ce16f",
   "metadata": {},
   "source": [
    "### Input file encoding"
   ]
  },
  {
   "cell_type": "code",
   "execution_count": 9,
   "id": "fd5441c7-935f-47ed-bf28-4cada36f3806",
   "metadata": {
    "tags": []
   },
   "outputs": [],
   "source": [
    "encoder = uq.encoders.GenericEncoder(template_fname='advection_diffusion_model/input.template',\n",
    "                                     delimiter='$',\n",
    "                                     target_filename='input.json')"
   ]
  },
  {
   "cell_type": "markdown",
   "id": "b0f71c0b-bd57-4d34-a678-41f3a29849ec",
   "metadata": {},
   "source": [
    "### Local ensemble execution"
   ]
  },
  {
   "cell_type": "code",
   "execution_count": 10,
   "id": "c8a7541f-8b88-451c-ae3b-275cba525d7f",
   "metadata": {
    "tags": []
   },
   "outputs": [],
   "source": [
    "execute = ExecuteLocal('python {}/advection_diffusion_model/advection_diffusion.py'.format(HOME))"
   ]
  },
  {
   "cell_type": "markdown",
   "id": "946a58b4-5fc7-4296-86db-b81aeece05ac",
   "metadata": {},
   "source": [
    "### Output file decoding"
   ]
  },
  {
   "cell_type": "code",
   "execution_count": 11,
   "id": "f80ad618-b3cd-4bf5-9bf7-278e89af92a9",
   "metadata": {
    "tags": []
   },
   "outputs": [],
   "source": [
    "decoder = uq.decoders.SimpleCSV(target_filename='output.csv', \n",
    "                                output_columns=['u'])"
   ]
  },
  {
   "cell_type": "markdown",
   "id": "85d7c4f1-d817-4515-a82e-d167623d8ddb",
   "metadata": {},
   "source": [
    "### Actions: creating a sequence of steps"
   ]
  },
  {
   "cell_type": "code",
   "execution_count": 12,
   "id": "9563535e-f2d0-4bcb-8668-73a9c7276770",
   "metadata": {
    "tags": []
   },
   "outputs": [],
   "source": [
    "actions = Actions(CreateRunDirectory(WORK_DIR, flatten=True),\n",
    "                  Encode(encoder), \n",
    "                  execute,\n",
    "                  Decode(decoder))"
   ]
  },
  {
   "cell_type": "markdown",
   "id": "17cfa852-2da9-4037-9922-09091d45def0",
   "metadata": {},
   "source": [
    "### Campaign: putting everything together"
   ]
  },
  {
   "cell_type": "code",
   "execution_count": 13,
   "id": "aeb74a02-23b9-40f7-b0b4-b17c4c51f1ef",
   "metadata": {
    "tags": []
   },
   "outputs": [],
   "source": [
    "campaign = uq.Campaign(work_dir=WORK_DIR, name=CAMPAIGN_NAME,\n",
    "                       params=params, actions=actions)"
   ]
  },
  {
   "cell_type": "markdown",
   "id": "ed067e62-89b1-4f09-9cd8-e1f029f03dd9",
   "metadata": {},
   "source": [
    "### Selecting a sampling method"
   ]
  },
  {
   "cell_type": "code",
   "execution_count": 14,
   "id": "17ca30fa-0538-4d07-8a94-af4362511485",
   "metadata": {
    "tags": []
   },
   "outputs": [],
   "source": [
    "sampler = uq.sampling.PCESampler(vary=vary, polynomial_order=3)\n",
    "campaign.set_sampler(sampler)"
   ]
  },
  {
   "cell_type": "markdown",
   "id": "385f12e3-3281-422e-8214-3e94885e9d33",
   "metadata": {},
   "source": [
    "### Executing the actions"
   ]
  },
  {
   "cell_type": "code",
   "execution_count": 15,
   "id": "f2526396-3384-4e6a-b321-47f0e36ba56c",
   "metadata": {
    "tags": []
   },
   "outputs": [
    {
     "name": "stdout",
     "output_type": "stream",
     "text": [
      "-----/tmp/adv_diff24o05k6y/runs/run_3\n",
      "Solving advection diffusion equation at Pe = 91.4 and f = 1.0\n",
      "-----/tmp/adv_diff24o05k6y/runs/run_2\n",
      "Solving advection diffusion equation at Pe = 91.4 and f = 1.0\n",
      "-----/tmp/adv_diff24o05k6y/runs/run_9\n",
      "Solving advection diffusion equation at Pe = 103.4 and f = 0.9\n",
      "-----/tmp/adv_diff24o05k6y/runs/run_1\n",
      "Solving advection diffusion equation at Pe = 91.4 and f = 0.9\n",
      "-----/tmp/adv_diff24o05k6y/runs/run_4\n",
      "Solving advection diffusion equation at Pe = 91.4 and f = 1.1\n",
      "-----/tmp/adv_diff24o05k6y/runs/run_10\n",
      "Solving advection diffusion equation at Pe = 103.4 and f = 1.0\n",
      "-----/tmp/adv_diff24o05k6y/runs/run_5\n",
      "Solving advection diffusion equation at Pe = 96.6 and f = 0.9\n",
      "-----/tmp/adv_diff24o05k6y/runs/run_7\n",
      "Solving advection diffusion equation at Pe = 96.6 and f = 1.0\n",
      "-----/tmp/adv_diff24o05k6y/runs/run_11\n",
      "Solving advection diffusion equation at Pe = 103.4 and f = 1.0\n",
      "-----/tmp/adv_diff24o05k6y/runs/run_8\n",
      "Solving advection diffusion equation at Pe = 96.6 and f = 1.1\n",
      "-----/tmp/adv_diff24o05k6y/runs/run_6\n",
      "Solving advection diffusion equation at Pe = 96.6 and f = 1.0\n",
      "-----/tmp/adv_diff24o05k6y/runs/run_12\n",
      "Solving advection diffusion equation at Pe = 103.4 and f = 1.1\n",
      "-----/tmp/adv_diff24o05k6y/runs/run_15\n",
      "Solving advection diffusion equation at Pe = 108.6 and f = 1.0\n",
      "-----/tmp/adv_diff24o05k6y/runs/run_13\n",
      "Solving advection diffusion equation at Pe = 108.6 and f = 0.9\n",
      "-----/tmp/adv_diff24o05k6y/runs/run_14\n",
      "Solving advection diffusion equation at Pe = 108.6 and f = 1.0\n",
      "-----/tmp/adv_diff24o05k6y/runs/run_16\n",
      "Solving advection diffusion equation at Pe = 108.6 and f = 1.1\n"
     ]
    }
   ],
   "source": [
    "campaign.execute().collate()\n"
   ]
  },
  {
   "cell_type": "markdown",
   "id": "92308731-67ae-48b9-8448-8bd230c55413",
   "metadata": {},
   "source": [
    "### Retrieving the raw results"
   ]
  },
  {
   "cell_type": "code",
   "execution_count": 16,
   "id": "e83ea865-5d9d-4346-8420-3ab6f0b5d03a",
   "metadata": {
    "tags": []
   },
   "outputs": [
    {
     "data": {
      "text/html": [
       "<div>\n",
       "<style scoped>\n",
       "    .dataframe tbody tr th:only-of-type {\n",
       "        vertical-align: middle;\n",
       "    }\n",
       "\n",
       "    .dataframe tbody tr th {\n",
       "        vertical-align: top;\n",
       "    }\n",
       "\n",
       "    .dataframe thead tr th {\n",
       "        text-align: left;\n",
       "    }\n",
       "</style>\n",
       "<table border=\"1\" class=\"dataframe\">\n",
       "  <thead>\n",
       "    <tr>\n",
       "      <th></th>\n",
       "      <th>run_id</th>\n",
       "      <th>iteration</th>\n",
       "      <th>Pe</th>\n",
       "      <th>f</th>\n",
       "      <th colspan=\"17\" halign=\"left\">u</th>\n",
       "    </tr>\n",
       "    <tr>\n",
       "      <th></th>\n",
       "      <th>0</th>\n",
       "      <th>0</th>\n",
       "      <th>0</th>\n",
       "      <th>0</th>\n",
       "      <th>0</th>\n",
       "      <th>1</th>\n",
       "      <th>2</th>\n",
       "      <th>3</th>\n",
       "      <th>4</th>\n",
       "      <th>5</th>\n",
       "      <th>...</th>\n",
       "      <th>391</th>\n",
       "      <th>392</th>\n",
       "      <th>393</th>\n",
       "      <th>394</th>\n",
       "      <th>395</th>\n",
       "      <th>396</th>\n",
       "      <th>397</th>\n",
       "      <th>398</th>\n",
       "      <th>399</th>\n",
       "      <th>400</th>\n",
       "    </tr>\n",
       "  </thead>\n",
       "  <tbody>\n",
       "    <tr>\n",
       "      <th>0</th>\n",
       "      <td>1</td>\n",
       "      <td>0</td>\n",
       "      <td>91.388637</td>\n",
       "      <td>0.913886</td>\n",
       "      <td>8.508097e-14</td>\n",
       "      <td>0.002285</td>\n",
       "      <td>0.004569</td>\n",
       "      <td>0.006854</td>\n",
       "      <td>0.009139</td>\n",
       "      <td>0.011424</td>\n",
       "      <td>...</td>\n",
       "      <td>0.777456</td>\n",
       "      <td>0.749855</td>\n",
       "      <td>0.714544</td>\n",
       "      <td>0.669536</td>\n",
       "      <td>0.612330</td>\n",
       "      <td>0.539778</td>\n",
       "      <td>0.447924</td>\n",
       "      <td>0.331787</td>\n",
       "      <td>0.185106</td>\n",
       "      <td>0.0</td>\n",
       "    </tr>\n",
       "    <tr>\n",
       "      <th>1</th>\n",
       "      <td>2</td>\n",
       "      <td>0</td>\n",
       "      <td>91.388637</td>\n",
       "      <td>0.966002</td>\n",
       "      <td>1.038570e-13</td>\n",
       "      <td>0.002415</td>\n",
       "      <td>0.004830</td>\n",
       "      <td>0.007245</td>\n",
       "      <td>0.009660</td>\n",
       "      <td>0.012075</td>\n",
       "      <td>...</td>\n",
       "      <td>0.821792</td>\n",
       "      <td>0.792616</td>\n",
       "      <td>0.755292</td>\n",
       "      <td>0.707717</td>\n",
       "      <td>0.647249</td>\n",
       "      <td>0.570560</td>\n",
       "      <td>0.473467</td>\n",
       "      <td>0.350708</td>\n",
       "      <td>0.195662</td>\n",
       "      <td>0.0</td>\n",
       "    </tr>\n",
       "    <tr>\n",
       "      <th>2</th>\n",
       "      <td>3</td>\n",
       "      <td>0</td>\n",
       "      <td>91.388637</td>\n",
       "      <td>1.033998</td>\n",
       "      <td>9.905040e-14</td>\n",
       "      <td>0.002585</td>\n",
       "      <td>0.005170</td>\n",
       "      <td>0.007755</td>\n",
       "      <td>0.010340</td>\n",
       "      <td>0.012925</td>\n",
       "      <td>...</td>\n",
       "      <td>0.879637</td>\n",
       "      <td>0.848408</td>\n",
       "      <td>0.808456</td>\n",
       "      <td>0.757533</td>\n",
       "      <td>0.692808</td>\n",
       "      <td>0.610721</td>\n",
       "      <td>0.506794</td>\n",
       "      <td>0.375394</td>\n",
       "      <td>0.209434</td>\n",
       "      <td>0.0</td>\n",
       "    </tr>\n",
       "    <tr>\n",
       "      <th>3</th>\n",
       "      <td>4</td>\n",
       "      <td>0</td>\n",
       "      <td>91.388637</td>\n",
       "      <td>1.086114</td>\n",
       "      <td>1.062685e-13</td>\n",
       "      <td>0.002715</td>\n",
       "      <td>0.005431</td>\n",
       "      <td>0.008146</td>\n",
       "      <td>0.010861</td>\n",
       "      <td>0.013576</td>\n",
       "      <td>...</td>\n",
       "      <td>0.923973</td>\n",
       "      <td>0.891169</td>\n",
       "      <td>0.849204</td>\n",
       "      <td>0.795714</td>\n",
       "      <td>0.727727</td>\n",
       "      <td>0.641503</td>\n",
       "      <td>0.532338</td>\n",
       "      <td>0.394315</td>\n",
       "      <td>0.219990</td>\n",
       "      <td>0.0</td>\n",
       "    </tr>\n",
       "    <tr>\n",
       "      <th>4</th>\n",
       "      <td>5</td>\n",
       "      <td>0</td>\n",
       "      <td>96.600190</td>\n",
       "      <td>0.913886</td>\n",
       "      <td>6.126804e-15</td>\n",
       "      <td>0.002285</td>\n",
       "      <td>0.004569</td>\n",
       "      <td>0.006854</td>\n",
       "      <td>0.009139</td>\n",
       "      <td>0.011424</td>\n",
       "      <td>...</td>\n",
       "      <td>0.790446</td>\n",
       "      <td>0.764473</td>\n",
       "      <td>0.730740</td>\n",
       "      <td>0.687113</td>\n",
       "      <td>0.630876</td>\n",
       "      <td>0.558564</td>\n",
       "      <td>0.465764</td>\n",
       "      <td>0.346847</td>\n",
       "      <td>0.194641</td>\n",
       "      <td>0.0</td>\n",
       "    </tr>\n",
       "    <tr>\n",
       "      <th>5</th>\n",
       "      <td>6</td>\n",
       "      <td>0</td>\n",
       "      <td>96.600190</td>\n",
       "      <td>0.966002</td>\n",
       "      <td>3.435850e-15</td>\n",
       "      <td>0.002415</td>\n",
       "      <td>0.004830</td>\n",
       "      <td>0.007245</td>\n",
       "      <td>0.009660</td>\n",
       "      <td>0.012075</td>\n",
       "      <td>...</td>\n",
       "      <td>0.835522</td>\n",
       "      <td>0.808068</td>\n",
       "      <td>0.772411</td>\n",
       "      <td>0.726296</td>\n",
       "      <td>0.666852</td>\n",
       "      <td>0.590417</td>\n",
       "      <td>0.492325</td>\n",
       "      <td>0.366627</td>\n",
       "      <td>0.205740</td>\n",
       "      <td>0.0</td>\n",
       "    </tr>\n",
       "    <tr>\n",
       "      <th>6</th>\n",
       "      <td>7</td>\n",
       "      <td>0</td>\n",
       "      <td>96.600190</td>\n",
       "      <td>1.033998</td>\n",
       "      <td>6.409849e-15</td>\n",
       "      <td>0.002585</td>\n",
       "      <td>0.005170</td>\n",
       "      <td>0.007755</td>\n",
       "      <td>0.010340</td>\n",
       "      <td>0.012925</td>\n",
       "      <td>...</td>\n",
       "      <td>0.894334</td>\n",
       "      <td>0.864948</td>\n",
       "      <td>0.826780</td>\n",
       "      <td>0.777420</td>\n",
       "      <td>0.713791</td>\n",
       "      <td>0.631976</td>\n",
       "      <td>0.526979</td>\n",
       "      <td>0.392433</td>\n",
       "      <td>0.220222</td>\n",
       "      <td>0.0</td>\n",
       "    </tr>\n",
       "    <tr>\n",
       "      <th>7</th>\n",
       "      <td>8</td>\n",
       "      <td>0</td>\n",
       "      <td>96.600190</td>\n",
       "      <td>1.086114</td>\n",
       "      <td>5.013566e-15</td>\n",
       "      <td>0.002715</td>\n",
       "      <td>0.005431</td>\n",
       "      <td>0.008146</td>\n",
       "      <td>0.010861</td>\n",
       "      <td>0.013576</td>\n",
       "      <td>...</td>\n",
       "      <td>0.939410</td>\n",
       "      <td>0.908543</td>\n",
       "      <td>0.868452</td>\n",
       "      <td>0.816603</td>\n",
       "      <td>0.749768</td>\n",
       "      <td>0.663829</td>\n",
       "      <td>0.553540</td>\n",
       "      <td>0.412213</td>\n",
       "      <td>0.231322</td>\n",
       "      <td>0.0</td>\n",
       "    </tr>\n",
       "    <tr>\n",
       "      <th>8</th>\n",
       "      <td>9</td>\n",
       "      <td>0</td>\n",
       "      <td>103.399810</td>\n",
       "      <td>0.913886</td>\n",
       "      <td>2.924776e-15</td>\n",
       "      <td>0.002285</td>\n",
       "      <td>0.004569</td>\n",
       "      <td>0.006854</td>\n",
       "      <td>0.009139</td>\n",
       "      <td>0.011424</td>\n",
       "      <td>...</td>\n",
       "      <td>0.805255</td>\n",
       "      <td>0.781394</td>\n",
       "      <td>0.749772</td>\n",
       "      <td>0.708084</td>\n",
       "      <td>0.653342</td>\n",
       "      <td>0.581670</td>\n",
       "      <td>0.488043</td>\n",
       "      <td>0.365942</td>\n",
       "      <td>0.206915</td>\n",
       "      <td>0.0</td>\n",
       "    </tr>\n",
       "    <tr>\n",
       "      <th>9</th>\n",
       "      <td>10</td>\n",
       "      <td>0</td>\n",
       "      <td>103.399810</td>\n",
       "      <td>0.966002</td>\n",
       "      <td>-1.017045e-14</td>\n",
       "      <td>0.002415</td>\n",
       "      <td>0.004830</td>\n",
       "      <td>0.007245</td>\n",
       "      <td>0.009660</td>\n",
       "      <td>0.012075</td>\n",
       "      <td>...</td>\n",
       "      <td>0.851175</td>\n",
       "      <td>0.825954</td>\n",
       "      <td>0.792529</td>\n",
       "      <td>0.748463</td>\n",
       "      <td>0.690600</td>\n",
       "      <td>0.614841</td>\n",
       "      <td>0.515874</td>\n",
       "      <td>0.386811</td>\n",
       "      <td>0.218715</td>\n",
       "      <td>0.0</td>\n",
       "    </tr>\n",
       "    <tr>\n",
       "      <th>10</th>\n",
       "      <td>11</td>\n",
       "      <td>0</td>\n",
       "      <td>103.399810</td>\n",
       "      <td>1.033998</td>\n",
       "      <td>-6.683465e-15</td>\n",
       "      <td>0.002585</td>\n",
       "      <td>0.005170</td>\n",
       "      <td>0.007755</td>\n",
       "      <td>0.010340</td>\n",
       "      <td>0.012925</td>\n",
       "      <td>...</td>\n",
       "      <td>0.911089</td>\n",
       "      <td>0.884093</td>\n",
       "      <td>0.848314</td>\n",
       "      <td>0.801147</td>\n",
       "      <td>0.739210</td>\n",
       "      <td>0.658119</td>\n",
       "      <td>0.552186</td>\n",
       "      <td>0.414038</td>\n",
       "      <td>0.234110</td>\n",
       "      <td>0.0</td>\n",
       "    </tr>\n",
       "    <tr>\n",
       "      <th>11</th>\n",
       "      <td>12</td>\n",
       "      <td>0</td>\n",
       "      <td>103.399810</td>\n",
       "      <td>1.086114</td>\n",
       "      <td>-4.726230e-15</td>\n",
       "      <td>0.002715</td>\n",
       "      <td>0.005431</td>\n",
       "      <td>0.008146</td>\n",
       "      <td>0.010861</td>\n",
       "      <td>0.013576</td>\n",
       "      <td>...</td>\n",
       "      <td>0.957010</td>\n",
       "      <td>0.928653</td>\n",
       "      <td>0.891071</td>\n",
       "      <td>0.841527</td>\n",
       "      <td>0.776468</td>\n",
       "      <td>0.691289</td>\n",
       "      <td>0.580017</td>\n",
       "      <td>0.434906</td>\n",
       "      <td>0.245910</td>\n",
       "      <td>0.0</td>\n",
       "    </tr>\n",
       "    <tr>\n",
       "      <th>12</th>\n",
       "      <td>13</td>\n",
       "      <td>0</td>\n",
       "      <td>108.611363</td>\n",
       "      <td>0.913886</td>\n",
       "      <td>7.238734e-15</td>\n",
       "      <td>0.002285</td>\n",
       "      <td>0.004569</td>\n",
       "      <td>0.006854</td>\n",
       "      <td>0.009139</td>\n",
       "      <td>0.011424</td>\n",
       "      <td>...</td>\n",
       "      <td>0.815163</td>\n",
       "      <td>0.792891</td>\n",
       "      <td>0.762904</td>\n",
       "      <td>0.722777</td>\n",
       "      <td>0.669325</td>\n",
       "      <td>0.598362</td>\n",
       "      <td>0.504385</td>\n",
       "      <td>0.380165</td>\n",
       "      <td>0.216199</td>\n",
       "      <td>0.0</td>\n",
       "    </tr>\n",
       "    <tr>\n",
       "      <th>13</th>\n",
       "      <td>14</td>\n",
       "      <td>0</td>\n",
       "      <td>108.611363</td>\n",
       "      <td>0.966002</td>\n",
       "      <td>-8.897363e-16</td>\n",
       "      <td>0.002415</td>\n",
       "      <td>0.004830</td>\n",
       "      <td>0.007245</td>\n",
       "      <td>0.009660</td>\n",
       "      <td>0.012075</td>\n",
       "      <td>...</td>\n",
       "      <td>0.861649</td>\n",
       "      <td>0.838107</td>\n",
       "      <td>0.806409</td>\n",
       "      <td>0.763994</td>\n",
       "      <td>0.707494</td>\n",
       "      <td>0.632484</td>\n",
       "      <td>0.533148</td>\n",
       "      <td>0.401844</td>\n",
       "      <td>0.228528</td>\n",
       "      <td>0.0</td>\n",
       "    </tr>\n",
       "    <tr>\n",
       "      <th>14</th>\n",
       "      <td>15</td>\n",
       "      <td>0</td>\n",
       "      <td>108.611363</td>\n",
       "      <td>1.033998</td>\n",
       "      <td>8.454188e-15</td>\n",
       "      <td>0.002585</td>\n",
       "      <td>0.005170</td>\n",
       "      <td>0.007755</td>\n",
       "      <td>0.010340</td>\n",
       "      <td>0.012925</td>\n",
       "      <td>...</td>\n",
       "      <td>0.922300</td>\n",
       "      <td>0.897100</td>\n",
       "      <td>0.863172</td>\n",
       "      <td>0.817771</td>\n",
       "      <td>0.757294</td>\n",
       "      <td>0.677004</td>\n",
       "      <td>0.570676</td>\n",
       "      <td>0.430130</td>\n",
       "      <td>0.244614</td>\n",
       "      <td>0.0</td>\n",
       "    </tr>\n",
       "    <tr>\n",
       "      <th>15</th>\n",
       "      <td>16</td>\n",
       "      <td>0</td>\n",
       "      <td>108.611363</td>\n",
       "      <td>1.086114</td>\n",
       "      <td>3.336393e-15</td>\n",
       "      <td>0.002715</td>\n",
       "      <td>0.005431</td>\n",
       "      <td>0.008146</td>\n",
       "      <td>0.010861</td>\n",
       "      <td>0.013576</td>\n",
       "      <td>...</td>\n",
       "      <td>0.968785</td>\n",
       "      <td>0.942316</td>\n",
       "      <td>0.906677</td>\n",
       "      <td>0.858988</td>\n",
       "      <td>0.795463</td>\n",
       "      <td>0.711127</td>\n",
       "      <td>0.599440</td>\n",
       "      <td>0.451809</td>\n",
       "      <td>0.256943</td>\n",
       "      <td>0.0</td>\n",
       "    </tr>\n",
       "  </tbody>\n",
       "</table>\n",
       "<p>16 rows × 405 columns</p>\n",
       "</div>"
      ],
      "text/plain": [
       "   run_id iteration          Pe         f             u                      \\\n",
       "      0         0           0         0             0         1         2     \n",
       "0       1         0   91.388637  0.913886  8.508097e-14  0.002285  0.004569   \n",
       "1       2         0   91.388637  0.966002  1.038570e-13  0.002415  0.004830   \n",
       "2       3         0   91.388637  1.033998  9.905040e-14  0.002585  0.005170   \n",
       "3       4         0   91.388637  1.086114  1.062685e-13  0.002715  0.005431   \n",
       "4       5         0   96.600190  0.913886  6.126804e-15  0.002285  0.004569   \n",
       "5       6         0   96.600190  0.966002  3.435850e-15  0.002415  0.004830   \n",
       "6       7         0   96.600190  1.033998  6.409849e-15  0.002585  0.005170   \n",
       "7       8         0   96.600190  1.086114  5.013566e-15  0.002715  0.005431   \n",
       "8       9         0  103.399810  0.913886  2.924776e-15  0.002285  0.004569   \n",
       "9      10         0  103.399810  0.966002 -1.017045e-14  0.002415  0.004830   \n",
       "10     11         0  103.399810  1.033998 -6.683465e-15  0.002585  0.005170   \n",
       "11     12         0  103.399810  1.086114 -4.726230e-15  0.002715  0.005431   \n",
       "12     13         0  108.611363  0.913886  7.238734e-15  0.002285  0.004569   \n",
       "13     14         0  108.611363  0.966002 -8.897363e-16  0.002415  0.004830   \n",
       "14     15         0  108.611363  1.033998  8.454188e-15  0.002585  0.005170   \n",
       "15     16         0  108.611363  1.086114  3.336393e-15  0.002715  0.005431   \n",
       "\n",
       "                                  ...                                          \\\n",
       "         3         4         5    ...       391       392       393       394   \n",
       "0   0.006854  0.009139  0.011424  ...  0.777456  0.749855  0.714544  0.669536   \n",
       "1   0.007245  0.009660  0.012075  ...  0.821792  0.792616  0.755292  0.707717   \n",
       "2   0.007755  0.010340  0.012925  ...  0.879637  0.848408  0.808456  0.757533   \n",
       "3   0.008146  0.010861  0.013576  ...  0.923973  0.891169  0.849204  0.795714   \n",
       "4   0.006854  0.009139  0.011424  ...  0.790446  0.764473  0.730740  0.687113   \n",
       "5   0.007245  0.009660  0.012075  ...  0.835522  0.808068  0.772411  0.726296   \n",
       "6   0.007755  0.010340  0.012925  ...  0.894334  0.864948  0.826780  0.777420   \n",
       "7   0.008146  0.010861  0.013576  ...  0.939410  0.908543  0.868452  0.816603   \n",
       "8   0.006854  0.009139  0.011424  ...  0.805255  0.781394  0.749772  0.708084   \n",
       "9   0.007245  0.009660  0.012075  ...  0.851175  0.825954  0.792529  0.748463   \n",
       "10  0.007755  0.010340  0.012925  ...  0.911089  0.884093  0.848314  0.801147   \n",
       "11  0.008146  0.010861  0.013576  ...  0.957010  0.928653  0.891071  0.841527   \n",
       "12  0.006854  0.009139  0.011424  ...  0.815163  0.792891  0.762904  0.722777   \n",
       "13  0.007245  0.009660  0.012075  ...  0.861649  0.838107  0.806409  0.763994   \n",
       "14  0.007755  0.010340  0.012925  ...  0.922300  0.897100  0.863172  0.817771   \n",
       "15  0.008146  0.010861  0.013576  ...  0.968785  0.942316  0.906677  0.858988   \n",
       "\n",
       "                                                           \n",
       "         395       396       397       398       399  400  \n",
       "0   0.612330  0.539778  0.447924  0.331787  0.185106  0.0  \n",
       "1   0.647249  0.570560  0.473467  0.350708  0.195662  0.0  \n",
       "2   0.692808  0.610721  0.506794  0.375394  0.209434  0.0  \n",
       "3   0.727727  0.641503  0.532338  0.394315  0.219990  0.0  \n",
       "4   0.630876  0.558564  0.465764  0.346847  0.194641  0.0  \n",
       "5   0.666852  0.590417  0.492325  0.366627  0.205740  0.0  \n",
       "6   0.713791  0.631976  0.526979  0.392433  0.220222  0.0  \n",
       "7   0.749768  0.663829  0.553540  0.412213  0.231322  0.0  \n",
       "8   0.653342  0.581670  0.488043  0.365942  0.206915  0.0  \n",
       "9   0.690600  0.614841  0.515874  0.386811  0.218715  0.0  \n",
       "10  0.739210  0.658119  0.552186  0.414038  0.234110  0.0  \n",
       "11  0.776468  0.691289  0.580017  0.434906  0.245910  0.0  \n",
       "12  0.669325  0.598362  0.504385  0.380165  0.216199  0.0  \n",
       "13  0.707494  0.632484  0.533148  0.401844  0.228528  0.0  \n",
       "14  0.757294  0.677004  0.570676  0.430130  0.244614  0.0  \n",
       "15  0.795463  0.711127  0.599440  0.451809  0.256943  0.0  \n",
       "\n",
       "[16 rows x 405 columns]"
      ]
     },
     "execution_count": 16,
     "metadata": {},
     "output_type": "execute_result"
    }
   ],
   "source": [
    "df = campaign.get_collation_result()\n",
    "df"
   ]
  },
  {
   "cell_type": "markdown",
   "id": "8f66fdbe-8b7c-4d35-85ca-eb45315be818",
   "metadata": {},
   "source": [
    "### Analysis: postprocessing the results"
   ]
  },
  {
   "cell_type": "code",
   "execution_count": 19,
   "id": "c7c41531-1cb5-4ee1-a360-c0a8de605ce7",
   "metadata": {
    "tags": []
   },
   "outputs": [
    {
     "name": "stderr",
     "output_type": "stream",
     "text": [
      "/home/wouter/.local/lib/python3.9/site-packages/chaospy-4.3.2-py3.9.egg/chaospy/descriptives/correlation/pearson.py:46: RuntimeWarning: invalid value encountered in divide\n",
      "  return numpy.where(vvar > 0, cov/vvar, 0)\n"
     ]
    },
    {
     "name": "stdout",
     "output_type": "stream",
     "text": [
      "Error LinAlgError for u when computing cp.QoI_Dist()\n"
     ]
    },
    {
     "data": {
      "text/plain": [
       "['min', 'max', '10%', '90%', '1%', '99%', 'median', 'mean', 'var', 'std']"
      ]
     },
     "execution_count": 19,
     "metadata": {},
     "output_type": "execute_result"
    }
   ],
   "source": [
    "results = campaign.analyse(qoi_cols=['u'])\n",
    "results.supported_stats()"
   ]
  },
  {
   "cell_type": "markdown",
   "id": "7ce11640-15f7-4e9e-b53a-dccf47b122ac",
   "metadata": {},
   "source": [
    "### Plotting moments"
   ]
  },
  {
   "cell_type": "code",
   "execution_count": 22,
   "id": "ad81523e-6b43-4eb0-b3d1-ec25461fb709",
   "metadata": {
    "tags": []
   },
   "outputs": [],
   "source": [
    "code_samples = results.samples['u'].values\n",
    "xx = np.linspace(0, 1, code_samples.shape[1])"
   ]
  },
  {
   "cell_type": "code",
   "execution_count": 26,
   "id": "69e75886-4899-4476-88d6-1c64f944ed1f",
   "metadata": {
    "tags": []
   },
   "outputs": [
    {
     "name": "stderr",
     "output_type": "stream",
     "text": [
      "/tmp/ipykernel_10461/3819871877.py:11: UserWarning: The figure layout has changed to tight\n",
      "  plt.tight_layout()\n"
     ]
    },
    {
     "data": {
      "image/png": "[encoded data removed]",
      "text/plain": [
       "<Figure size 640x480 with 1 Axes>"
      ]
     },
     "metadata": {},
     "output_type": "display_data"
    }
   ],
   "source": [
    "mean = results.describe(qoi = 'u', statistic = 'mean')\n",
    "std = results.describe(qoi = 'u', statistic = 'std')\n",
    "\n",
    "fig = plt.figure()\n",
    "ax = fig.add_subplot(111, xlabel='x', ylabel = 'u')\n",
    "ax.plot(xx, mean, color='dodgerblue', label='mean')\n",
    "ax.plot(xx, mean + std, '--', color='dodgerblue', label='mean +/ std')\n",
    "ax.plot(xx, mean - std, '--', color='dodgerblue')\n",
    "plt.legend(frameon = False)\n",
    "plt.tight_layout()\n",
    "plt.tight_layout()"
   ]
  },
  {
   "cell_type": "markdown",
   "id": "3c7da59c-a990-434e-a572-b3cec1ab8e26",
   "metadata": {},
   "source": [
    "### Fast sampling using the surrogate"
   ]
  },
  {
   "cell_type": "code",
   "execution_count": 28,
   "id": "c7535ec5-77a6-4794-ad6a-25d06701d773",
   "metadata": {
    "tags": []
   },
   "outputs": [
    {
     "data": {
      "image/png": "[encoded data removed]",
      "text/plain": [
       "<Figure size 640x480 with 1 Axes>"
      ]
     },
     "metadata": {},
     "output_type": "display_data"
    }
   ],
   "source": [
    "surrogate = results.surrogate()\n",
    "\n",
    "random_inputs = {}\n",
    "n_samples = 1000\n",
    "for param in vary.keys():\n",
    "    random_inputs[param] = vary[param].sample(n_samples)\n",
    "\n",
    "u_surrogate = surrogate(random_inputs)\n",
    "\n",
    "fig = plt.figure()\n",
    "ax = fig.add_subplot(111, xlabel='x', ylabel = 'u')\n",
    "ax.plot(xx, np.array(u_surrogate['u']).T, color='dodgerblue', alpha=0.8, label='surrogate')\n",
    "ax.plot(xx, code_samples.T, color='salmon', label='code')\n",
    "\n",
    "# legend, but remove duplicate labels\n",
    "handles, labels = plt.gca().get_legend_handles_labels()\n",
    "by_label = dict(zip(labels, handles))\n",
    "plt.legend(by_label.values(), by_label.keys())\n",
    "\n",
    "plt.tight_layout()"
   ]
  },
  {
   "cell_type": "markdown",
   "id": "1c1bf274-dc44-485c-86be-a229684a4089",
   "metadata": {},
   "source": [
    "### Plotting the Sobol indices"
   ]
  },
  {
   "cell_type": "code",
   "execution_count": 30,
   "id": "b1da581d-e543-412c-95fc-b3d505ffc7e5",
   "metadata": {
    "tags": []
   },
   "outputs": [
    {
     "data": {
      "image/png": "[encoded data removed]",
      "text/plain": [
       "<Figure size 640x480 with 1 Axes>"
      ]
     },
     "metadata": {},
     "output_type": "display_data"
    }
   ],
   "source": [
    "sobols_first = results.sobols_first()\n",
    "\n",
    "fig = plt.figure()\n",
    "ax = fig.add_subplot(111, xlabel='x', ylabel = 'u')\n",
    "\n",
    "for param in vary:\n",
    "    ax.plot(xx, sobols_first['u'][param], label=param)\n",
    "\n",
    "plt.legend(frameon = False)\n",
    "plt.tight_layout()"
   ]
  },
  {
   "cell_type": "code",
   "execution_count": null,
   "id": "ae37022b-1388-48e5-9e3f-d360fa918450",
   "metadata": {},
   "outputs": [],
   "source": []
  }
 ],
 "metadata": {
  "kernelspec": {
   "display_name": "Python 3 (ipykernel)",
   "language": "python",
   "name": "python3"
  },
  "language_info": {
   "codemirror_mode": {
    "name": "ipython",
    "version": 3
   },
   "file_extension": ".py",
   "mimetype": "text/x-python",
   "name": "python",
   "nbconvert_exporter": "python",
   "pygments_lexer": "ipython3",
   "version": "3.9.16"
  }
 },
 "nbformat": 4,
 "nbformat_minor": 5
}
