{
 "cells": [
  {
   "cell_type": "markdown",
   "id": "4f80c75c-5618-4d24-a739-a632c3e60d27",
   "metadata": {},
   "source": [
    "# Setting up a basic EasyVVUQ-Fabsim3 campaign\n",
    "\n",
    "We will assume you have executed the basic EasyVVUQ assigment of day 2. Here, we will do the same, except we will **use FabSim3 to execute the ensembles, instead of the EasyVVUQ `ExecuteLocal` class**. As before, we will quantify the uncertainties of our simple advection-diffusion model:\n",
    "\n",
    "\\begin{align*}\n",
    "\\boxed{\n",
    "\\frac{du}{dx} - \\frac{1}{Pe}\\frac{d^2u}{dx^2} = f}\n",
    "\\end{align*}\n",
    "\n",
    "This ODE solves for the velocity $u(x)$, where the spatial domain runs from $x\\in[0,1]$. Homogeneous boundary conditions are applied: $u(0)=u(1)=0$. The solution $u$ depends upon two parameters:\n",
    "\n",
    "* $Pe$: the so-called **Peclet number**, defined as the ratio between the rate of advection and the rate of diffusion,\n",
    "* $f$: the constant forcing term.\n",
    "\n",
    "A numerical solver (finite elements) of this equation is found in `advection_diffusion_model/advection_diffusion.py`."
   ]
  },
  {
   "cell_type": "code",
   "execution_count": 1,
   "id": "1076c0c7-fe88-4254-8a6c-db6f42e06d9f",
   "metadata": {},
   "outputs": [
    {
     "name": "stdout",
     "output_type": "stream",
     "text": [
      "/home/wouter/py-env/bin/pip\n"
     ]
    }
   ],
   "source": [
    "#!which pip"
   ]
  },
  {
   "cell_type": "code",
   "execution_count": 2,
   "id": "13fea71e-e4a8-413e-9744-b615334983d9",
   "metadata": {
    "tags": []
   },
   "outputs": [
    {
     "name": "stdout",
     "output_type": "stream",
     "text": [
      "Requirement already satisfied: numpy<2.0,>=1.0 in /home/wouter/py-env/lib/python3.9/site-packages (1.26.4)\n",
      "\u001b[33mWARNING: You are using pip version 22.0.4; however, version 24.2 is available.\n",
      "You should consider upgrading via the '/home/wouter/py-env/bin/python3 -m pip install --upgrade pip' command.\u001b[0m\u001b[33m\n",
      "\u001b[0m"
     ]
    }
   ],
   "source": [
    "#!pip install easyvvuq\n",
    "#!pip install \"numpy>=1.0,<2.0\""
   ]
  },
  {
   "cell_type": "code",
   "execution_count": 3,
   "id": "84c26fdc-ba35-4c3a-9e96-a847bcae11e7",
   "metadata": {},
   "outputs": [],
   "source": [
    "import os\n",
    "import numpy as np\n",
    "import matplotlib.pyplot as plt\n",
    "\n",
    "import chaospy as cp\n",
    "import easyvvuq as uq\n",
    "from easyvvuq.actions import CreateRunDirectory, Encode, Decode, ExecuteLocal, Actions"
   ]
  },
  {
   "cell_type": "markdown",
   "id": "b3c0bd6d-e376-408e-ba85-7bd6b78d3e01",
   "metadata": {},
   "source": [
    "### Flags\n",
    "\n",
    "These are the EasyVVUQ flags:\n",
    "\n",
    "* `HOME`: simply the current directory,\n",
    "* `WORK_DIR`: this is where all the EasyVVUQ ensembles runs will be stored,\n",
    "* `CAMPAIGN_NAME`: this is the name of the EasyVVUQ campaign, explained later."
   ]
  },
  {
   "cell_type": "code",
   "execution_count": 4,
   "id": "e3e8eaa5-889b-477e-9b0d-dd5d235eb1ee",
   "metadata": {
    "tags": []
   },
   "outputs": [],
   "source": [
    "# home directory\n",
    "HOME = os.getcwd()\n",
    "# Work directory, where the easyVVUQ directory will be placed\n",
    "WORK_DIR = '/tmp'\n",
    "# EasyVVUQ Campaign name\n",
    "CAMPAIGN_NAME = 'adv_diff'"
   ]
  },
  {
   "cell_type": "markdown",
   "id": "be98cf77-aea4-4b2d-ac9a-bf8e2b3aea64",
   "metadata": {},
   "source": [
    "### Define parameter space\n",
    "\n",
    "We will have to define a dictionary that minimally describes the type (typically `float` or maybe `integer`) of each input, as well as its default value. Below we create the `params` dict for the Peclet number $Pe$ and forcing term $f$."
   ]
  },
  {
   "cell_type": "code",
   "execution_count": 5,
   "id": "e00d93f3-d781-4a75-8e7c-cc8102f6bd35",
   "metadata": {
    "tags": []
   },
   "outputs": [],
   "source": [
    "# Define parameter space: type & default value\n",
    "params = {\n",
    "    \"Pe\": {\n",
    "        \"type\": \"float\",\n",
    "        \"default\": 100.0},\n",
    "    \"f\": {\n",
    "        \"type\": \"float\",\n",
    "        \"default\": 1.0}}"
   ]
  },
  {
   "cell_type": "markdown",
   "id": "43f6dba2-3811-44d1-993f-48a2c74bd801",
   "metadata": {},
   "source": [
    "### Choose input distributions\n",
    "\n",
    "Here we assign a probability density function to inputs from the `params` dict.  EasyVVUQ uses the Chaospy library for this purpose. A list of available distributions can be found [here](https://chaospy.readthedocs.io/en/master/reference/distribution/index.html).\n",
    "\n",
    "All parameters that we actually want to vary are stored in the `vary`. These must also occur in the `params` dict. The converse is not true. If we only wish to vary a subset of the inputs in the `params` dict, we simply leave out the inputs in the `vary` dict that we do not want to change. These excluded inputs will automatically be assigned their default value in all ensemble runs.\n",
    "\n",
    "**Assigment**: Assign uniform distribution to both inputs, using the `cp.Uniform` distribution, bounded to $\\pm10\\%$ of the defaults values:"
   ]
  },
  {
   "cell_type": "code",
   "execution_count": 6,
   "id": "09c476d5-c888-4d5b-a8ef-cb2ac26bf93c",
   "metadata": {
    "tags": []
   },
   "outputs": [
    {
     "data": {
      "text/plain": [
       "{'Pe': Uniform(lower=90.0, upper=110.00000000000001),\n",
       " 'f': Uniform(lower=0.9, upper=1.1)}"
      ]
     },
     "execution_count": 6,
     "metadata": {},
     "output_type": "execute_result"
    }
   ],
   "source": [
    "vary = {'Pe' : cp.Uniform(0.9 * params['Pe']['default'], 1.1 * params['Pe']['default']),\n",
    "        'f' :  cp.Uniform(0.9 * params['f']['default'], 1.1 * params['f']['default'])}\n",
    "vary"
   ]
  },
  {
   "cell_type": "markdown",
   "id": "95aca3ce-2947-44b1-a62d-94d1b52ce16f",
   "metadata": {},
   "source": [
    "### Input file encoding\n",
    "\n",
    "We require some way of feeding new parameter values to whatever simulation code we are examining. This is done by creating an **input template**. The `encoder` class cabn read this template and fill it with input samples drawn from the distributions of the `vary dict`. We will use the `GenericEncoder` for this purpose. It take 3 arguments:\n",
    "\n",
    "* `template_fname`: this is the input template created in the previous exercise\n",
    "* `delimiter`: the delimiter sought out by the encoder\n",
    "* `target_filename`: the name of the input file"
   ]
  },
  {
   "cell_type": "code",
   "execution_count": 7,
   "id": "fd5441c7-935f-47ed-bf28-4cada36f3806",
   "metadata": {
    "tags": []
   },
   "outputs": [],
   "source": [
    "encoder = uq.encoders.GenericEncoder(template_fname='advection_diffusion_model/input.template',\n",
    "                                     delimiter='$',\n",
    "                                     target_filename='input.json')"
   ]
  },
  {
   "cell_type": "markdown",
   "id": "946a58b4-5fc7-4296-86db-b81aeece05ac",
   "metadata": {},
   "source": [
    "### Output file decoding\n",
    "\n",
    "We once more use the `SimpleCSV` decoder to extract the velocity $u$ from the CSV output file:"
   ]
  },
  {
   "cell_type": "code",
   "execution_count": 8,
   "id": "f80ad618-b3cd-4bf5-9bf7-278e89af92a9",
   "metadata": {
    "tags": []
   },
   "outputs": [],
   "source": [
    "decoder = uq.decoders.SimpleCSV(target_filename='output.csv', \n",
    "                                output_columns=['u'])"
   ]
  },
  {
   "cell_type": "markdown",
   "id": "85d7c4f1-d817-4515-a82e-d167623d8ddb",
   "metadata": {},
   "source": [
    "### Actions: creating a sequence of steps\n",
    "\n",
    "Up to this point everything was the same an in the previous advection-diffusion tutorial. There we defined the following actions, stringing teh whole workflow into a single `Actions` object:\n",
    "\n",
    "```python\n",
    "execute = ExecuteLocal('python {}/advection_diffusion_model/advection_diffusion.py'.format(HOME))\n",
    "actions = Actions(CreateRunDirectory(WORK_DIR, flatten=True), Encode(encoder), execute, Decode(decoder))\n",
    "```\n",
    "\n",
    "Here, we will break the Actions in three pieces:\n",
    "\n",
    "1) Create the ensemble directories and encode the input file\n",
    "\n",
    "2) Run ensemble using FabSim3\n",
    "\n",
    "3) Decode\n",
    "\n",
    "Step 1:"
   ]
  },
  {
   "cell_type": "code",
   "execution_count": 9,
   "id": "c66f5972-af7d-4c58-b90d-17016ba5e0f8",
   "metadata": {
    "tags": []
   },
   "outputs": [],
   "source": [
    "# create the run directories and encode the input file\n",
    "actions = Actions(CreateRunDirectory(WORK_DIR, flatten=True),\n",
    "                  Encode(encoder))"
   ]
  },
  {
   "cell_type": "markdown",
   "id": "f93e937a-b58a-465b-a4be-5797c097e98f",
   "metadata": {},
   "source": [
    "Create a campain:"
   ]
  },
  {
   "cell_type": "code",
   "execution_count": 10,
   "id": "36b6a418-29cc-4c9d-aadc-4c4de86792e5",
   "metadata": {
    "tags": []
   },
   "outputs": [],
   "source": [
    "campaign = uq.Campaign(work_dir=WORK_DIR, name=CAMPAIGN_NAME,\n",
    "                       params=params, actions=actions)"
   ]
  },
  {
   "cell_type": "markdown",
   "id": "25b8ba7d-d97f-49dc-91de-15f884a8b911",
   "metadata": {},
   "source": [
    "Select a sampler:"
   ]
  },
  {
   "cell_type": "code",
   "execution_count": 11,
   "id": "960e4475-386d-4b12-80aa-0a7abd184960",
   "metadata": {
    "tags": []
   },
   "outputs": [],
   "source": [
    "sampler = uq.sampling.SCSampler(vary=vary, polynomial_order=3)\n",
    "campaign.set_sampler(sampler)"
   ]
  },
  {
   "cell_type": "markdown",
   "id": "dbee112f-0fd1-444c-924b-a1aa4ff67182",
   "metadata": {},
   "source": [
    "And execute the actions. At this point you can check if `WORKDIR` contains your campaign directory with encoded input files. The code itself has not been executed yet."
   ]
  },
  {
   "cell_type": "code",
   "execution_count": 12,
   "id": "6a72fad1-ff06-40af-9ac6-3936ee35ed2e",
   "metadata": {
    "tags": []
   },
   "outputs": [],
   "source": [
    "campaign.execute().collate()"
   ]
  },
  {
   "cell_type": "markdown",
   "id": "eff2d6b4-337b-4cb0-accb-efea90405626",
   "metadata": {},
   "source": [
    "## Linking EasyVVUQ and FabSim3\n",
    "\n",
    "We will assume you have FabSim3 installed, as well as the `FabUQCampaign` plugin. If not, you can find instructions [here](https://github.com/ScientificComputingCWI/SemesterProgramme-UQ/blob/main/INSTALL.md).\n",
    "\n",
    "You will now need to configure the FabSim3 script, config and `machines_user.yml` file.\n",
    "\n",
    "**machines_user.yml**\n",
    "\n",
    "This file is located in `FabSim3/fabsim/deploy`. Open it. This is an important file that lets you configure your run environment for various machines, both your `localhost` as well as remote machines. We need to tell FabSim where we can find the advection-diffusion solver (the one in this repo ``advection_diffusion_model/advection_diffusion.py``). Under the `localhost` machine add the last line that says `ade_exec_school`\n",
    "\n",
    "```python\n",
    "localhost:\n",
    "  username: wouter\n",
    "  partition_name: \"standard\"\n",
    "  qos_name: \"short\"\n",
    "  runtime: 10\n",
    "  nodes: 1\n",
    "  ranks: 1\n",
    "  cores_per_rank: 1\n",
    "  home_path_template: \"/home/wouter/FabSim3/localhost_exe\"\n",
    "  ade_exec_school: \"<your full path to advection_diffusion.py>\"\n",
    "```\n",
    "\n",
    "**Script**\n",
    "\n",
    "This is simply the file that contains the command-line instruction to run the advection diffusion equation Python script, similar to the argument passed to `ExecuteLocal` that we used before. Do the following:\n",
    "\n",
    "* Go to `FabSim3/plugins/FabUQCampaign/templates`. Create a new script `ade_school`. Our model is a simple python script, so the following instructions will suffice:\n",
    "\n",
    "```\n",
    "cd $job_results\n",
    "$run_prefix\n",
    "\n",
    "python3 $ade_exec_school\n",
    "```\n",
    "\n",
    "This will just enter the correct run directory, and execute the `$ade_exec_school` script that we defined in `machines_user.yml`. Note that the scripts are just command line instrucions, so other (non-Python) models can be executed as well in the same manner.\n",
    "\n",
    "**Config**\n",
    "\n",
    "The model config files (if any) are located in `FabSim3/plugins/FabUQCampaign/config`. We will call our config `ade_school` again, make an empty directory with that name in `FabSim3/plugins/FabUQCampaign/templates`. That's all we need to do, al least in this case. If your model requires additional config files, perhaps stored in some predefined directory structure, this is where you would place that. Those will then be automatically copied to every ensemble member."
   ]
  },
  {
   "cell_type": "markdown",
   "id": "f593cfec-4cc9-432a-b6fc-c7d5938b270c",
   "metadata": {},
   "source": [
    "We will set the following FabSim3 flags, in line with what was discussen above:"
   ]
  },
  {
   "cell_type": "code",
   "execution_count": 13,
   "id": "a7d51d36-32ac-4161-8ee0-b3b77f43a3d4",
   "metadata": {
    "tags": []
   },
   "outputs": [],
   "source": [
    "# FabSim3 config name\n",
    "CONFIG = 'ade_school'\n",
    "# FabSim3 script name\n",
    "SCRIPT = 'ade_school'\n",
    "# machine to run ensemble on\n",
    "MACHINE = \"localhost\""
   ]
  },
  {
   "cell_type": "markdown",
   "id": "1bb5907a-bdad-4030-8007-5cf287f5efc1",
   "metadata": {},
   "source": [
    "### FabSim3-Python interface\n",
    "\n",
    "FabSim3 is a commandline tool, but FabUQCampaign also has a Python interface that is simply a shell over the commandline tools. To import it use"
   ]
  },
  {
   "cell_type": "code",
   "execution_count": 14,
   "id": "4f31d24c-12ce-45ac-86fe-94a776ff70fd",
   "metadata": {
    "tags": []
   },
   "outputs": [],
   "source": [
    "# Import the FabSim3 commandline interface\n",
    "import fabsim3_cmd_api as fab"
   ]
  },
  {
   "cell_type": "markdown",
   "id": "4bb3fa16-1f52-4328-880f-30e37a81c64f",
   "metadata": {},
   "source": [
    "We are now ready to submit the ensemble, in this case to `localhost`. The command `fab.run_uq_ensemble` submits the ensemble to the (remote) host for execution. Under the hood it uses the FabSim3 `campaign2ensemble` subroutine to copy the run directories from `WORK_DIR` to the FabSim3 `SWEEP` directory, located in `config_files/ade_school/SWEEP`. From there the ensemble will be sent to the (remote) host."
   ]
  },
  {
   "cell_type": "code",
   "execution_count": 15,
   "id": "34129b70-c871-4dd1-bc48-33ea47bdde83",
   "metadata": {
    "tags": []
   },
   "outputs": [
    {
     "name": "stdout",
     "output_type": "stream",
     "text": [
      "Executing fabsim localhost run_uq_ensemble:ade_school,campaign_dir=/tmp/adv_diffs17v8jtj,script=ade_school,skip=0,PJ=False\n"
     ]
    }
   ],
   "source": [
    "fab.run_uq_ensemble(CONFIG, campaign.campaign_dir, script=SCRIPT, machine=MACHINE, PJ=False)"
   ]
  },
  {
   "cell_type": "markdown",
   "id": "d3c44cce-a978-474e-b749-b358ce247a40",
   "metadata": {},
   "source": [
    "This will check every minute on the status of the jobs on the remote host, and sleep otherwise, halting further execution of the script. On the localhost this command doesn't do anything."
   ]
  },
  {
   "cell_type": "code",
   "execution_count": 16,
   "id": "f712a84a-2acc-4e43-af55-1231719dac40",
   "metadata": {
    "tags": []
   },
   "outputs": [
    {
     "data": {
      "text/plain": [
       "True"
      ]
     },
     "execution_count": 16,
     "metadata": {},
     "output_type": "execute_result"
    }
   ],
   "source": [
    "# wait for job to complete\n",
    "fab.wait(machine=MACHINE)"
   ]
  },
  {
   "cell_type": "markdown",
   "id": "a3b33249-fbd8-4749-b3db-85916567704a",
   "metadata": {},
   "source": [
    "`fab.verify` will execute the `verify_last_ensemble` subroutine to see if the output file `target_filename` (`output.csv` in our case) for each run in the `SWEEP` directory is present in the corresponding FabSim3 results directory. Returns a boolean flag. `fab.verify` will also call the FabSim `fetch_results` method, which actually retrieves the results from the (remote) host. \n",
    "\n",
    "So, if you want to just get the results without verifying the presence of output files, call `fab.fetch_results(machine=MACHINE)` instead. However, if something went wrong on the (remote) host, this will cause an error later on since not all required output files will be transfered on the EasyVVUQ `WORK_DIR`."
   ]
  },
  {
   "cell_type": "code",
   "execution_count": 17,
   "id": "a0f7db6b-841c-4997-98b7-ddecc29f58a2",
   "metadata": {
    "tags": []
   },
   "outputs": [
    {
     "name": "stdout",
     "output_type": "stream",
     "text": [
      "Executing fabsim localhost fetch_results\n",
      "Executing fabsim localhost verify_last_ensemble:ade_school,campaign_dir=/tmp/adv_diffs17v8jtj,target_filename=output.csv,machine=localhost\n"
     ]
    }
   ],
   "source": [
    "# check if all output files are retrieved from the remote machine, returns a Boolean flag\n",
    "all_good = fab.verify(CONFIG, campaign.campaign_dir,\n",
    "                      'output.csv',\n",
    "                      machine=MACHINE)"
   ]
  },
  {
   "cell_type": "markdown",
   "id": "01570899-10cb-4d14-8dca-b86e7e04cc32",
   "metadata": {},
   "source": [
    "`fab.get_uq_samples` copies the samples from the (local) FabSim results directory to the (local) EasyVVUQ campaign directory. It will not delete the results from the FabSim results directory. If you want to save space, you can delete the results on the FabSim side (see `results` directory in your FabSim home directory). You can also call `fab.clear_results(machine, name_results_dir)` to remove a specific FabSim results directory on a given machine."
   ]
  },
  {
   "cell_type": "code",
   "execution_count": 18,
   "id": "b0f89ca1-2ba4-47dd-a318-f91b448e985a",
   "metadata": {
    "tags": []
   },
   "outputs": [
    {
     "name": "stdout",
     "output_type": "stream",
     "text": [
      "Executing fabsim localhost get_uq_samples:ade_school,campaign_dir=/tmp/adv_diffs17v8jtj,number_of_samples=16,skip=0\n"
     ]
    }
   ],
   "source": [
    "if all_good:\n",
    "    # copy the results from the FabSim results dir to the EasyVVUQ results dir\n",
    "    fab.get_uq_samples(CONFIG, campaign.campaign_dir, sampler.n_samples, machine=MACHINE)\n",
    "else:\n",
    "    print(\"Not all samples executed correctly\")\n",
    "    import sys\n",
    "    sys.exit()"
   ]
  },
  {
   "cell_type": "markdown",
   "id": "8b207ab3-de3a-4224-85bc-d7ddf3dcfcde",
   "metadata": {},
   "source": [
    "#### Error handling\n",
    "\n",
    "If `all_good == False` something went wrong on the (remote) host, and `sys.exit()` is called in our example, giving you the opportunity of investigating what went wrong. It can happen that a (small) number of jobs did not get executed on the remote host for some reason, whereas (most) jobs did execute succesfully. In this case simply resubmitting the failed jobs could be an option:\n",
    "\n",
    "```python\n",
    "fab.remove_succesful_runs(CONFIG, campaign.campaign_dir)\n",
    "fab.resubmit_previous_ensemble(CONFIG, 'ade')\n",
    "```\n",
    "\n",
    "The first command removes all succesful run directories from the `SWEEP` dir for which the output file `TARGET_FILENAME` has been found. For this to work, `fab.verify` must have been called. Then, `fab.resubmit_previous_ensemble` simply resubmits the runs that are present in the `SWEEP` directory, which by now only contains the failed runs. After the jobs have finished, call `fab.verify` again to see if now `TARGET_FILENAME` is present in the results directory, for every run in the `SWEEP` dir."
   ]
  },
  {
   "cell_type": "markdown",
   "id": "49f47812-49c3-4c7d-a921-7a7842f038dc",
   "metadata": {},
   "source": [
    "### Continue the EasyVVUQ workflow\n",
    "\n",
    "At this point, the ensemble has been executed, and the results are copied back to the EasyVVUQ `WORK_DIR`. Thus we can continue as before, once we decode the output files:"
   ]
  },
  {
   "cell_type": "code",
   "execution_count": 19,
   "id": "51c8b168-9d80-4a48-961f-ab2a9cb24ae4",
   "metadata": {
    "tags": []
   },
   "outputs": [],
   "source": [
    "# All output files are present, decode them #\n",
    "\n",
    "actions = uq.actions.Actions(\n",
    "    uq.actions.Decode(decoder),\n",
    ")\n",
    "campaign.replace_actions(CAMPAIGN_NAME, actions)\n",
    "\n",
    "###########################\n",
    "# Execute decoding action #\n",
    "###########################\n",
    "\n",
    "campaign.execute().collate()"
   ]
  },
  {
   "cell_type": "markdown",
   "id": "92308731-67ae-48b9-8448-8bd230c55413",
   "metadata": {},
   "source": [
    "### Retrieving the raw results\n",
    "\n",
    "This is the raw EasyVVUQ data."
   ]
  },
  {
   "cell_type": "code",
   "execution_count": 20,
   "id": "e83ea865-5d9d-4346-8420-3ab6f0b5d03a",
   "metadata": {
    "tags": []
   },
   "outputs": [
    {
     "data": {
      "text/html": [
       "<div>\n",
       "<style scoped>\n",
       "    .dataframe tbody tr th:only-of-type {\n",
       "        vertical-align: middle;\n",
       "    }\n",
       "\n",
       "    .dataframe tbody tr th {\n",
       "        vertical-align: top;\n",
       "    }\n",
       "\n",
       "    .dataframe thead tr th {\n",
       "        text-align: left;\n",
       "    }\n",
       "</style>\n",
       "<table border=\"1\" class=\"dataframe\">\n",
       "  <thead>\n",
       "    <tr>\n",
       "      <th></th>\n",
       "      <th>run_id</th>\n",
       "      <th>iteration</th>\n",
       "      <th>Pe</th>\n",
       "      <th>f</th>\n",
       "      <th colspan=\"17\" halign=\"left\">u</th>\n",
       "    </tr>\n",
       "    <tr>\n",
       "      <th></th>\n",
       "      <th>0</th>\n",
       "      <th>0</th>\n",
       "      <th>0</th>\n",
       "      <th>0</th>\n",
       "      <th>0</th>\n",
       "      <th>1</th>\n",
       "      <th>2</th>\n",
       "      <th>3</th>\n",
       "      <th>4</th>\n",
       "      <th>5</th>\n",
       "      <th>...</th>\n",
       "      <th>391</th>\n",
       "      <th>392</th>\n",
       "      <th>393</th>\n",
       "      <th>394</th>\n",
       "      <th>395</th>\n",
       "      <th>396</th>\n",
       "      <th>397</th>\n",
       "      <th>398</th>\n",
       "      <th>399</th>\n",
       "      <th>400</th>\n",
       "    </tr>\n",
       "  </thead>\n",
       "  <tbody>\n",
       "    <tr>\n",
       "      <th>0</th>\n",
       "      <td>1</td>\n",
       "      <td>0</td>\n",
       "      <td>91.388637</td>\n",
       "      <td>0.913886</td>\n",
       "      <td>-9.270314e-15</td>\n",
       "      <td>0.002285</td>\n",
       "      <td>0.004569</td>\n",
       "      <td>0.006854</td>\n",
       "      <td>0.009139</td>\n",
       "      <td>0.011424</td>\n",
       "      <td>...</td>\n",
       "      <td>0.777456</td>\n",
       "      <td>0.749855</td>\n",
       "      <td>0.714544</td>\n",
       "      <td>0.669536</td>\n",
       "      <td>0.612330</td>\n",
       "      <td>0.539778</td>\n",
       "      <td>0.447924</td>\n",
       "      <td>0.331787</td>\n",
       "      <td>0.185106</td>\n",
       "      <td>0.0</td>\n",
       "    </tr>\n",
       "    <tr>\n",
       "      <th>1</th>\n",
       "      <td>2</td>\n",
       "      <td>0</td>\n",
       "      <td>91.388637</td>\n",
       "      <td>0.966002</td>\n",
       "      <td>2.150917e-14</td>\n",
       "      <td>0.002415</td>\n",
       "      <td>0.004830</td>\n",
       "      <td>0.007245</td>\n",
       "      <td>0.009660</td>\n",
       "      <td>0.012075</td>\n",
       "      <td>...</td>\n",
       "      <td>0.821792</td>\n",
       "      <td>0.792616</td>\n",
       "      <td>0.755292</td>\n",
       "      <td>0.707717</td>\n",
       "      <td>0.647249</td>\n",
       "      <td>0.570560</td>\n",
       "      <td>0.473467</td>\n",
       "      <td>0.350708</td>\n",
       "      <td>0.195662</td>\n",
       "      <td>0.0</td>\n",
       "    </tr>\n",
       "    <tr>\n",
       "      <th>2</th>\n",
       "      <td>3</td>\n",
       "      <td>0</td>\n",
       "      <td>91.388637</td>\n",
       "      <td>1.033998</td>\n",
       "      <td>1.726124e-14</td>\n",
       "      <td>0.002585</td>\n",
       "      <td>0.005170</td>\n",
       "      <td>0.007755</td>\n",
       "      <td>0.010340</td>\n",
       "      <td>0.012925</td>\n",
       "      <td>...</td>\n",
       "      <td>0.879637</td>\n",
       "      <td>0.848408</td>\n",
       "      <td>0.808456</td>\n",
       "      <td>0.757533</td>\n",
       "      <td>0.692808</td>\n",
       "      <td>0.610721</td>\n",
       "      <td>0.506794</td>\n",
       "      <td>0.375394</td>\n",
       "      <td>0.209434</td>\n",
       "      <td>0.0</td>\n",
       "    </tr>\n",
       "    <tr>\n",
       "      <th>3</th>\n",
       "      <td>4</td>\n",
       "      <td>0</td>\n",
       "      <td>91.388637</td>\n",
       "      <td>1.086114</td>\n",
       "      <td>3.224782e-14</td>\n",
       "      <td>0.002715</td>\n",
       "      <td>0.005431</td>\n",
       "      <td>0.008146</td>\n",
       "      <td>0.010861</td>\n",
       "      <td>0.013576</td>\n",
       "      <td>...</td>\n",
       "      <td>0.923973</td>\n",
       "      <td>0.891169</td>\n",
       "      <td>0.849204</td>\n",
       "      <td>0.795714</td>\n",
       "      <td>0.727727</td>\n",
       "      <td>0.641503</td>\n",
       "      <td>0.532338</td>\n",
       "      <td>0.394315</td>\n",
       "      <td>0.219990</td>\n",
       "      <td>0.0</td>\n",
       "    </tr>\n",
       "    <tr>\n",
       "      <th>4</th>\n",
       "      <td>5</td>\n",
       "      <td>0</td>\n",
       "      <td>96.600190</td>\n",
       "      <td>0.913886</td>\n",
       "      <td>-1.683285e-14</td>\n",
       "      <td>0.002285</td>\n",
       "      <td>0.004569</td>\n",
       "      <td>0.006854</td>\n",
       "      <td>0.009139</td>\n",
       "      <td>0.011424</td>\n",
       "      <td>...</td>\n",
       "      <td>0.790446</td>\n",
       "      <td>0.764473</td>\n",
       "      <td>0.730740</td>\n",
       "      <td>0.687113</td>\n",
       "      <td>0.630876</td>\n",
       "      <td>0.558564</td>\n",
       "      <td>0.465764</td>\n",
       "      <td>0.346847</td>\n",
       "      <td>0.194641</td>\n",
       "      <td>0.0</td>\n",
       "    </tr>\n",
       "    <tr>\n",
       "      <th>5</th>\n",
       "      <td>6</td>\n",
       "      <td>0</td>\n",
       "      <td>96.600190</td>\n",
       "      <td>0.966002</td>\n",
       "      <td>8.775032e-15</td>\n",
       "      <td>0.002415</td>\n",
       "      <td>0.004830</td>\n",
       "      <td>0.007245</td>\n",
       "      <td>0.009660</td>\n",
       "      <td>0.012075</td>\n",
       "      <td>...</td>\n",
       "      <td>0.835522</td>\n",
       "      <td>0.808068</td>\n",
       "      <td>0.772411</td>\n",
       "      <td>0.726296</td>\n",
       "      <td>0.666852</td>\n",
       "      <td>0.590417</td>\n",
       "      <td>0.492325</td>\n",
       "      <td>0.366627</td>\n",
       "      <td>0.205740</td>\n",
       "      <td>0.0</td>\n",
       "    </tr>\n",
       "    <tr>\n",
       "      <th>6</th>\n",
       "      <td>7</td>\n",
       "      <td>0</td>\n",
       "      <td>96.600190</td>\n",
       "      <td>1.033998</td>\n",
       "      <td>8.449676e-16</td>\n",
       "      <td>0.002585</td>\n",
       "      <td>0.005170</td>\n",
       "      <td>0.007755</td>\n",
       "      <td>0.010340</td>\n",
       "      <td>0.012925</td>\n",
       "      <td>...</td>\n",
       "      <td>0.894334</td>\n",
       "      <td>0.864948</td>\n",
       "      <td>0.826780</td>\n",
       "      <td>0.777420</td>\n",
       "      <td>0.713791</td>\n",
       "      <td>0.631976</td>\n",
       "      <td>0.526979</td>\n",
       "      <td>0.392433</td>\n",
       "      <td>0.220222</td>\n",
       "      <td>0.0</td>\n",
       "    </tr>\n",
       "    <tr>\n",
       "      <th>7</th>\n",
       "      <td>8</td>\n",
       "      <td>0</td>\n",
       "      <td>96.600190</td>\n",
       "      <td>1.086114</td>\n",
       "      <td>3.000161e-14</td>\n",
       "      <td>0.002715</td>\n",
       "      <td>0.005431</td>\n",
       "      <td>0.008146</td>\n",
       "      <td>0.010861</td>\n",
       "      <td>0.013576</td>\n",
       "      <td>...</td>\n",
       "      <td>0.939410</td>\n",
       "      <td>0.908543</td>\n",
       "      <td>0.868452</td>\n",
       "      <td>0.816603</td>\n",
       "      <td>0.749768</td>\n",
       "      <td>0.663829</td>\n",
       "      <td>0.553540</td>\n",
       "      <td>0.412213</td>\n",
       "      <td>0.231322</td>\n",
       "      <td>0.0</td>\n",
       "    </tr>\n",
       "    <tr>\n",
       "      <th>8</th>\n",
       "      <td>9</td>\n",
       "      <td>0</td>\n",
       "      <td>103.399810</td>\n",
       "      <td>0.913886</td>\n",
       "      <td>-1.021608e-14</td>\n",
       "      <td>0.002285</td>\n",
       "      <td>0.004569</td>\n",
       "      <td>0.006854</td>\n",
       "      <td>0.009139</td>\n",
       "      <td>0.011424</td>\n",
       "      <td>...</td>\n",
       "      <td>0.805255</td>\n",
       "      <td>0.781394</td>\n",
       "      <td>0.749772</td>\n",
       "      <td>0.708084</td>\n",
       "      <td>0.653342</td>\n",
       "      <td>0.581670</td>\n",
       "      <td>0.488043</td>\n",
       "      <td>0.365942</td>\n",
       "      <td>0.206915</td>\n",
       "      <td>0.0</td>\n",
       "    </tr>\n",
       "    <tr>\n",
       "      <th>9</th>\n",
       "      <td>10</td>\n",
       "      <td>0</td>\n",
       "      <td>103.399810</td>\n",
       "      <td>0.966002</td>\n",
       "      <td>8.060433e-15</td>\n",
       "      <td>0.002415</td>\n",
       "      <td>0.004830</td>\n",
       "      <td>0.007245</td>\n",
       "      <td>0.009660</td>\n",
       "      <td>0.012075</td>\n",
       "      <td>...</td>\n",
       "      <td>0.851175</td>\n",
       "      <td>0.825954</td>\n",
       "      <td>0.792529</td>\n",
       "      <td>0.748463</td>\n",
       "      <td>0.690600</td>\n",
       "      <td>0.614841</td>\n",
       "      <td>0.515874</td>\n",
       "      <td>0.386811</td>\n",
       "      <td>0.218715</td>\n",
       "      <td>0.0</td>\n",
       "    </tr>\n",
       "    <tr>\n",
       "      <th>10</th>\n",
       "      <td>11</td>\n",
       "      <td>0</td>\n",
       "      <td>103.399810</td>\n",
       "      <td>1.033998</td>\n",
       "      <td>4.545112e-15</td>\n",
       "      <td>0.002585</td>\n",
       "      <td>0.005170</td>\n",
       "      <td>0.007755</td>\n",
       "      <td>0.010340</td>\n",
       "      <td>0.012925</td>\n",
       "      <td>...</td>\n",
       "      <td>0.911089</td>\n",
       "      <td>0.884093</td>\n",
       "      <td>0.848314</td>\n",
       "      <td>0.801147</td>\n",
       "      <td>0.739210</td>\n",
       "      <td>0.658119</td>\n",
       "      <td>0.552186</td>\n",
       "      <td>0.414038</td>\n",
       "      <td>0.234110</td>\n",
       "      <td>0.0</td>\n",
       "    </tr>\n",
       "    <tr>\n",
       "      <th>11</th>\n",
       "      <td>12</td>\n",
       "      <td>0</td>\n",
       "      <td>103.399810</td>\n",
       "      <td>1.086114</td>\n",
       "      <td>2.957729e-14</td>\n",
       "      <td>0.002715</td>\n",
       "      <td>0.005431</td>\n",
       "      <td>0.008146</td>\n",
       "      <td>0.010861</td>\n",
       "      <td>0.013576</td>\n",
       "      <td>...</td>\n",
       "      <td>0.957010</td>\n",
       "      <td>0.928653</td>\n",
       "      <td>0.891071</td>\n",
       "      <td>0.841527</td>\n",
       "      <td>0.776468</td>\n",
       "      <td>0.691289</td>\n",
       "      <td>0.580017</td>\n",
       "      <td>0.434906</td>\n",
       "      <td>0.245910</td>\n",
       "      <td>0.0</td>\n",
       "    </tr>\n",
       "    <tr>\n",
       "      <th>12</th>\n",
       "      <td>13</td>\n",
       "      <td>0</td>\n",
       "      <td>108.611363</td>\n",
       "      <td>0.913886</td>\n",
       "      <td>-2.943002e-14</td>\n",
       "      <td>0.002285</td>\n",
       "      <td>0.004569</td>\n",
       "      <td>0.006854</td>\n",
       "      <td>0.009139</td>\n",
       "      <td>0.011424</td>\n",
       "      <td>...</td>\n",
       "      <td>0.815163</td>\n",
       "      <td>0.792891</td>\n",
       "      <td>0.762904</td>\n",
       "      <td>0.722777</td>\n",
       "      <td>0.669325</td>\n",
       "      <td>0.598362</td>\n",
       "      <td>0.504385</td>\n",
       "      <td>0.380165</td>\n",
       "      <td>0.216199</td>\n",
       "      <td>0.0</td>\n",
       "    </tr>\n",
       "    <tr>\n",
       "      <th>13</th>\n",
       "      <td>14</td>\n",
       "      <td>0</td>\n",
       "      <td>108.611363</td>\n",
       "      <td>0.966002</td>\n",
       "      <td>1.450267e-15</td>\n",
       "      <td>0.002415</td>\n",
       "      <td>0.004830</td>\n",
       "      <td>0.007245</td>\n",
       "      <td>0.009660</td>\n",
       "      <td>0.012075</td>\n",
       "      <td>...</td>\n",
       "      <td>0.861649</td>\n",
       "      <td>0.838107</td>\n",
       "      <td>0.806409</td>\n",
       "      <td>0.763994</td>\n",
       "      <td>0.707494</td>\n",
       "      <td>0.632484</td>\n",
       "      <td>0.533148</td>\n",
       "      <td>0.401844</td>\n",
       "      <td>0.228528</td>\n",
       "      <td>0.0</td>\n",
       "    </tr>\n",
       "    <tr>\n",
       "      <th>14</th>\n",
       "      <td>15</td>\n",
       "      <td>0</td>\n",
       "      <td>108.611363</td>\n",
       "      <td>1.033998</td>\n",
       "      <td>-7.947273e-15</td>\n",
       "      <td>0.002585</td>\n",
       "      <td>0.005170</td>\n",
       "      <td>0.007755</td>\n",
       "      <td>0.010340</td>\n",
       "      <td>0.012925</td>\n",
       "      <td>...</td>\n",
       "      <td>0.922300</td>\n",
       "      <td>0.897100</td>\n",
       "      <td>0.863172</td>\n",
       "      <td>0.817771</td>\n",
       "      <td>0.757294</td>\n",
       "      <td>0.677004</td>\n",
       "      <td>0.570676</td>\n",
       "      <td>0.430130</td>\n",
       "      <td>0.244614</td>\n",
       "      <td>0.0</td>\n",
       "    </tr>\n",
       "    <tr>\n",
       "      <th>15</th>\n",
       "      <td>16</td>\n",
       "      <td>0</td>\n",
       "      <td>108.611363</td>\n",
       "      <td>1.086114</td>\n",
       "      <td>2.086219e-14</td>\n",
       "      <td>0.002715</td>\n",
       "      <td>0.005431</td>\n",
       "      <td>0.008146</td>\n",
       "      <td>0.010861</td>\n",
       "      <td>0.013576</td>\n",
       "      <td>...</td>\n",
       "      <td>0.968785</td>\n",
       "      <td>0.942316</td>\n",
       "      <td>0.906677</td>\n",
       "      <td>0.858988</td>\n",
       "      <td>0.795463</td>\n",
       "      <td>0.711127</td>\n",
       "      <td>0.599440</td>\n",
       "      <td>0.451809</td>\n",
       "      <td>0.256943</td>\n",
       "      <td>0.0</td>\n",
       "    </tr>\n",
       "  </tbody>\n",
       "</table>\n",
       "<p>16 rows × 405 columns</p>\n",
       "</div>"
      ],
      "text/plain": [
       "   run_id iteration          Pe         f             u                      \\\n",
       "      0         0           0         0             0         1         2     \n",
       "0       1         0   91.388637  0.913886 -9.270314e-15  0.002285  0.004569   \n",
       "1       2         0   91.388637  0.966002  2.150917e-14  0.002415  0.004830   \n",
       "2       3         0   91.388637  1.033998  1.726124e-14  0.002585  0.005170   \n",
       "3       4         0   91.388637  1.086114  3.224782e-14  0.002715  0.005431   \n",
       "4       5         0   96.600190  0.913886 -1.683285e-14  0.002285  0.004569   \n",
       "5       6         0   96.600190  0.966002  8.775032e-15  0.002415  0.004830   \n",
       "6       7         0   96.600190  1.033998  8.449676e-16  0.002585  0.005170   \n",
       "7       8         0   96.600190  1.086114  3.000161e-14  0.002715  0.005431   \n",
       "8       9         0  103.399810  0.913886 -1.021608e-14  0.002285  0.004569   \n",
       "9      10         0  103.399810  0.966002  8.060433e-15  0.002415  0.004830   \n",
       "10     11         0  103.399810  1.033998  4.545112e-15  0.002585  0.005170   \n",
       "11     12         0  103.399810  1.086114  2.957729e-14  0.002715  0.005431   \n",
       "12     13         0  108.611363  0.913886 -2.943002e-14  0.002285  0.004569   \n",
       "13     14         0  108.611363  0.966002  1.450267e-15  0.002415  0.004830   \n",
       "14     15         0  108.611363  1.033998 -7.947273e-15  0.002585  0.005170   \n",
       "15     16         0  108.611363  1.086114  2.086219e-14  0.002715  0.005431   \n",
       "\n",
       "                                  ...                                          \\\n",
       "         3         4         5    ...       391       392       393       394   \n",
       "0   0.006854  0.009139  0.011424  ...  0.777456  0.749855  0.714544  0.669536   \n",
       "1   0.007245  0.009660  0.012075  ...  0.821792  0.792616  0.755292  0.707717   \n",
       "2   0.007755  0.010340  0.012925  ...  0.879637  0.848408  0.808456  0.757533   \n",
       "3   0.008146  0.010861  0.013576  ...  0.923973  0.891169  0.849204  0.795714   \n",
       "4   0.006854  0.009139  0.011424  ...  0.790446  0.764473  0.730740  0.687113   \n",
       "5   0.007245  0.009660  0.012075  ...  0.835522  0.808068  0.772411  0.726296   \n",
       "6   0.007755  0.010340  0.012925  ...  0.894334  0.864948  0.826780  0.777420   \n",
       "7   0.008146  0.010861  0.013576  ...  0.939410  0.908543  0.868452  0.816603   \n",
       "8   0.006854  0.009139  0.011424  ...  0.805255  0.781394  0.749772  0.708084   \n",
       "9   0.007245  0.009660  0.012075  ...  0.851175  0.825954  0.792529  0.748463   \n",
       "10  0.007755  0.010340  0.012925  ...  0.911089  0.884093  0.848314  0.801147   \n",
       "11  0.008146  0.010861  0.013576  ...  0.957010  0.928653  0.891071  0.841527   \n",
       "12  0.006854  0.009139  0.011424  ...  0.815163  0.792891  0.762904  0.722777   \n",
       "13  0.007245  0.009660  0.012075  ...  0.861649  0.838107  0.806409  0.763994   \n",
       "14  0.007755  0.010340  0.012925  ...  0.922300  0.897100  0.863172  0.817771   \n",
       "15  0.008146  0.010861  0.013576  ...  0.968785  0.942316  0.906677  0.858988   \n",
       "\n",
       "                                                           \n",
       "         395       396       397       398       399  400  \n",
       "0   0.612330  0.539778  0.447924  0.331787  0.185106  0.0  \n",
       "1   0.647249  0.570560  0.473467  0.350708  0.195662  0.0  \n",
       "2   0.692808  0.610721  0.506794  0.375394  0.209434  0.0  \n",
       "3   0.727727  0.641503  0.532338  0.394315  0.219990  0.0  \n",
       "4   0.630876  0.558564  0.465764  0.346847  0.194641  0.0  \n",
       "5   0.666852  0.590417  0.492325  0.366627  0.205740  0.0  \n",
       "6   0.713791  0.631976  0.526979  0.392433  0.220222  0.0  \n",
       "7   0.749768  0.663829  0.553540  0.412213  0.231322  0.0  \n",
       "8   0.653342  0.581670  0.488043  0.365942  0.206915  0.0  \n",
       "9   0.690600  0.614841  0.515874  0.386811  0.218715  0.0  \n",
       "10  0.739210  0.658119  0.552186  0.414038  0.234110  0.0  \n",
       "11  0.776468  0.691289  0.580017  0.434906  0.245910  0.0  \n",
       "12  0.669325  0.598362  0.504385  0.380165  0.216199  0.0  \n",
       "13  0.707494  0.632484  0.533148  0.401844  0.228528  0.0  \n",
       "14  0.757294  0.677004  0.570676  0.430130  0.244614  0.0  \n",
       "15  0.795463  0.711127  0.599440  0.451809  0.256943  0.0  \n",
       "\n",
       "[16 rows x 405 columns]"
      ]
     },
     "execution_count": 20,
     "metadata": {},
     "output_type": "execute_result"
    }
   ],
   "source": [
    "df = campaign.get_collation_result()\n",
    "df"
   ]
  },
  {
   "cell_type": "markdown",
   "id": "8f66fdbe-8b7c-4d35-85ca-eb45315be818",
   "metadata": {},
   "source": [
    "### Analysis: postprocessing the results"
   ]
  },
  {
   "cell_type": "code",
   "execution_count": 21,
   "id": "c7c41531-1cb5-4ee1-a360-c0a8de605ce7",
   "metadata": {
    "tags": []
   },
   "outputs": [
    {
     "name": "stderr",
     "output_type": "stream",
     "text": [
      "/home/wouter/py-env/lib/python3.9/site-packages/easyvvuq/analysis/sc_analysis.py:1279: RuntimeWarning: invalid value encountered in divide\n",
      "  sobol[u] = D_u[u] / D\n"
     ]
    },
    {
     "data": {
      "text/plain": [
       "['mean', 'var', 'std']"
      ]
     },
     "execution_count": 21,
     "metadata": {},
     "output_type": "execute_result"
    }
   ],
   "source": [
    "results = campaign.analyse(qoi_cols=['u'])\n",
    "results.supported_stats()"
   ]
  },
  {
   "cell_type": "markdown",
   "id": "7ce11640-15f7-4e9e-b53a-dccf47b122ac",
   "metadata": {},
   "source": [
    "### Plotting moments\n",
    "\n",
    "Here we once again plot the mean and standard deviation."
   ]
  },
  {
   "cell_type": "code",
   "execution_count": 22,
   "id": "ad81523e-6b43-4eb0-b3d1-ec25461fb709",
   "metadata": {
    "tags": []
   },
   "outputs": [],
   "source": [
    "code_samples = results.samples['u'].values\n",
    "xx = np.linspace(0, 1, code_samples.shape[1])"
   ]
  },
  {
   "cell_type": "code",
   "execution_count": 23,
   "id": "69e75886-4899-4476-88d6-1c64f944ed1f",
   "metadata": {
    "tags": []
   },
   "outputs": [
    {
     "data": {
      "image/png": "[encoded data removed]",
      "text/plain": [
       "<Figure size 640x480 with 1 Axes>"
      ]
     },
     "metadata": {},
     "output_type": "display_data"
    }
   ],
   "source": [
    "mean = results.describe(qoi = 'u', statistic = 'mean')\n",
    "std = results.describe(qoi = 'u', statistic = 'std')\n",
    "\n",
    "fig = plt.figure()\n",
    "ax = fig.add_subplot(111, xlabel='x', ylabel = 'u')\n",
    "ax.plot(xx, mean, color='dodgerblue', label='mean')\n",
    "ax.plot(xx, mean + std, '--', color='dodgerblue', label='mean +/ std')\n",
    "ax.plot(xx, mean - std, '--', color='dodgerblue')\n",
    "plt.legend(frameon = False)\n",
    "plt.tight_layout()\n",
    "plt.tight_layout()"
   ]
  },
  {
   "cell_type": "markdown",
   "id": "3c7da59c-a990-434e-a572-b3cec1ab8e26",
   "metadata": {},
   "source": [
    "### Fast sampling using the surrogate\n",
    "\n",
    "We again run the SC or PCE surrogate"
   ]
  },
  {
   "cell_type": "code",
   "execution_count": 24,
   "id": "c7535ec5-77a6-4794-ad6a-25d06701d773",
   "metadata": {
    "tags": []
   },
   "outputs": [
    {
     "data": {
      "image/png": "[encoded data removed]",
      "text/plain": [
       "<Figure size 640x480 with 1 Axes>"
      ]
     },
     "metadata": {},
     "output_type": "display_data"
    }
   ],
   "source": [
    "surrogate = results.surrogate()\n",
    "\n",
    "random_inputs = {}\n",
    "n_samples = 1000\n",
    "for param in vary.keys():\n",
    "    random_inputs[param] = vary[param].sample(n_samples)\n",
    "\n",
    "u_surrogate = surrogate(random_inputs)\n",
    "\n",
    "fig = plt.figure()\n",
    "ax = fig.add_subplot(111, xlabel='x', ylabel = 'u')\n",
    "ax.plot(xx, np.array(u_surrogate['u']).T, color='dodgerblue', alpha=0.8, label='surrogate')\n",
    "ax.plot(xx, code_samples.T, color='salmon', label='code')\n",
    "\n",
    "# legend, but remove duplicate labels\n",
    "handles, labels = plt.gca().get_legend_handles_labels()\n",
    "by_label = dict(zip(labels, handles))\n",
    "plt.legend(by_label.values(), by_label.keys())\n",
    "\n",
    "plt.tight_layout()"
   ]
  },
  {
   "cell_type": "markdown",
   "id": "1c1bf274-dc44-485c-86be-a229684a4089",
   "metadata": {},
   "source": [
    "### Plotting the Sobol indices\n",
    "\n",
    "And we plot the Sobol indices."
   ]
  },
  {
   "cell_type": "code",
   "execution_count": 25,
   "id": "b1da581d-e543-412c-95fc-b3d505ffc7e5",
   "metadata": {
    "tags": []
   },
   "outputs": [
    {
     "data": {
      "image/png": "[encoded data removed]",
      "text/plain": [
       "<Figure size 640x480 with 1 Axes>"
      ]
     },
     "metadata": {},
     "output_type": "display_data"
    }
   ],
   "source": [
    "sobols_first = results.sobols_first()\n",
    "\n",
    "fig = plt.figure()\n",
    "ax = fig.add_subplot(111, xlabel='x', ylabel = 'u')\n",
    "\n",
    "for param in vary:\n",
    "    ax.plot(xx, sobols_first['u'][param], label=param)\n",
    "\n",
    "plt.legend(frameon = False)\n",
    "plt.tight_layout()"
   ]
  },
  {
   "cell_type": "code",
   "execution_count": null,
   "id": "ae37022b-1388-48e5-9e3f-d360fa918450",
   "metadata": {},
   "outputs": [],
   "source": []
  }
 ],
 "metadata": {
  "kernelspec": {
   "display_name": "Python 3 (ipykernel)",
   "language": "python",
   "name": "python3"
  },
  "language_info": {
   "codemirror_mode": {
    "name": "ipython",
    "version": 3
   },
   "file_extension": ".py",
   "mimetype": "text/x-python",
   "name": "python",
   "nbconvert_exporter": "python",
   "pygments_lexer": "ipython3",
   "version": "3.9.16"
  }
 },
 "nbformat": 4,
 "nbformat_minor": 5
}
