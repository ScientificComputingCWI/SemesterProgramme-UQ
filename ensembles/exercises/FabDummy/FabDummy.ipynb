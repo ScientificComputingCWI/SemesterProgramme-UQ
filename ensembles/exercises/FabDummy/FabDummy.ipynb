{
 "cells": [
  {
   "cell_type": "markdown",
   "id": "4f80c75c-5618-4d24-a739-a632c3e60d27",
   "metadata": {},
   "source": [
    "# Basic Testing of FabSim3 using a Jupyter notebook\n",
    "\n",
    "This short tutorial shows you how you can use FabSim3 from inside a Jupyter notebook, and demonstrates how you can run simple jobs both locally, and using the ARCHER2 supercomputer."
   ]
  },
  {
   "cell_type": "code",
   "execution_count": 1,
   "id": "84c26fdc-ba35-4c3a-9e96-a847bcae11e7",
   "metadata": {},
   "outputs": [],
   "source": [
    "import os\n",
    "import numpy as np\n",
    "import matplotlib.pyplot as plt"
   ]
  },
  {
   "cell_type": "markdown",
   "id": "a3682a8c-b2fb-4126-aa13-77868592b90d",
   "metadata": {},
   "source": [
    "## Setting up FabSim3\n",
    "\n",
    "We will assume you have FabSim3 installed. If not, you can find instructions [here](https://fabsim3.readthedocs.io/en/latest/). \n",
    "\n",
    "To test whether FabSim3 works and try out some simple commands, you will need to install the FabDummy plugin. Simply run \n",
    "\n",
    "```\n",
    "fabsim localhost install_plugin:FabDummy\n",
    "```\n",
    "\n",
    "This will install the plugin in `FabSim3/plugins/FabDummy`."
   ]
  },
  {
   "cell_type": "markdown",
   "id": "a64331e2-1d1a-4953-a3b6-b776e28293b0",
   "metadata": {},
   "source": [
    "You will now need to configure the FabSim3 script, config and `machines_user.yml` file.\n",
    "\n",
    "**machines_user.yml**\n",
    "\n",
    "This file is located in `FabSim3/fabsim/deploy`. Open it. This is an important file that lets you configure your run environment for various machines, both your `localhost` as well as remote machines. My `localhost` machine is posted below. In yours, also add the last line that says `ade_exec_school`.\n",
    "\n",
    "```python\n",
    "localhost:\n",
    "  username: wouter\n",
    "  partition_name: \"standard\"\n",
    "  qos_name: \"short\"\n",
    "  runtime: 10\n",
    "  nodes: 1\n",
    "  ranks: 1\n",
    "  cores_per_rank: 1\n",
    "  home_path_template: \"/home/wouter/FabSim3/localhost_exe\"\n",
    "```"
   ]
  },
  {
   "cell_type": "markdown",
   "id": "f593cfec-4cc9-432a-b6fc-c7d5938b270c",
   "metadata": {},
   "source": [
    "We will set the following FabSim3 flags:"
   ]
  },
  {
   "cell_type": "code",
   "execution_count": 2,
   "id": "a7d51d36-32ac-4161-8ee0-b3b77f43a3d4",
   "metadata": {
    "tags": []
   },
   "outputs": [],
   "source": [
    "# FabSim3 arguments\n",
    "ARGUMENTS = 'dummy_test,cores=1'\n",
    "# machine to run ensemble on\n",
    "MACHINE = \"localhost\""
   ]
  },
  {
   "cell_type": "markdown",
   "id": "1bb5907a-bdad-4030-8007-5cf287f5efc1",
   "metadata": {},
   "source": [
    "### FabSim3-Python interface\n",
    "\n",
    "FabSim3 is a command line tool, but it features a Python interface that is simply a shell over the commandline tools. It is stored locally here. To import it use"
   ]
  },
  {
   "cell_type": "code",
   "execution_count": 3,
   "id": "4f31d24c-12ce-45ac-86fe-94a776ff70fd",
   "metadata": {
    "tags": []
   },
   "outputs": [],
   "source": [
    "# Import the FabSim3 commandline interface\n",
    "import fabsim3_cmd_api as fab"
   ]
  },
  {
   "cell_type": "markdown",
   "id": "4bb3fa16-1f52-4328-880f-30e37a81c64f",
   "metadata": {},
   "source": [
    "Using FabSim3 through the API is very similar to using it over the command line. However, one important difference is that standard output (stdout) will _not_ be shown in a notebook environment, but standard error (stderr) output will be shown. In addition, the API contains a few extra shorthand functions to make life easier for you.\n",
    "\n",
    "In general, we are now ready to perform a test, in this case to `localhost`. The command `fab.fabsim()` can be used to run any FabSim3 command. It takes three arguments:\n",
    "\n",
    "* command: the name of the Fabsim3 command you seek to use.\n",
    "* arguments: a string containing the arguments of the command as you would type them on the command line.\n",
    "* machine: a string containing the label of the machine you wish to use, e.g. 'localhost' or 'archer2'.\n",
    "\n",
    "**Note**: if you get some type of ssh error, you might have to ssh into the (remote) machine once via the command line before executing `fab.fabsim`.\n",
    "\n",
    "To run a single dummy job, using the `dummy` command, you simply write the following:"
   ]
  },
  {
   "cell_type": "code",
   "execution_count": 4,
   "id": "34129b70-c871-4dd1-bc48-33ea47bdde83",
   "metadata": {
    "tags": []
   },
   "outputs": [
    {
     "name": "stdout",
     "output_type": "stream",
     "text": [
      "Executing fabsim localhost dummy:dummy_test,cores=1\n"
     ]
    }
   ],
   "source": [
    "fab.fabsim('dummy', ARGUMENTS, MACHINE)"
   ]
  },
  {
   "cell_type": "markdown",
   "id": "d3c44cce-a978-474e-b749-b358ce247a40",
   "metadata": {},
   "source": [
    "This will check every minute on the status of the jobs on the remote host, and sleep otherwise, halting further execution of the script. On the localhost this command doesn't do anything."
   ]
  },
  {
   "cell_type": "code",
   "execution_count": 5,
   "id": "f712a84a-2acc-4e43-af55-1231719dac40",
   "metadata": {
    "tags": []
   },
   "outputs": [
    {
     "data": {
      "text/plain": [
       "True"
      ]
     },
     "execution_count": 5,
     "metadata": {},
     "output_type": "execute_result"
    }
   ],
   "source": [
    "# wait for job to complete\n",
    "fab.wait(machine=MACHINE)"
   ]
  },
  {
   "cell_type": "markdown",
   "id": "a3b33249-fbd8-4749-b3db-85916567704a",
   "metadata": {},
   "source": [
    "To get the results without verifying the presence of output files, call `fab.fetch_results(machine=MACHINE)`. You can also call `fab.clear_results(machine, name_results_dir)` to remove a specific FabSim results directory on a given machine."
   ]
  },
  {
   "cell_type": "code",
   "execution_count": 6,
   "id": "9724b102-02b4-4fc8-b6ef-acc5070f00a2",
   "metadata": {},
   "outputs": [
    {
     "name": "stdout",
     "output_type": "stream",
     "text": [
      "Executing fabsim localhost fetch_results\n"
     ]
    },
    {
     "data": {
      "text/plain": [
       "True"
      ]
     },
     "execution_count": 6,
     "metadata": {},
     "output_type": "execute_result"
    }
   ],
   "source": [
    "fab.fetch_results(\"localhost\")\n",
    "\n",
    "# clear results in Fabsim directory, change path to your FabSim3 directory\n",
    "# fab.clear_results(\"localhost\", '/home/wouter/FabSim3/results/')  # localhost\n",
    "# fab.clear_results(\"archer2\", '/work/e723/e723/edeling/FabSim/')  # archer2"
   ]
  },
  {
   "cell_type": "markdown",
   "id": "8f052acc-c8b6-4edb-a9fd-83f4481d4c46",
   "metadata": {},
   "source": [
    "## Visualising output\n",
    "\n",
    "The built-in fetch_results function above retrieves the output of the job you've submitted, and it will have added a directory named `dummy_test_localhost_1` in your FabSim3 results folder.\n",
    "\n",
    "To print the contents of the out.txt file within that directory, we've added a simple print function, which you can run as follows:"
   ]
  },
  {
   "cell_type": "code",
   "execution_count": 8,
   "id": "e5d18dbf-a612-42d9-a96b-1941e4a09cc0",
   "metadata": {},
   "outputs": [
    {
     "name": "stdout",
     "output_type": "stream",
     "text": [
      "Executing fabsim localhost print_dummy_output:dummy_test_localhost_1\n"
     ]
    },
    {
     "name": "stderr",
     "output_type": "stream",
     "text": [
      "File Content:\n",
      " This dummy test has been concluded with great success.\n",
      "Tue  8 Oct 09:42:37 BST 2024\n",
      "\n"
     ]
    }
   ],
   "source": [
    "fab.fabsim('print_dummy_output','dummy_test_localhost_1','localhost')"
   ]
  },
  {
   "cell_type": "markdown",
   "id": "216873f8-cca5-464f-9c78-114d40fb7d67",
   "metadata": {},
   "source": [
    "## Running an ensemble of dummies\n",
    "\n",
    "Hopefully you have been able to run the job above, and print its output, without too much difficulty. In this next part we will explain how to run ensembles using FabSim3.\n",
    "\n",
    "If you look at the input files for the `dummy_test` configuration (viewable online here: https://github.com/djgroen/FabDummy/tree/master/config_files/dummy_test) then you will find a `dummy.txt` file and a directory named `SWEEP`. \n",
    "* When you were running the dummy job above, the `dummy.txt` file was used as input for the dummy printer.\n",
    "* The `SWEEP/` directory however, contains input for every instance if you decide to run the configuration as an ensemble.\n",
    "  * Each subdirectory in `SWEEP/` contains input files for one instance in the ensemble, while files in the main config directory (in this case `dummy.txt`) will be passed on as input for _all_ instances in the ensemble.\n",
    " \n",
    "To start an ensemble locally using these inputs, and without replicas, you can use the following command:"
   ]
  },
  {
   "cell_type": "code",
   "execution_count": null,
   "id": "a472f2f6-ab4a-4c26-9a8b-74ba56e50cf1",
   "metadata": {},
   "outputs": [],
   "source": [
    "fab.fabsim('dummy_ensemble','dummy_test,cores=1','localhost')"
   ]
  },
  {
   "cell_type": "markdown",
   "id": "30b5577e-c700-44cf-8031-556c78bd5fd3",
   "metadata": {},
   "source": [
    "**Exercises**\n",
    "* Can you add the commands below, which allow you to wait for completion, and then to fetch the results?\n",
    "* When you fetch the results, have a look at your results directory too. Do you notice anything unusual about the structure of your run outputs?"
   ]
  },
  {
   "cell_type": "code",
   "execution_count": null,
   "id": "e31f6742-6ede-4bdd-ad21-b2f9cb39e760",
   "metadata": {},
   "outputs": [],
   "source": []
  },
  {
   "cell_type": "markdown",
   "id": "5c84f899-dabd-4d5a-a6a3-8cfdcbd85663",
   "metadata": {},
   "source": [
    "**Exercise**\n",
    "Now that the job is completed and the results are fetched, you will want to use the `print_dummy_output` mentioned above once more to print the output of specific dummy_test instances. However, you may notice that the structure of your results directory is a bit different now. \n",
    "* Do you know what results path you need to use to print the output of the `d2` instance? (hint: your argument will be containing at least one '/' to denote a subpath if you get it to work correctly.)"
   ]
  },
  {
   "cell_type": "code",
   "execution_count": null,
   "id": "a6b56633-23f1-46d2-90ef-3b528a61b16f",
   "metadata": {},
   "outputs": [],
   "source": []
  },
  {
   "cell_type": "markdown",
   "id": "c4c6cc4b-8439-4568-a344-d190a61995f2",
   "metadata": {},
   "source": [
    "## Running an ensemble with replicas\n",
    "\n",
    "Now that you are able to run an ensemble, let's replicate all the instances 5 times! Fortunately this can be done quite easily, by adding the `replicas=5` argument to your dummy_ensemble argument. See the modified function below.\n",
    "\n",
    "(_Note:_ the `replicas=5` argument trick works for any ensemble execution function in FabSim3, not just `dummy_ensemble`.) "
   ]
  },
  {
   "cell_type": "code",
   "execution_count": null,
   "id": "594006b0-a647-4a8b-aec6-6b5661caa1a2",
   "metadata": {},
   "outputs": [],
   "source": [
    "fab.fabsim('dummy_ensemble','dummy_test,cores=1,replicas=5','localhost')"
   ]
  },
  {
   "cell_type": "markdown",
   "id": "5e304e65-1b5a-4559-9a0f-c01adc396f90",
   "metadata": {},
   "source": [
    "**Last little exercise**\n",
    "As above, add a function to wait for completion and one to fetch the results again. Look at the directory structure of your ensemble run results, and notice how different subdirectories with outputs have been created for each replica.\n",
    "* Do you know what results path you need to use to print the output of the 4th replica of the `d3` instance of the ensemble?"
   ]
  },
  {
   "cell_type": "code",
   "execution_count": null,
   "id": "0ceb5dae-2d72-4dad-98ec-e0e330dff8ce",
   "metadata": {},
   "outputs": [],
   "source": []
  },
  {
   "cell_type": "markdown",
   "id": "54dffb38-5638-4815-960a-d85a2e359af9",
   "metadata": {},
   "source": [
    "## Assigment: repeat on Archer2\n",
    "\n",
    "If you have aquired access to Archer2, you can redo this exercise, except run the ensemble on Archer2 instead on your laptop. To do so you you will need to:\n",
    "\n",
    "* Copy the advection-diffusion model to a location in Archer2. From within this path, you can do so via `scp -r advection_diffusion_model/ <username>@login.archer2.ac.uk:~/`, replacing `<username>` with your archer2 user name. This will copy `advection_diffusion_model/*` to your Archer2 home directory.\n",
    "* Configure Archer2 in your `machines_user.yml` file. My file is posted below. Copy it, replace the archer2 entry in your `machine_user.yml`, and modify where needed, replacing my username with yours, and my project (`e723`) with yours (`ta171`). Note that for larger models, this is also where you can request more than 1 compute node.\n",
    "\n",
    "```python\n",
    "archer2:\n",
    "  username: \"edeling\"\n",
    "  project: \"e723\"\n",
    "  budget: \"e723-edeling\"\n",
    "  manual_ssh: true\n",
    "  remote: \"archer2\"\n",
    "  job_wall_time: '0-00:10:00'\n",
    "  partition_name: \"standard\"\n",
    "  ade_exec_school : \"/home/e723/e723/edeling/advection_diffusion_model/advection_diffusion.py\"\n",
    "  qos_name: \"short\"\n",
    "  runtime: 10\n",
    "  nodes: 1\n",
    "  ranks: 1\n",
    "  cores_per_rank: 1\n",
    "  run_prefix_commands: [\"export PYTHONUSERBASE=/work/$project/$project/$username/.local\", \"export PATH=$PYTHONUSERBASE/bin:$PATH\", \"export PYTHONPATH=$PYTHONUSERBASE/lib/python3.9/site-packages:$PYTHONPATH\"]\n",
    "  modules:\n",
    "        loaded: [\"cray-python/3.9.13.1\"]\n",
    "        unloaded: [\"cray-python\"]\n",
    "```\n",
    "\n",
    "* Once Archer2 if configured properly, switching from local ensemble execution to execution on Archer2 is done by simply changing the `MACHINE` flag in this notebook from `\"localhost\"` to `\"archer2\"`."
   ]
  },
  {
   "cell_type": "code",
   "execution_count": null,
   "id": "37364a06-a528-470f-9a91-66e453175df8",
   "metadata": {},
   "outputs": [],
   "source": []
  }
 ],
 "metadata": {
  "kernelspec": {
   "display_name": "Python 3 (ipykernel)",
   "language": "python",
   "name": "python3"
  },
  "language_info": {
   "codemirror_mode": {
    "name": "ipython",
    "version": 3
   },
   "file_extension": ".py",
   "mimetype": "text/x-python",
   "name": "python",
   "nbconvert_exporter": "python",
   "pygments_lexer": "ipython3",
   "version": "3.10.12"
  }
 },
 "nbformat": 4,
 "nbformat_minor": 5
}
