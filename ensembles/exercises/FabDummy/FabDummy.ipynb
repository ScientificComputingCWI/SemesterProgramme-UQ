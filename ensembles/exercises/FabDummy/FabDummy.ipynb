{
 "cells": [
  {
   "cell_type": "markdown",
   "id": "4f80c75c-5618-4d24-a739-a632c3e60d27",
   "metadata": {},
   "source": [
    "# Basic Testing of FabSim3 using a Jupyter notebook\n",
    "\n",
    "This short tutorial shows you how you can use FabSim3 from inside a Jupyter notebook, and demonstrates how you can run simple jobs both locally, and using the ARCHER2 supercomputer."
   ]
  },
  {
   "cell_type": "code",
   "execution_count": 1,
   "id": "84c26fdc-ba35-4c3a-9e96-a847bcae11e7",
   "metadata": {},
   "outputs": [],
   "source": [
    "import os\n",
    "import numpy as np\n",
    "import matplotlib.pyplot as plt"
   ]
  },
  {
   "cell_type": "markdown",
   "id": "a3682a8c-b2fb-4126-aa13-77868592b90d",
   "metadata": {},
   "source": [
    "## Setting up FabSim3\n",
    "\n",
    "We will assume you have FabSim3 installed. If not, you can find instructions [here](https://fabsim3.readthedocs.io/en/latest/). \n",
    "\n",
    "To test whether FabSim3 works and try out some simple commands, you will need to install the FabDummy plugin. Simply run \n",
    "\n",
    "```\n",
    "fabsim localhost install_plugin:FabDummy\n",
    "```\n",
    "\n",
    "This will install the plugin in `FabSim3/plugins/FabDummy`."
   ]
  },
  {
   "cell_type": "markdown",
   "id": "a64331e2-1d1a-4953-a3b6-b776e28293b0",
   "metadata": {},
   "source": [
    "You will now need to configure the FabSim3 script, config and `machines_user.yml` file.\n",
    "\n",
    "**machines_user.yml**\n",
    "\n",
    "This file is located in `FabSim3/fabsim/deploy`. Open it. This is an important file that lets you configure your run environment for various machines, both your `localhost` as well as remote machines. My `localhost` machine is posted below. In yours, also add the last line that says `ade_exec_school`.\n",
    "\n",
    "```python\n",
    "localhost:\n",
    "  username: wouter\n",
    "  partition_name: \"standard\"\n",
    "  qos_name: \"short\"\n",
    "  runtime: 10\n",
    "  nodes: 1\n",
    "  ranks: 1\n",
    "  cores_per_rank: 1\n",
    "  home_path_template: \"/home/wouter/FabSim3/localhost_exe\"\n",
    "```"
   ]
  },
  {
   "cell_type": "markdown",
   "id": "f593cfec-4cc9-432a-b6fc-c7d5938b270c",
   "metadata": {},
   "source": [
    "We will set the following FabSim3 flags:"
   ]
  },
  {
   "cell_type": "code",
   "execution_count": 2,
   "id": "a7d51d36-32ac-4161-8ee0-b3b77f43a3d4",
   "metadata": {
    "tags": []
   },
   "outputs": [],
   "source": [
    "# FabSim3 arguments\n",
    "ARGUMENTS = 'dummy_test'\n",
    "# machine to run ensemble on\n",
    "MACHINE = \"localhost\""
   ]
  },
  {
   "cell_type": "markdown",
   "id": "1bb5907a-bdad-4030-8007-5cf287f5efc1",
   "metadata": {},
   "source": [
    "### FabSim3-Python interface\n",
    "\n",
    "FabSim3 is a command line tool, but it features a Python interface that is simply a shell over the commandline tools. It is stored locally here. To import it use"
   ]
  },
  {
   "cell_type": "code",
   "execution_count": 3,
   "id": "4f31d24c-12ce-45ac-86fe-94a776ff70fd",
   "metadata": {
    "tags": []
   },
   "outputs": [],
   "source": [
    "# Import the FabSim3 commandline interface\n",
    "import fabsim3_cmd_api as fab"
   ]
  },
  {
   "cell_type": "markdown",
   "id": "4bb3fa16-1f52-4328-880f-30e37a81c64f",
   "metadata": {},
   "source": [
    "We are now ready to submit the ensemble, in this case to `localhost`. The command `fab.fabsim()` can be used to run any FabSim3 command. It takes three arguments:\n",
    "\n",
    "* command: the name of the Fabsim3 command you seek to use.\n",
    "* arguments: a string containing the arguments of the command as you would type them on the command line.\n",
    "* machine: a string containing the label of the machine you wish to use, e.g. 'localhost' or 'archer2'.\n",
    "\n",
    "**Note**: if you get some type of ssh error, you might have to ssh into the (remote) machine once via the command line before executing `fab.fabsim`.\n",
    "\n",
    "We now proceed to run a single dummy job, using the `dummy` command."
   ]
  },
  {
   "cell_type": "code",
   "execution_count": 4,
   "id": "34129b70-c871-4dd1-bc48-33ea47bdde83",
   "metadata": {
    "tags": []
   },
   "outputs": [
    {
     "name": "stdout",
     "output_type": "stream",
     "text": [
      "Executing fabsim localhost dummy:dummy_test\n"
     ]
    }
   ],
   "source": [
    "fab.fabsim('dummy', ARGUMENTS, MACHINE)"
   ]
  },
  {
   "cell_type": "markdown",
   "id": "d3c44cce-a978-474e-b749-b358ce247a40",
   "metadata": {},
   "source": [
    "This will check every minute on the status of the jobs on the remote host, and sleep otherwise, halting further execution of the script. On the localhost this command doesn't do anything."
   ]
  },
  {
   "cell_type": "code",
   "execution_count": 5,
   "id": "f712a84a-2acc-4e43-af55-1231719dac40",
   "metadata": {
    "tags": []
   },
   "outputs": [
    {
     "data": {
      "text/plain": [
       "True"
      ]
     },
     "execution_count": 5,
     "metadata": {},
     "output_type": "execute_result"
    }
   ],
   "source": [
    "# wait for job to complete\n",
    "fab.wait(machine=MACHINE)"
   ]
  },
  {
   "cell_type": "markdown",
   "id": "a3b33249-fbd8-4749-b3db-85916567704a",
   "metadata": {},
   "source": [
    "`fab.verify` will execute the `verify_last_ensemble` subroutine to see if the output file `target_filename` (`output.csv` in our case) for each run in the `SWEEP` directory is present in the corresponding FabSim3 results directory. Returns a boolean flag. `fab.verify` will also call the FabSim `fetch_results` method, which actually retrieves the results from the (remote) host. \n",
    "\n",
    "So, if you want to just get the results without verifying the presence of output files, call `fab.fetch_results(machine=MACHINE)` instead. However, if something went wrong on the (remote) host, this will cause an error later on since not all required output files will be transfered on the EasyVVUQ `WORK_DIR`."
   ]
  },
  {
   "cell_type": "markdown",
   "id": "01570899-10cb-4d14-8dca-b86e7e04cc32",
   "metadata": {},
   "source": [
    "`fab.get_uq_samples` copies the samples from the (local) FabSim results directory to the (local) EasyVVUQ campaign directory. It will not delete the results from the FabSim results directory. If you want to save space, you can delete the results on the FabSim side (see `results` directory in your FabSim home directory). You can also call `fab.clear_results(machine, name_results_dir)` to remove a specific FabSim results directory on a given machine."
   ]
  },
  {
   "cell_type": "markdown",
   "id": "4c4911db-8a5f-4f6c-ab1d-994d09c61e45",
   "metadata": {},
   "source": [
    "Once all output files are copied to the EasyVVUQ run directories, we no longer need the (now duplicate) results in the FabSim3 directory. You can remove these via the command below, once you change the path from my FabSim3 directory to yours."
   ]
  },
  {
   "cell_type": "code",
   "execution_count": 29,
   "id": "9724b102-02b4-4fc8-b6ef-acc5070f00a2",
   "metadata": {},
   "outputs": [
    {
     "name": "stdout",
     "output_type": "stream",
     "text": [
      "Executing fabsim archer2 clear_results:/work/e723/e723/edeling/FabSim/\n"
     ]
    },
    {
     "name": "stderr",
     "output_type": "stream",
     "text": [
      "/home/wouter/anaconda3/lib/python3.9/site-packages/paramiko/transport.py:219: CryptographyDeprecationWarning: Blowfish has been deprecated\n",
      "  \"class\": algorithms.Blowfish,\n"
     ]
    }
   ],
   "source": [
    "# clear results in Fabsim directory, change path to your FabSim3 directory\n",
    "fab.clear_results(\"localhost\", '/home/wouter/FabSim3/results/')  # localhost\n",
    "# fab.clear_results(\"archer2\", '/work/e723/e723/edeling/FabSim/')  # archer2"
   ]
  },
  {
   "cell_type": "markdown",
   "id": "54dffb38-5638-4815-960a-d85a2e359af9",
   "metadata": {},
   "source": [
    "## Assigment: repeat on Archer2\n",
    "\n",
    "If you have aquired access to Archer2, you can redo this exercise, except run the ensemble on Archer2 instead on your laptop. To do so you you will need to:\n",
    "\n",
    "* Copy the advection-diffusion model to a location in Archer2. From within this path, you can do so via `scp -r advection_diffusion_model/ <username>@login.archer2.ac.uk:~/`, replacing `<username>` with your archer2 user name. This will copy `advection_diffusion_model/*` to your Archer2 home directory.\n",
    "* Configure Archer2 in your `machines_user.yml` file. My file is posted below. Copy it, replace the archer2 entry in your `machine_user.yml`, and modify where needed, replacing my username with yours, and my project (`e723`) with yours (`ta171`). Note that for larger models, this is also where you can request more than 1 compute node.\n",
    "\n",
    "```python\n",
    "archer2:\n",
    "  username: \"edeling\"\n",
    "  project: \"e723\"\n",
    "  budget: \"e723-edeling\"\n",
    "  manual_ssh: true\n",
    "  remote: \"archer2\"\n",
    "  job_wall_time: '0-00:10:00'\n",
    "  partition_name: \"standard\"\n",
    "  ade_exec_school : \"/home/e723/e723/edeling/advection_diffusion_model/advection_diffusion.py\"\n",
    "  qos_name: \"short\"\n",
    "  runtime: 10\n",
    "  nodes: 1\n",
    "  ranks: 1\n",
    "  cores_per_rank: 1\n",
    "  run_prefix_commands: [\"export PYTHONUSERBASE=/work/$project/$project/$username/.local\", \"export PATH=$PYTHONUSERBASE/bin:$PATH\", \"export PYTHONPATH=$PYTHONUSERBASE/lib/python3.9/site-packages:$PYTHONPATH\"]\n",
    "  modules:\n",
    "        loaded: [\"cray-python/3.9.13.1\"]\n",
    "        unloaded: [\"cray-python\"]\n",
    "```\n",
    "\n",
    "* Once Archer2 if configured properly, switching from local ensemble execution to execution on Archer2 is done by simply changing the `MACHINE` flag in this notebook from `\"localhost\"` to `\"archer2\"`."
   ]
  },
  {
   "cell_type": "code",
   "execution_count": null,
   "id": "37364a06-a528-470f-9a91-66e453175df8",
   "metadata": {},
   "outputs": [],
   "source": []
  }
 ],
 "metadata": {
  "kernelspec": {
   "display_name": "Python 3 (ipykernel)",
   "language": "python",
   "name": "python3"
  },
  "language_info": {
   "codemirror_mode": {
    "name": "ipython",
    "version": 3
   },
   "file_extension": ".py",
   "mimetype": "text/x-python",
   "name": "python",
   "nbconvert_exporter": "python",
   "pygments_lexer": "ipython3",
   "version": "3.10.12"
  }
 },
 "nbformat": 4,
 "nbformat_minor": 5
}
